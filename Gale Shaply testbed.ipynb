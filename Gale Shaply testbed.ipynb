{
 "cells": [
  {
   "cell_type": "code",
   "execution_count": 1,
   "metadata": {},
   "outputs": [],
   "source": [
    "import random\n",
    "from DeferredAcceptance import GSDA\n",
    "from DeferredAcceptance import Person\n",
    "from collections import deque\n",
    "import heapq as hq\n",
    "\n"
   ]
  },
  {
   "cell_type": "code",
   "execution_count": 8,
   "metadata": {},
   "outputs": [
    {
     "data": {
      "text/plain": [
       "[(0, [0, 1]),\n",
       " (1, [0, 1]),\n",
       " (2, [2, 3]),\n",
       " (3, [2, 3]),\n",
       " (4, [4, 5]),\n",
       " (5, [4, 5]),\n",
       " (6, [6, 7]),\n",
       " (7, [6, 7]),\n",
       " (8, [8, 9]),\n",
       " (9, [8, 9]),\n",
       " (10, [10, 11]),\n",
       " (11, [10, 11]),\n",
       " (12, [12, 13]),\n",
       " (13, [12, 13]),\n",
       " (14, [14, 15]),\n",
       " (15, [14, 15]),\n",
       " (16, [16, 17]),\n",
       " (17, [16, 17]),\n",
       " (18, [18, 19]),\n",
       " (19, [18, 19]),\n",
       " (20, [20, 21]),\n",
       " (21, [20, 21]),\n",
       " (22, [22, 23]),\n",
       " (23, [22, 23]),\n",
       " (24, [24, 25]),\n",
       " (25, [24, 25]),\n",
       " (26, [26, 27]),\n",
       " (27, [26, 27]),\n",
       " (28, [28, 29]),\n",
       " (29, [28, 29]),\n",
       " (30, [30, 31]),\n",
       " (31, [30, 31]),\n",
       " (32, [32, 33]),\n",
       " (33, [32, 33]),\n",
       " (34, [34, 35]),\n",
       " (35, [34, 35]),\n",
       " (36, [36, 37]),\n",
       " (37, [36, 37]),\n",
       " (38, [38, 39]),\n",
       " (39, [38, 39]),\n",
       " (40, [40, 41]),\n",
       " (41, [40, 41]),\n",
       " (42, [42, 43]),\n",
       " (43, [42, 43]),\n",
       " (44, [44, 45]),\n",
       " (45, [44, 45]),\n",
       " (46, [46, 47]),\n",
       " (47, [46, 47]),\n",
       " (48, [48, 49]),\n",
       " (49, [48, 49])]"
      ]
     },
     "execution_count": 8,
     "metadata": {},
     "output_type": "execute_result"
    }
   ],
   "source": [
    "\n",
    "def generate_preferences(n, sigma):\n",
    "  sigma = sigma * n / 2\n",
    "  m_pref = [sorted([(random.gauss(j, sigma), j) for j in range(n)]) for i in range(n)]\n",
    "  w_pref = [sorted([(random.gauss(j, sigma), j) for j in range(n)]) for i in range(n)]\n",
    "\n",
    "  return (m_pref, w_pref)\n",
    "\n",
    "(m_pref, w_pref) = generate_preferences(50, 0)\n",
    "\n",
    "couples_when_men_propose = GSDA(m_pref, w_pref, 2)\n",
    "couples_when_men_propose"
   ]
  },
  {
   "cell_type": "code",
   "execution_count": 3,
   "metadata": {},
   "outputs": [
    {
     "name": "stdout",
     "output_type": "stream",
     "text": [
      "2\n"
     ]
    },
    {
     "data": {
      "text/plain": [
       "[2.5, 3, 5, 31, 4]"
      ]
     },
     "execution_count": 3,
     "metadata": {},
     "output_type": "execute_result"
    }
   ],
   "source": [
    "bob = [5,31,2,3,4]\n",
    "hq.heapify(bob)\n",
    "print(hq.heappushpop(bob, 2.5))\n",
    "bob"
   ]
  }
 ],
 "metadata": {
  "kernelspec": {
   "display_name": "Python 3",
   "language": "python",
   "name": "python3"
  },
  "language_info": {
   "codemirror_mode": {
    "name": "ipython",
    "version": 3
   },
   "file_extension": ".py",
   "mimetype": "text/x-python",
   "name": "python",
   "nbconvert_exporter": "python",
   "pygments_lexer": "ipython3",
   "version": "3.7.3"
  }
 },
 "nbformat": 4,
 "nbformat_minor": 2
}

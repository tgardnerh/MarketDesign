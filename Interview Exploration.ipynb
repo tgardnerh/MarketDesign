{
 "cells": [
  {
   "cell_type": "code",
   "execution_count": 1,
   "metadata": {
    "scrolled": false
   },
   "outputs": [],
   "source": [
    "\n",
    "import DeferredAcceptance as da\n",
    "from operator import itemgetter\n",
    "import random\n",
    "import numpy as np\n"
   ]
  },
  {
   "cell_type": "code",
   "execution_count": 2,
   "metadata": {},
   "outputs": [
    {
     "data": {
      "text/plain": [
       "0.023333333333333334"
      ]
     },
     "execution_count": 2,
     "metadata": {},
     "output_type": "execute_result"
    }
   ],
   "source": [
    "n = 300\n",
    "m = 15\n",
    "sigma = .05\n",
    "sigma_interview = .1\n",
    "(m_pref, w_pref) = (da.generate_preferences(n, sigma),da.generate_preferences(n, sigma))\n",
    "\n",
    "interviews = da.GSDA(m_pref, w_pref, m)\n",
    "\n",
    "\n",
    "def percent_diff(m_pref, w_pref):\n",
    "    \n",
    "    man_opt   =      [(i, j[0]) for i, j in da.GSDA(m_pref, w_pref, 1)]\n",
    "    woman_opt = dict([(j[0], i) for i, j in da.GSDA(w_pref, m_pref, 1)])\n",
    "\n",
    "    n_different = 0\n",
    "    for i, j in man_opt:\n",
    "        if woman_opt[i] != j:\n",
    "            n_different += 1\n",
    "    pct_diff = n_different/ len(man_opt)\n",
    "    return(pct_diff)\n",
    "\n",
    "percent_diff(m_pref, w_pref)"
   ]
  },
  {
   "cell_type": "code",
   "execution_count": 3,
   "metadata": {
    "scrolled": false
   },
   "outputs": [],
   "source": [
    "# I want to do this, but pretty and efficient, for both sides of the market:\n",
    "\n",
    "for man_pref in m_pref:\n",
    "    man_pref = man_pref.sort(key= itemgetter(1))\n",
    "\n",
    "for woman in interviews:\n",
    "    w_pref[woman[0]].sort(key = itemgetter(1))\n",
    "    for interviewed_man in woman[1]:\n",
    "       w_pref[woman[0]][interviewed_man] = (random.gauss(w_pref[woman[0]][interviewed_man][0], sigma_interview), interviewed_man)\n",
    "       m_pref[interviewed_man][woman[0]] = (random.gauss(m_pref[interviewed_man][woman[0]][0], sigma_interview), woman[0])\n",
    "    w_pref[woman[0]].sort(key = itemgetter(0))\n",
    "    \n",
    "\n",
    "for man_pref in m_pref:\n",
    "    man_pref = man_pref.sort(key= itemgetter(0))\n",
    "    \n",
    "    "
   ]
  },
  {
   "cell_type": "code",
   "execution_count": 4,
   "metadata": {},
   "outputs": [],
   "source": [
    "matchlist = da.GSDA(m_pref, w_pref, 1)\n"
   ]
  },
  {
   "cell_type": "code",
   "execution_count": 5,
   "metadata": {},
   "outputs": [
    {
     "data": {
      "text/plain": [
       "0.7033333333333334"
      ]
     },
     "execution_count": 5,
     "metadata": {},
     "output_type": "execute_result"
    }
   ],
   "source": [
    "np.mean([match[1][0] in interviews[match[0]][1] for match in enumerate(matchlist)])"
   ]
  },
  {
   "cell_type": "code",
   "execution_count": 6,
   "metadata": {
    "scrolled": true
   },
   "outputs": [
    {
     "data": {
      "text/plain": [
       "0.03"
      ]
     },
     "execution_count": 6,
     "metadata": {},
     "output_type": "execute_result"
    }
   ],
   "source": [
    "percent_diff(m_pref, w_pref)"
   ]
  },
  {
   "cell_type": "code",
   "execution_count": null,
   "metadata": {
    "scrolled": true
   },
   "outputs": [],
   "source": []
  }
 ],
 "metadata": {
  "kernelspec": {
   "display_name": "Python 3",
   "language": "python",
   "name": "python3"
  },
  "language_info": {
   "codemirror_mode": {
    "name": "ipython",
    "version": 3
   },
   "file_extension": ".py",
   "mimetype": "text/x-python",
   "name": "python",
   "nbconvert_exporter": "python",
   "pygments_lexer": "ipython3",
   "version": "3.7.3"
  }
 },
 "nbformat": 4,
 "nbformat_minor": 2
}

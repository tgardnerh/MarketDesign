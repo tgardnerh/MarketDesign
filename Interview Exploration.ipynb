{
 "cells": [
  {
   "cell_type": "code",
   "execution_count": 42,
   "metadata": {
    "scrolled": false
   },
   "outputs": [],
   "source": [
    "\n",
    "import DeferredAcceptance as da\n",
    "from operator import itemgetter\n",
    "import random\n"
   ]
  },
  {
   "cell_type": "code",
   "execution_count": 46,
   "metadata": {},
   "outputs": [
    {
     "name": "stdout",
     "output_type": "stream",
     "text": [
      "[(0, [1, 3]), (1, [4, 0]), (2, [4, 2]), (3, [0, 3]), (4, [2, 1])]\n"
     ]
    }
   ],
   "source": [
    "n = 5\n",
    "m = 2\n",
    "sigma = 5\n",
    "sigma_interview = 2\n",
    "(m_pref, w_pref) = (da.generate_preferences(n, sigma),da.generate_preferences(n, sigma))\n",
    "\n",
    "interviews = da.GSDA(m_pref, w_pref, m)\n",
    "print(interviews)\n"
   ]
  },
  {
   "cell_type": "code",
   "execution_count": 57,
   "metadata": {
    "scrolled": false
   },
   "outputs": [],
   "source": [
    "# I want to do this, but pretty and efficient, for both sides of the market:\n",
    "\n",
    "for woman in interviews:\n",
    "    w_pref[woman[0]].sort(key = itemgetter(1))\n",
    "    for interviewed_man in woman[1]:\n",
    "       w_pref[woman[0]][interviewed_man] = (random.gauss(w_pref[woman[0]][interviewed_man][0], sigma_interview), interviewed_man)\n",
    "    w_pref[woman[0]].sort(key = itemgetter(0))\n",
    "    \n",
    "    \n",
    "    "
   ]
  },
  {
   "cell_type": "code",
   "execution_count": 58,
   "metadata": {},
   "outputs": [
    {
     "data": {
      "text/plain": [
       "[[(-8.474161976561962, 2),\n",
       "  (-6.807365232193485, 1),\n",
       "  (-1.8580060990940543, 4),\n",
       "  (5.353632548008883, 0),\n",
       "  (20.493903430201023, 3)],\n",
       " [(-4.930546366303007, 4),\n",
       "  (-0.8216930581115991, 1),\n",
       "  (1.115797011394982, 3),\n",
       "  (2.001811549720267, 0),\n",
       "  (11.260539710791296, 2)],\n",
       " [(-10.183319640207234, 3),\n",
       "  (-2.3359427327005453, 1),\n",
       "  (0.8068049346405015, 2),\n",
       "  (3.5014751784287563, 4),\n",
       "  (8.172282139425477, 0)],\n",
       " [(-16.73338511017861, 4),\n",
       "  (3.92222970353584, 3),\n",
       "  (3.985320968894488, 2),\n",
       "  (5.865545290110774, 1),\n",
       "  (10.1469109843235, 0)],\n",
       " [(-11.6717811922041, 4),\n",
       "  (-7.35300205657864, 1),\n",
       "  (-3.185557753962117, 2),\n",
       "  (18.041627725476552, 3),\n",
       "  (28.610590359658772, 0)]]"
      ]
     },
     "execution_count": 58,
     "metadata": {},
     "output_type": "execute_result"
    }
   ],
   "source": [
    "w_pref"
   ]
  },
  {
   "cell_type": "code",
   "execution_count": null,
   "metadata": {},
   "outputs": [],
   "source": []
  },
  {
   "cell_type": "code",
   "execution_count": null,
   "metadata": {},
   "outputs": [],
   "source": []
  },
  {
   "cell_type": "code",
   "execution_count": null,
   "metadata": {
    "scrolled": true
   },
   "outputs": [],
   "source": []
  },
  {
   "cell_type": "code",
   "execution_count": null,
   "metadata": {
    "scrolled": true
   },
   "outputs": [],
   "source": []
  }
 ],
 "metadata": {
  "kernelspec": {
   "display_name": "Python 3",
   "language": "python",
   "name": "python3"
  },
  "language_info": {
   "codemirror_mode": {
    "name": "ipython",
    "version": 3
   },
   "file_extension": ".py",
   "mimetype": "text/x-python",
   "name": "python",
   "nbconvert_exporter": "python",
   "pygments_lexer": "ipython3",
   "version": "3.7.3"
  }
 },
 "nbformat": 4,
 "nbformat_minor": 2
}

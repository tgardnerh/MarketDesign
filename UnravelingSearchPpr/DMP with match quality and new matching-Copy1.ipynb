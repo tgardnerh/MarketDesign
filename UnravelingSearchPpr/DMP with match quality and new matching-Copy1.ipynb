{
 "cells": [
  {
   "cell_type": "code",
   "execution_count": 1,
   "metadata": {},
   "outputs": [],
   "source": [
    "import sympy as sym\n",
    "import numpy as np\n",
    "sym.init_printing()\n",
    "\n",
    "import matplotlib\n",
    "import matplotlib.pyplot as plt\n",
    "\n",
    "from IPython.core.display import display, HTML\n",
    "#display(HTML(\"<style>.container { width:100% !important; }</style>\"))"
   ]
  },
  {
   "cell_type": "code",
   "execution_count": 2,
   "metadata": {},
   "outputs": [],
   "source": [
    "alpha, r, lam, R, v, u, beta, c = sym.symbols('alpha, r, lambda, R, v, u, beta, c')"
   ]
  },
  {
   "cell_type": "code",
   "execution_count": null,
   "metadata": {},
   "outputs": [],
   "source": []
  },
  {
   "cell_type": "code",
   "execution_count": 3,
   "metadata": {},
   "outputs": [
    {
     "data": {
      "image/png": "[encoded data removed]",
      "text/latex": [
       "$\\displaystyle - R e^{R} + \\frac{\\beta v}{\\lambda + r}$"
      ],
      "text/plain": [
       "     R    β⋅v \n",
       "- R⋅ℯ  + ─────\n",
       "         λ + r"
      ]
     },
     "execution_count": 3,
     "metadata": {},
     "output_type": "execute_result"
    }
   ],
   "source": [
    "workers =  beta * v / (r + lam) -R* sym.exp(R)\n",
    "workers"
   ]
  },
  {
   "cell_type": "code",
   "execution_count": 4,
   "metadata": {},
   "outputs": [
    {
     "data": {
      "image/png": "[encoded data removed]",
      "text/latex": [
       "$\\displaystyle \\frac{c u \\left(1 - \\beta\\right) e^{- R}}{\\lambda + r} - v$"
      ],
      "text/plain": [
       "             -R    \n",
       "c⋅u⋅(1 - β)⋅ℯ      \n",
       "─────────────── - v\n",
       "     λ + r         "
      ]
     },
     "execution_count": 4,
     "metadata": {},
     "output_type": "execute_result"
    }
   ],
   "source": [
    "firms = u*sym.exp(-R)*(1-beta)*c/(r+lam)-v\n",
    "firms"
   ]
  },
  {
   "cell_type": "code",
   "execution_count": 5,
   "metadata": {},
   "outputs": [
    {
     "data": {
      "image/png": "[encoded data removed]",
      "text/latex": [
       "$\\displaystyle - \\lambda \\left(1 - u\\right) + u v e^{- R}$"
      ],
      "text/plain": [
       "                  -R\n",
       "-λ⋅(1 - u) + u⋅v⋅ℯ  "
      ]
     },
     "execution_count": 5,
     "metadata": {},
     "output_type": "execute_result"
    }
   ],
   "source": [
    "steadystate = u*v*sym.exp(-R)-lam*(1-u)\n",
    "steadystate"
   ]
  },
  {
   "cell_type": "code",
   "execution_count": 6,
   "metadata": {},
   "outputs": [
    {
     "data": {
      "image/png": "[encoded data removed]",
      "text/latex": [
       "$\\displaystyle \\left\\{\\left( \\emptyset\\right)\\right\\}$"
      ],
      "text/plain": [
       "{(∅,)}"
      ]
     },
     "execution_count": 6,
     "metadata": {},
     "output_type": "execute_result"
    }
   ],
   "source": [
    "st_frm = sym.nonlinsolve([v/(lam*(1-u))-(1-beta)/(c*(r+lam))],[R])\n",
    "st_frm"
   ]
  },
  {
   "cell_type": "code",
   "execution_count": 7,
   "metadata": {},
   "outputs": [
    {
     "data": {
      "image/png": "[encoded data removed]",
      "text/latex": [
       "$\\displaystyle \\left\\{\\left( \\left\\{R\\right\\} \\setminus \\left\\{- \\frac{\\beta \\lambda}{\\lambda + r}\\right\\}, \\  \\frac{\\beta \\lambda}{R \\lambda + R r + \\beta \\lambda}, \\  \\frac{R \\left(\\lambda + r\\right) e^{R}}{\\beta}\\right)\\right\\}$"
      ],
      "text/plain": [
       "⎧⎛                                           R⎞⎫\n",
       "⎪⎜      ⎧-β⋅λ ⎫        β⋅λ        R⋅(λ + r)⋅ℯ ⎟⎪\n",
       "⎨⎜{R} \\ ⎨─────⎬, ───────────────, ────────────⎟⎬\n",
       "⎪⎝      ⎩λ + r⎭  R⋅λ + R⋅r + β⋅λ       β      ⎠⎪\n",
       "⎩                                              ⎭"
      ]
     },
     "execution_count": 7,
     "metadata": {},
     "output_type": "execute_result"
    }
   ],
   "source": [
    "solution = sym.nonlinsolve([firms, workers, steadystate], [R, u, v])\n",
    "\n",
    "solution"
   ]
  },
  {
   "cell_type": "code",
   "execution_count": 13,
   "metadata": {},
   "outputs": [
    {
     "data": {
      "image/png": "[encoded data removed]",
      "text/latex": [
       "$\\displaystyle \\log{\\left(\\frac{u \\left(1 - \\beta\\right)}{c \\left(\\lambda + r\\right)} \\right)}$"
      ],
      "text/plain": [
       "   ⎛u⋅(1 - β)⎞\n",
       "log⎜─────────⎟\n",
       "   ⎝c⋅(λ + r)⎠"
      ]
     },
     "execution_count": 13,
     "metadata": {},
     "output_type": "execute_result"
    }
   ],
   "source": [
    "R_sol"
   ]
  },
  {
   "cell_type": "code",
   "execution_count": 14,
   "metadata": {},
   "outputs": [
    {
     "data": {
      "image/png": "[encoded data removed]",
      "text/latex": [
       "$\\displaystyle - \\frac{u \\left(\\beta - 1\\right) \\log{\\left(- \\frac{u \\left(\\beta - 1\\right)}{c \\left(\\lambda + r\\right)} \\right)}}{\\beta c}$"
      ],
      "text/plain": [
       "              ⎛-u⋅(β - 1) ⎞ \n",
       "-u⋅(β - 1)⋅log⎜───────────⎟ \n",
       "              ⎝ c⋅(λ + r) ⎠ \n",
       "────────────────────────────\n",
       "            β⋅c             "
      ]
     },
     "execution_count": 14,
     "metadata": {},
     "output_type": "execute_result"
    }
   ],
   "source": [
    "v_sol"
   ]
  },
  {
   "cell_type": "code",
   "execution_count": 15,
   "metadata": {},
   "outputs": [
    {
     "data": {
      "image/png": "[encoded data removed]",
      "text/latex": [
       "$\\displaystyle \\left(1 - u\\right) \\left(\\beta + \\log{\\left(\\frac{u \\left(1 - \\beta\\right)}{c \\left(\\lambda + r\\right)} \\right)}\\right)$"
      ],
      "text/plain": [
       "        ⎛       ⎛u⋅(1 - β)⎞⎞\n",
       "(1 - u)⋅⎜β + log⎜─────────⎟⎟\n",
       "        ⎝       ⎝c⋅(λ + r)⎠⎠"
      ]
     },
     "execution_count": 15,
     "metadata": {},
     "output_type": "execute_result"
    }
   ],
   "source": [
    "welfare = (1-u)*(R_sol+beta)\n",
    "welfare"
   ]
  },
  {
   "cell_type": "code",
   "execution_count": 22,
   "metadata": {},
   "outputs": [
    {
     "data": {
      "image/png": "[encoded data removed]",
      "text/latex": [
       "$\\displaystyle \\left\\{u \\mid u \\in \\mathbb{R} \\wedge - \\beta u - u \\log{\\left(\\frac{u \\left(1 - \\beta\\right)}{c \\left(\\lambda + r\\right)} \\right)} - u + 1 = 0 \\right\\} \\setminus \\left\\{0\\right\\}$"
      ],
      "text/plain": [
       "⎧                        ⎛u⋅(1 - β)⎞            ⎫      \n",
       "⎨u | u ∊ ℝ ∧ -β⋅u - u⋅log⎜─────────⎟ - u + 1 = 0⎬ \\ {0}\n",
       "⎩                        ⎝c⋅(λ + r)⎠            ⎭      "
      ]
     },
     "execution_count": 22,
     "metadata": {},
     "output_type": "execute_result"
    }
   ],
   "source": [
    "foc_welfare_u = sym.diff(welfare, u)\n",
    "sym.solveset(foc_welfare_u, u, domain = sym.S.Reals)"
   ]
  },
  {
   "cell_type": "code",
   "execution_count": 24,
   "metadata": {},
   "outputs": [
    {
     "data": {
      "image/png": "[encoded data removed]",
      "text/latex": [
       "$\\displaystyle \\left\\{0\\right\\}$"
      ],
      "text/plain": [
       "{0}"
      ]
     },
     "execution_count": 24,
     "metadata": {},
     "output_type": "execute_result"
    }
   ],
   "source": [
    "foc_welfare_beta = sym.diff(welfare, beta)\n",
    "sym.solveset(foc_welfare_beta, beta, domain = sym.S.Reals)\n",
    "#foc_welfare_beta"
   ]
  },
  {
   "cell_type": "code",
   "execution_count": 36,
   "metadata": {},
   "outputs": [
    {
     "data": {
      "image/png": "[encoded data removed]",
      "text/latex": [
       "$\\displaystyle \\left\\{\\left( \\left\\{u \\mid u \\in \\mathbb{C} \\wedge \\beta \\lambda \\left(1 - u\\right) - u \\left(\\lambda + r\\right) \\log{\\left(u \\right)} + u \\left(\\lambda + r\\right) \\log{\\left(\\frac{c \\left(1 - u\\right)}{u \\left(1 - \\beta\\right)} \\right)} = 0 \\right\\} \\setminus \\left\\{0\\right\\}\\right)\\right\\}$"
      ],
      "text/plain": [
       "⎧⎛⎧                                                          ⎛c⋅(1 - u)⎞    ⎫ \n",
       "⎨⎜⎨u | u ∊ ℂ ∧ β⋅λ⋅(1 - u) - u⋅(λ + r)⋅log(u) + u⋅(λ + r)⋅log⎜─────────⎟ = 0⎬ \n",
       "⎩⎝⎩                                                          ⎝u⋅(1 - β)⎠    ⎭ \n",
       "\n",
       "      ⎞⎫\n",
       "\\ {0},⎟⎬\n",
       "      ⎠⎭"
      ]
     },
     "execution_count": 36,
     "metadata": {},
     "output_type": "execute_result"
    }
   ],
   "source": [
    "sym.nonlinsolve([beta * lam /(r+lam)*(1-u)/u+sym.log(c*(1-u)/(u*(1-beta)))-sym.log(u)],[u])"
   ]
  }
 ],
 "metadata": {
  "kernelspec": {
   "display_name": "Python 3",
   "language": "python",
   "name": "python3"
  },
  "language_info": {
   "codemirror_mode": {
    "name": "ipython",
    "version": 3
   },
   "file_extension": ".py",
   "mimetype": "text/x-python",
   "name": "python",
   "nbconvert_exporter": "python",
   "pygments_lexer": "ipython3",
   "version": "3.7.4"
  }
 },
 "nbformat": 4,
 "nbformat_minor": 2
}

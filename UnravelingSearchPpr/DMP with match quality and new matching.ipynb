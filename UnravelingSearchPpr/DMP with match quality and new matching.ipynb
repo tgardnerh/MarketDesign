{
 "cells": [
  {
   "cell_type": "code",
   "execution_count": 20,
   "metadata": {},
   "outputs": [],
   "source": [
    "import sympy as sym\n",
    "import numpy as np\n",
    "sym.init_printing()\n",
    "\n",
    "import matplotlib\n",
    "import matplotlib.pyplot as plt\n",
    "\n",
    "from IPython.core.display import display, HTML\n",
    "#display(HTML(\"<style>.container { width:100% !important; }</style>\"))"
   ]
  },
  {
   "cell_type": "code",
   "execution_count": 93,
   "metadata": {},
   "outputs": [],
   "source": [
    "alpha, r, lam, R, v, u, beta, c = sym.symbols('alpha, r, L, R, v, u, beta, c')"
   ]
  },
  {
   "cell_type": "code",
   "execution_count": null,
   "metadata": {},
   "outputs": [],
   "source": []
  },
  {
   "cell_type": "code",
   "execution_count": 94,
   "metadata": {},
   "outputs": [
    {
     "data": {
      "image/png": "[encoded data removed]",
      "text/latex": [
       "$\\displaystyle - R e^{R} + \\frac{\\beta v}{L + r}$"
      ],
      "text/plain": [
       "     R    β⋅v \n",
       "- R⋅ℯ  + ─────\n",
       "         L + r"
      ]
     },
     "execution_count": 94,
     "metadata": {},
     "output_type": "execute_result"
    }
   ],
   "source": [
    "workers =  beta * v / (r + lam) -R* sym.exp(R)\n",
    "workers"
   ]
  },
  {
   "cell_type": "code",
   "execution_count": 95,
   "metadata": {},
   "outputs": [
    {
     "data": {
      "image/png": "[encoded data removed]",
      "text/latex": [
       "$\\displaystyle - c v + \\frac{u \\left(1 - \\beta\\right) e^{- R}}{L + r}$"
      ],
      "text/plain": [
       "                  -R\n",
       "       u⋅(1 - β)⋅ℯ  \n",
       "-c⋅v + ─────────────\n",
       "           L + r    "
      ]
     },
     "execution_count": 95,
     "metadata": {},
     "output_type": "execute_result"
    }
   ],
   "source": [
    "firms = u*sym.exp(-R)*(1-beta)/(r+lam)-v*c\n",
    "firms"
   ]
  },
  {
   "cell_type": "code",
   "execution_count": 96,
   "metadata": {},
   "outputs": [
    {
     "data": {
      "image/png": "[encoded data removed]",
      "text/latex": [
       "$\\displaystyle - L \\left(1 - u\\right) + u v e^{- R}$"
      ],
      "text/plain": [
       "                  -R\n",
       "-L⋅(1 - u) + u⋅v⋅ℯ  "
      ]
     },
     "execution_count": 96,
     "metadata": {},
     "output_type": "execute_result"
    }
   ],
   "source": [
    "steadystate = u*v*sym.exp(-R)-lam*(1-u)\n",
    "steadystate"
   ]
  },
  {
   "cell_type": "code",
   "execution_count": 97,
   "metadata": {},
   "outputs": [
    {
     "data": {
      "image/png": "[encoded data removed]",
      "text/latex": [
       "$\\displaystyle \\left\\{\\left( - \\frac{- L c v e^{R} - c r v e^{R}}{1 - \\beta}\\right), \\left( - \\frac{L c v e^{R} + c r v e^{R}}{\\beta - 1}\\right)\\right\\}$"
      ],
      "text/plain": [
       "⎧⎛ ⎛         R          R⎞  ⎞  ⎛ ⎛       R          R⎞  ⎞⎫\n",
       "⎪⎜-⎝- L⋅c⋅v⋅ℯ  - c⋅r⋅v⋅ℯ ⎠  ⎟  ⎜-⎝L⋅c⋅v⋅ℯ  + c⋅r⋅v⋅ℯ ⎠  ⎟⎪\n",
       "⎨⎜─────────────────────────,⎟, ⎜───────────────────────,⎟⎬\n",
       "⎪⎝          1 - β           ⎠  ⎝         β - 1          ⎠⎪\n",
       "⎩                                                        ⎭"
      ]
     },
     "execution_count": 97,
     "metadata": {},
     "output_type": "execute_result"
    }
   ],
   "source": [
    "sym.nonlinsolve([workers,firms],[u])"
   ]
  },
  {
   "cell_type": "code",
   "execution_count": 98,
   "metadata": {},
   "outputs": [
    {
     "data": {
      "image/png": "[encoded data removed]",
      "text/latex": [
       "$\\displaystyle \\left\\{\\left( \\emptyset\\right)\\right\\}$"
      ],
      "text/plain": [
       "{(∅,)}"
      ]
     },
     "execution_count": 98,
     "metadata": {},
     "output_type": "execute_result"
    }
   ],
   "source": [
    "st_frm = sym.nonlinsolve([v/(lam*(1-u))-(1-beta)/(c*(r+lam))],[R])\n",
    "st_frm"
   ]
  },
  {
   "cell_type": "code",
   "execution_count": 99,
   "metadata": {},
   "outputs": [
    {
     "data": {
      "image/png": "[encoded data removed]",
      "text/latex": [
       "$\\displaystyle \\left\\{\\left( \\left\\{R\\right\\} \\setminus \\left\\{- \\frac{L \\beta}{L + r}\\right\\}, \\  \\frac{L \\beta}{L R + L \\beta + R r}, \\  \\frac{R \\left(L + r\\right) e^{R}}{\\beta}\\right)\\right\\}$"
      ],
      "text/plain": [
       "⎧⎛                                           R⎞⎫\n",
       "⎪⎜      ⎧-L⋅β ⎫        L⋅β        R⋅(L + r)⋅ℯ ⎟⎪\n",
       "⎨⎜{R} \\ ⎨─────⎬, ───────────────, ────────────⎟⎬\n",
       "⎪⎝      ⎩L + r⎭  L⋅R + L⋅β + R⋅r       β      ⎠⎪\n",
       "⎩                                              ⎭"
      ]
     },
     "execution_count": 99,
     "metadata": {},
     "output_type": "execute_result"
    }
   ],
   "source": [
    "solution = sym.nonlinsolve([firms, workers, steadystate], [R, u, v])\n",
    "\n",
    "solution"
   ]
  },
  {
   "cell_type": "code",
   "execution_count": 100,
   "metadata": {},
   "outputs": [
    {
     "data": {
      "image/png": "[encoded data removed]",
      "text/latex": [
       "$\\displaystyle \\left\\{R\\right\\} \\setminus \\left\\{- \\frac{\\beta \\lambda}{\\lambda + r}\\right\\}$"
      ],
      "text/plain": [
       "      ⎧-β⋅λ ⎫\n",
       "{R} \\ ⎨─────⎬\n",
       "      ⎩λ + r⎭"
      ]
     },
     "execution_count": 100,
     "metadata": {},
     "output_type": "execute_result"
    }
   ],
   "source": [
    "R_sol"
   ]
  },
  {
   "cell_type": "code",
   "execution_count": 101,
   "metadata": {},
   "outputs": [
    {
     "data": {
      "image/png": "[encoded data removed]",
      "text/latex": [
       "$\\displaystyle - \\frac{u \\left(\\beta - 1\\right) \\log{\\left(- \\frac{u \\left(\\beta - 1\\right)}{c \\left(\\lambda + r\\right)} \\right)}}{\\beta c}$"
      ],
      "text/plain": [
       "              ⎛-u⋅(β - 1) ⎞ \n",
       "-u⋅(β - 1)⋅log⎜───────────⎟ \n",
       "              ⎝ c⋅(λ + r) ⎠ \n",
       "────────────────────────────\n",
       "            β⋅c             "
      ]
     },
     "execution_count": 101,
     "metadata": {},
     "output_type": "execute_result"
    }
   ],
   "source": [
    "v_sol"
   ]
  },
  {
   "cell_type": "code",
   "execution_count": 102,
   "metadata": {},
   "outputs": [
    {
     "ename": "TypeError",
     "evalue": "Input args to Union must be Sets",
     "output_type": "error",
     "traceback": [
      "\u001b[0;31m---------------------------------------------------------------------------\u001b[0m",
      "\u001b[0;31mTypeError\u001b[0m                                 Traceback (most recent call last)",
      "\u001b[0;32m<ipython-input-102-b5215ca1d751>\u001b[0m in \u001b[0;36m<module>\u001b[0;34m\u001b[0m\n\u001b[0;32m----> 1\u001b[0;31m \u001b[0mwelfare\u001b[0m \u001b[0;34m=\u001b[0m \u001b[0;34m(\u001b[0m\u001b[0;36m1\u001b[0m\u001b[0;34m-\u001b[0m\u001b[0mu\u001b[0m\u001b[0;34m)\u001b[0m\u001b[0;34m*\u001b[0m\u001b[0;34m(\u001b[0m\u001b[0mR_sol\u001b[0m\u001b[0;34m+\u001b[0m\u001b[0mbeta\u001b[0m\u001b[0;34m)\u001b[0m\u001b[0;34m\u001b[0m\u001b[0;34m\u001b[0m\u001b[0m\n\u001b[0m\u001b[1;32m      2\u001b[0m \u001b[0mwelfare\u001b[0m\u001b[0;34m\u001b[0m\u001b[0;34m\u001b[0m\u001b[0m\n",
      "\u001b[0;32m~/opt/anaconda3/lib/python3.7/site-packages/sympy/sets/sets.py\u001b[0m in \u001b[0;36m__add__\u001b[0;34m(self, other)\u001b[0m\n\u001b[1;32m    530\u001b[0m \u001b[0;34m\u001b[0m\u001b[0m\n\u001b[1;32m    531\u001b[0m     \u001b[0;32mdef\u001b[0m \u001b[0m__add__\u001b[0m\u001b[0;34m(\u001b[0m\u001b[0mself\u001b[0m\u001b[0;34m,\u001b[0m \u001b[0mother\u001b[0m\u001b[0;34m)\u001b[0m\u001b[0;34m:\u001b[0m\u001b[0;34m\u001b[0m\u001b[0;34m\u001b[0m\u001b[0m\n\u001b[0;32m--> 532\u001b[0;31m         \u001b[0;32mreturn\u001b[0m \u001b[0mself\u001b[0m\u001b[0;34m.\u001b[0m\u001b[0munion\u001b[0m\u001b[0;34m(\u001b[0m\u001b[0mother\u001b[0m\u001b[0;34m)\u001b[0m\u001b[0;34m\u001b[0m\u001b[0;34m\u001b[0m\u001b[0m\n\u001b[0m\u001b[1;32m    533\u001b[0m \u001b[0;34m\u001b[0m\u001b[0m\n\u001b[1;32m    534\u001b[0m     \u001b[0;32mdef\u001b[0m \u001b[0m__or__\u001b[0m\u001b[0;34m(\u001b[0m\u001b[0mself\u001b[0m\u001b[0;34m,\u001b[0m \u001b[0mother\u001b[0m\u001b[0;34m)\u001b[0m\u001b[0;34m:\u001b[0m\u001b[0;34m\u001b[0m\u001b[0;34m\u001b[0m\u001b[0m\n",
      "\u001b[0;32m~/opt/anaconda3/lib/python3.7/site-packages/sympy/sets/sets.py\u001b[0m in \u001b[0;36munion\u001b[0;34m(self, other)\u001b[0m\n\u001b[1;32m     90\u001b[0m \u001b[0;34m\u001b[0m\u001b[0m\n\u001b[1;32m     91\u001b[0m         \"\"\"\n\u001b[0;32m---> 92\u001b[0;31m         \u001b[0;32mreturn\u001b[0m \u001b[0mUnion\u001b[0m\u001b[0;34m(\u001b[0m\u001b[0mself\u001b[0m\u001b[0;34m,\u001b[0m \u001b[0mother\u001b[0m\u001b[0;34m)\u001b[0m\u001b[0;34m\u001b[0m\u001b[0;34m\u001b[0m\u001b[0m\n\u001b[0m\u001b[1;32m     93\u001b[0m \u001b[0;34m\u001b[0m\u001b[0m\n\u001b[1;32m     94\u001b[0m     \u001b[0;32mdef\u001b[0m \u001b[0mintersect\u001b[0m\u001b[0;34m(\u001b[0m\u001b[0mself\u001b[0m\u001b[0;34m,\u001b[0m \u001b[0mother\u001b[0m\u001b[0;34m)\u001b[0m\u001b[0;34m:\u001b[0m\u001b[0;34m\u001b[0m\u001b[0;34m\u001b[0m\u001b[0m\n",
      "\u001b[0;32m~/opt/anaconda3/lib/python3.7/site-packages/sympy/sets/sets.py\u001b[0m in \u001b[0;36m__new__\u001b[0;34m(cls, *args, **kwargs)\u001b[0m\n\u001b[1;32m   1029\u001b[0m         \u001b[0;32mif\u001b[0m \u001b[0mevaluate\u001b[0m\u001b[0;34m:\u001b[0m\u001b[0;34m\u001b[0m\u001b[0;34m\u001b[0m\u001b[0m\n\u001b[1;32m   1030\u001b[0m             \u001b[0margs\u001b[0m \u001b[0;34m=\u001b[0m \u001b[0mlist\u001b[0m\u001b[0;34m(\u001b[0m\u001b[0mcls\u001b[0m\u001b[0;34m.\u001b[0m\u001b[0m_new_args_filter\u001b[0m\u001b[0;34m(\u001b[0m\u001b[0margs\u001b[0m\u001b[0;34m)\u001b[0m\u001b[0;34m)\u001b[0m\u001b[0;34m\u001b[0m\u001b[0;34m\u001b[0m\u001b[0m\n\u001b[0;32m-> 1031\u001b[0;31m             \u001b[0;32mreturn\u001b[0m \u001b[0msimplify_union\u001b[0m\u001b[0;34m(\u001b[0m\u001b[0margs\u001b[0m\u001b[0;34m)\u001b[0m\u001b[0;34m\u001b[0m\u001b[0;34m\u001b[0m\u001b[0m\n\u001b[0m\u001b[1;32m   1032\u001b[0m \u001b[0;34m\u001b[0m\u001b[0m\n\u001b[1;32m   1033\u001b[0m         \u001b[0margs\u001b[0m \u001b[0;34m=\u001b[0m \u001b[0mlist\u001b[0m\u001b[0;34m(\u001b[0m\u001b[0mordered\u001b[0m\u001b[0;34m(\u001b[0m\u001b[0margs\u001b[0m\u001b[0;34m,\u001b[0m \u001b[0mSet\u001b[0m\u001b[0;34m.\u001b[0m\u001b[0m_infimum_key\u001b[0m\u001b[0;34m)\u001b[0m\u001b[0;34m)\u001b[0m\u001b[0;34m\u001b[0m\u001b[0;34m\u001b[0m\u001b[0m\n",
      "\u001b[0;32m~/opt/anaconda3/lib/python3.7/site-packages/sympy/sets/sets.py\u001b[0m in \u001b[0;36msimplify_union\u001b[0;34m(args)\u001b[0m\n\u001b[1;32m   1870\u001b[0m     \u001b[0;32mfor\u001b[0m \u001b[0marg\u001b[0m \u001b[0;32min\u001b[0m \u001b[0margs\u001b[0m\u001b[0;34m:\u001b[0m\u001b[0;34m\u001b[0m\u001b[0;34m\u001b[0m\u001b[0m\n\u001b[1;32m   1871\u001b[0m         \u001b[0;32mif\u001b[0m \u001b[0;32mnot\u001b[0m \u001b[0misinstance\u001b[0m\u001b[0;34m(\u001b[0m\u001b[0marg\u001b[0m\u001b[0;34m,\u001b[0m \u001b[0mSet\u001b[0m\u001b[0;34m)\u001b[0m\u001b[0;34m:\u001b[0m\u001b[0;34m\u001b[0m\u001b[0;34m\u001b[0m\u001b[0m\n\u001b[0;32m-> 1872\u001b[0;31m             \u001b[0;32mraise\u001b[0m \u001b[0mTypeError\u001b[0m\u001b[0;34m(\u001b[0m\u001b[0;34m\"Input args to Union must be Sets\"\u001b[0m\u001b[0;34m)\u001b[0m\u001b[0;34m\u001b[0m\u001b[0;34m\u001b[0m\u001b[0m\n\u001b[0m\u001b[1;32m   1873\u001b[0m \u001b[0;34m\u001b[0m\u001b[0m\n\u001b[1;32m   1874\u001b[0m     \u001b[0;31m# Merge all finite sets\u001b[0m\u001b[0;34m\u001b[0m\u001b[0;34m\u001b[0m\u001b[0;34m\u001b[0m\u001b[0m\n",
      "\u001b[0;31mTypeError\u001b[0m: Input args to Union must be Sets"
     ]
    }
   ],
   "source": [
    "welfare = (1-u)*(R_sol+beta)\n",
    "welfare"
   ]
  },
  {
   "cell_type": "code",
   "execution_count": 103,
   "metadata": {},
   "outputs": [
    {
     "data": {
      "image/png": "[encoded data removed]",
      "text/latex": [
       "$\\displaystyle \\left\\{u \\mid u \\in \\mathbb{R} \\wedge - \\beta u - u \\log{\\left(\\frac{u \\left(1 - \\beta\\right)}{c \\left(\\lambda + r\\right)} \\right)} - u + 1 = 0 \\right\\} \\setminus \\left\\{0\\right\\}$"
      ],
      "text/plain": [
       "⎧                        ⎛u⋅(1 - β)⎞            ⎫      \n",
       "⎨u | u ∊ ℝ ∧ -β⋅u - u⋅log⎜─────────⎟ - u + 1 = 0⎬ \\ {0}\n",
       "⎩                        ⎝c⋅(λ + r)⎠            ⎭      "
      ]
     },
     "execution_count": 103,
     "metadata": {},
     "output_type": "execute_result"
    }
   ],
   "source": [
    "foc_welfare_u = sym.diff(welfare, u)\n",
    "sym.solveset(foc_welfare_u, u, domain = sym.S.Reals)"
   ]
  },
  {
   "cell_type": "code",
   "execution_count": 104,
   "metadata": {},
   "outputs": [
    {
     "data": {
      "image/png": "[encoded data removed]",
      "text/latex": [
       "$\\displaystyle \\left\\{0\\right\\}$"
      ],
      "text/plain": [
       "{0}"
      ]
     },
     "execution_count": 104,
     "metadata": {},
     "output_type": "execute_result"
    }
   ],
   "source": [
    "foc_welfare_beta = sym.diff(welfare, beta)\n",
    "sym.solveset(foc_welfare_beta, beta, domain = sym.S.Reals)\n",
    "#foc_welfare_beta"
   ]
  },
  {
   "cell_type": "code",
   "execution_count": 105,
   "metadata": {},
   "outputs": [
    {
     "data": {
      "image/png": "[encoded data removed]",
      "text/latex": [
       "$\\displaystyle \\left\\{\\left( \\left\\{u \\mid u \\in \\mathbb{C} \\wedge L \\beta \\left(1 - u\\right) - u \\left(L + r\\right) \\log{\\left(u \\right)} + u \\left(L + r\\right) \\log{\\left(\\frac{c \\left(1 - u\\right)}{u \\left(1 - \\beta\\right)} \\right)} = 0 \\right\\} \\setminus \\left\\{0\\right\\}\\right)\\right\\}$"
      ],
      "text/plain": [
       "⎧⎛⎧                                                          ⎛c⋅(1 - u)⎞    ⎫ \n",
       "⎨⎜⎨u | u ∊ ℂ ∧ L⋅β⋅(1 - u) - u⋅(L + r)⋅log(u) + u⋅(L + r)⋅log⎜─────────⎟ = 0⎬ \n",
       "⎩⎝⎩                                                          ⎝u⋅(1 - β)⎠    ⎭ \n",
       "\n",
       "      ⎞⎫\n",
       "\\ {0},⎟⎬\n",
       "      ⎠⎭"
      ]
     },
     "execution_count": 105,
     "metadata": {},
     "output_type": "execute_result"
    }
   ],
   "source": [
    "sym.nonlinsolve([beta * lam /(r+lam)*(1-u)/u+sym.log(c*(1-u)/(u*(1-beta)))-sym.log(u)],[u])"
   ]
  },
  {
   "cell_type": "code",
   "execution_count": null,
   "metadata": {},
   "outputs": [],
   "source": []
  },
  {
   "cell_type": "code",
   "execution_count": 106,
   "metadata": {},
   "outputs": [
    {
     "data": {
      "image/png": "[encoded data removed]",
      "text/latex": [
       "$\\displaystyle R e^{2 R} - \\frac{\\beta u \\left(1 - \\beta\\right)}{c \\left(L + r\\right)^{2}}$"
      ],
      "text/plain": [
       "   2⋅R   β⋅u⋅(1 - β)\n",
       "R⋅ℯ    - ───────────\n",
       "                   2\n",
       "          c⋅(L + r) "
      ]
     },
     "execution_count": 106,
     "metadata": {},
     "output_type": "execute_result"
    }
   ],
   "source": [
    "f_w = R*sym.exp(2*R)-u*(1-beta)*beta/(c*(r+lam)**2)\n",
    "f_w"
   ]
  },
  {
   "cell_type": "code",
   "execution_count": 107,
   "metadata": {},
   "outputs": [
    {
     "data": {
      "image/png": "[encoded data removed]",
      "text/latex": [
       "$\\displaystyle \\frac{L \\beta \\left(1 - u\\right)}{u \\left(L + r\\right)} - R$"
      ],
      "text/plain": [
       "L⋅β⋅(1 - u)    \n",
       "─────────── - R\n",
       " u⋅(L + r)     "
      ]
     },
     "execution_count": 107,
     "metadata": {},
     "output_type": "execute_result"
    }
   ],
   "source": [
    "s_w = (1-u)/u*lam*beta/(r+lam)-R\n",
    "s_w"
   ]
  },
  {
   "cell_type": "markdown",
   "metadata": {},
   "source": [
    "## try a numerical solution"
   ]
  },
  {
   "cell_type": "code",
   "execution_count": 300,
   "metadata": {},
   "outputs": [
    {
     "data": {
      "image/png": "[encoded data removed]",
      "text/latex": [
       "$\\displaystyle \\left[ 0.538971632196375, \\  0.215718516067591\\right]$"
      ],
      "text/plain": [
       "[0.538971632196375, 0.215718516067591]"
      ]
     },
     "execution_count": 300,
     "metadata": {},
     "output_type": "execute_result"
    }
   ],
   "source": [
    "def ModelSolver(B,L,r_val,c_val,pos):\n",
    "    return [sym.nsolve(((1-u)/u*lam*beta/(r+lam)-R,R*sym.exp(2*R)-u*(1-beta)*beta/(c*(r+lam)**2),lam-L,r-r_val,c-c_val,beta-i),(u,R,lam,c,beta,r),(.1,1,L,c_val,i,r_val))[pos] for i in B]\n",
    "\n",
    "\n",
    "ModelSolver([.3, .99], 0.3, 0.95, 0.01,1)\n"
   ]
  },
  {
   "cell_type": "code",
   "execution_count": 301,
   "metadata": {},
   "outputs": [
    {
     "data": {
      "image/png": "[encoded data removed]",
      "text/latex": [
       "$\\displaystyle \\left[ 0.266877679477616, \\  0.33378462947053, \\  0.387568099747623, \\  0.431318622032399, \\  0.467022057940079, \\  0.496013759126611, \\  0.519213633633501, \\  0.537256364257123, \\  0.55056592889463, \\  0.55939726785398, \\  0.563855810909713, \\  0.563898922136295, \\  0.559318369251108, \\  0.549697158502, \\  0.534324083743896, \\  0.512027245967275, \\  0.480829999243416, \\  0.43715264522415, \\  0.373568953457259, \\  0.269867202392716\\right]$"
      ],
      "text/plain": [
       "[0.266877679477616, 0.33378462947053, 0.387568099747623, 0.431318622032399, 0.\n",
       "467022057940079, 0.496013759126611, 0.519213633633501, 0.537256364257123, 0.55\n",
       "056592889463, 0.55939726785398, 0.563855810909713, 0.563898922136295, 0.559318\n",
       "369251108, 0.549697158502, 0.534324083743896, 0.512027245967275, 0.48082999924\n",
       "3416, 0.43715264522415, 0.373568953457259, 0.269867202392716]"
      ]
     },
     "execution_count": 301,
     "metadata": {},
     "output_type": "execute_result"
    }
   ],
   "source": [
    "u_vals = [solver(i)[0] for i in np.linspace(.11,1,20,endpoint=False)]\n",
    "R_vals = [solver(i)[1] for i in np.linspace(.11,1,20,endpoint=False)]\n",
    "welf = [solver(i)[1]*(1-solver(i)[0]) for i in np.linspace(.11,1,20,endpoint=False)]\n",
    "welf"
   ]
  },
  {
   "cell_type": "code",
   "execution_count": 302,
   "metadata": {},
   "outputs": [
    {
     "data": {
      "text/plain": [
       "[<matplotlib.lines.Line2D at 0x7fd881fae650>,\n",
       " <matplotlib.lines.Line2D at 0x7fd881fae710>]"
      ]
     },
     "execution_count": 302,
     "metadata": {},
     "output_type": "execute_result"
    }
   ],
   "source": [
    "plt.plot(u_vals,R_vals,u_vals,welf, 'o')\n"
   ]
  },
  {
   "cell_type": "markdown",
   "metadata": {},
   "source": [
    "### find the social optimum"
   ]
  },
  {
   "cell_type": "code",
   "execution_count": 191,
   "metadata": {},
   "outputs": [
    {
     "data": {
      "image/png": "[encoded data removed]",
      "text/latex": [
       "$\\displaystyle \\frac{u}{2} + \\left(1 - u\\right) \\left(0.5 \\log{\\left(\\frac{u^{2}}{L^{2} c \\left(1 - u\\right)} \\right)} + 1\\right) - \\frac{1}{2}$"
      ],
      "text/plain": [
       "            ⎛       ⎛      2     ⎞    ⎞    \n",
       "u           ⎜       ⎜     u      ⎟    ⎟   1\n",
       "─ + (1 - u)⋅⎜0.5⋅log⎜────────────⎟ + 1⎟ - ─\n",
       "2           ⎜       ⎜ 2          ⎟    ⎟   2\n",
       "            ⎝       ⎝L ⋅c⋅(1 - u)⎠    ⎠    "
      ]
     },
     "execution_count": 191,
     "metadata": {},
     "output_type": "execute_result"
    }
   ],
   "source": [
    "welf_u = (1/2*sym.log(u**2/(lam**2*(1-u)*c))+1)*(1-u)-(1-u)/2\n",
    "welf_u"
   ]
  },
  {
   "cell_type": "code",
   "execution_count": 192,
   "metadata": {},
   "outputs": [
    {
     "data": {
      "image/png": "[encoded data removed]",
      "text/latex": [
       "$\\displaystyle \\frac{0.5 L^{2} c \\left(1 - u\\right)^{2} \\left(\\frac{u^{2}}{L^{2} c \\left(1 - u\\right)^{2}} + \\frac{2 u}{L^{2} c \\left(1 - u\\right)}\\right)}{u^{2}} - 0.5 \\log{\\left(\\frac{u^{2}}{L^{2} c \\left(1 - u\\right)} \\right)} - \\frac{1}{2}$"
      ],
      "text/plain": [
       "                  ⎛       2                    ⎞                            \n",
       "     2          2 ⎜      u             2⋅u     ⎟                            \n",
       "0.5⋅L ⋅c⋅(1 - u) ⋅⎜───────────── + ────────────⎟                            \n",
       "                  ⎜ 2          2    2          ⎟          ⎛      2     ⎞    \n",
       "                  ⎝L ⋅c⋅(1 - u)    L ⋅c⋅(1 - u)⎠          ⎜     u      ⎟   1\n",
       "──────────────────────────────────────────────── - 0.5⋅log⎜────────────⎟ - ─\n",
       "                        2                                 ⎜ 2          ⎟   2\n",
       "                       u                                  ⎝L ⋅c⋅(1 - u)⎠    "
      ]
     },
     "execution_count": 192,
     "metadata": {},
     "output_type": "execute_result"
    }
   ],
   "source": [
    "foc_welf_u = sym.diff(welf_u,u)\n",
    "foc_welf_u"
   ]
  },
  {
   "cell_type": "code",
   "execution_count": 197,
   "metadata": {},
   "outputs": [
    {
     "data": {
      "image/png": "[encoded data removed]",
      "text/latex": [
       "$\\displaystyle \\left[\\begin{matrix}0.290521080905845\\\\0.3\\\\0.01\\\\0.95\\end{matrix}\\right]$"
      ],
      "text/plain": [
       "⎡0.290521080905845⎤\n",
       "⎢                 ⎥\n",
       "⎢       0.3       ⎥\n",
       "⎢                 ⎥\n",
       "⎢      0.01       ⎥\n",
       "⎢                 ⎥\n",
       "⎣      0.95       ⎦"
      ]
     },
     "execution_count": 197,
     "metadata": {},
     "output_type": "execute_result"
    }
   ],
   "source": [
    "s_opt = sym.nsolve((foc_welf_u,lam-0.3,r-.95,c-.01),(u,lam,c,r),(.1,1,.1, .95))\n",
    "s_opt"
   ]
  },
  {
   "cell_type": "code",
   "execution_count": 205,
   "metadata": {},
   "outputs": [],
   "source": [
    "def optRvofU(u,lam,c):\n",
    "    return [sym.log(u**2/(lam**2*(1-u)*c))/2,lam*(1-u)/u*u**2/(lam**2*(1-u)*c)]"
   ]
  },
  {
   "cell_type": "code",
   "execution_count": 212,
   "metadata": {},
   "outputs": [],
   "source": [
    "opt_u_pt = [s_opt[0]]\n",
    "opt_R_pt = [optRvofU(s_opt[0],s_opt[1],s_opt[2])[0]]\n",
    "opt_welf_pt = [(optRvofU(s_opt[0],s_opt[1],s_opt[2])[0]+1)*(1-s_opt[0])-\n",
    "               optRvofU(s_opt[0],s_opt[1],s_opt[2])[1]*s_opt[2]]\n"
   ]
  },
  {
   "cell_type": "code",
   "execution_count": 225,
   "metadata": {},
   "outputs": [
    {
     "data": {
      "text/plain": [
       "[<matplotlib.lines.Line2D at 0x7fd88168af90>,\n",
       " <matplotlib.lines.Line2D at 0x7fd88168ab50>,\n",
       " <matplotlib.lines.Line2D at 0x7fd88168aed0>,\n",
       " <matplotlib.lines.Line2D at 0x7fd881399250>]"
      ]
     },
     "execution_count": 225,
     "metadata": {},
     "output_type": "execute_result"
    }
   ],
   "source": [
    "plt.plot(u_vals,R_vals,u_vals,welf, 'o',opt_u_pt, opt_R_pt,'rx',opt_u_pt,opt_welf_pt,'ro')\n"
   ]
  },
  {
   "cell_type": "code",
   "execution_count": 247,
   "metadata": {},
   "outputs": [
    {
     "data": {
      "image/png": "[encoded data removed]",
      "text/latex": [
       "$\\displaystyle \\left[ 1.0, \\  1.4142135623731\\right]$"
      ],
      "text/plain": [
       "[1.0, 1.4142135623731]"
      ]
     },
     "execution_count": 247,
     "metadata": {},
     "output_type": "execute_result"
    }
   ],
   "source": [
    "def bob(x):\n",
    "    return [sym.nsolve((u**2-i),(u),(1)) for i in x]\n",
    "bob([1,2])"
   ]
  },
  {
   "cell_type": "code",
   "execution_count": 306,
   "metadata": {
    "scrolled": false
   },
   "outputs": [
    {
     "data": {
      "application/javascript": [
       "/* Put everything inside the global mpl namespace */\n",
       "window.mpl = {};\n",
       "\n",
       "\n",
       "mpl.get_websocket_type = function() {\n",
       "    if (typeof(WebSocket) !== 'undefined') {\n",
       "        return WebSocket;\n",
       "    } else if (typeof(MozWebSocket) !== 'undefined') {\n",
       "        return MozWebSocket;\n",
       "    } else {\n",
       "        alert('Your browser does not have WebSocket support. ' +\n",
       "              'Please try Chrome, Safari or Firefox ≥ 6. ' +\n",
       "              'Firefox 4 and 5 are also supported but you ' +\n",
       "              'have to enable WebSockets in about:config.');\n",
       "    };\n",
       "}\n",
       "\n",
       "mpl.figure = function(figure_id, websocket, ondownload, parent_element) {\n",
       "    this.id = figure_id;\n",
       "\n",
       "    this.ws = websocket;\n",
       "\n",
       "    this.supports_binary = (this.ws.binaryType != undefined);\n",
       "\n",
       "    if (!this.supports_binary) {\n",
       "        var warnings = document.getElementById(\"mpl-warnings\");\n",
       "        if (warnings) {\n",
       "            warnings.style.display = 'block';\n",
       "            warnings.textContent = (\n",
       "                \"This browser does not support binary websocket messages. \" +\n",
       "                    \"Performance may be slow.\");\n",
       "        }\n",
       "    }\n",
       "\n",
       "    this.imageObj = new Image();\n",
       "\n",
       "    this.context = undefined;\n",
       "    this.message = undefined;\n",
       "    this.canvas = undefined;\n",
       "    this.rubberband_canvas = undefined;\n",
       "    this.rubberband_context = undefined;\n",
       "    this.format_dropdown = undefined;\n",
       "\n",
       "    this.image_mode = 'full';\n",
       "\n",
       "    this.root = $('<div/>');\n",
       "    this._root_extra_style(this.root)\n",
       "    this.root.attr('style', 'display: inline-block');\n",
       "\n",
       "    $(parent_element).append(this.root);\n",
       "\n",
       "    this._init_header(this);\n",
       "    this._init_canvas(this);\n",
       "    this._init_toolbar(this);\n",
       "\n",
       "    var fig = this;\n",
       "\n",
       "    this.waiting = false;\n",
       "\n",
       "    this.ws.onopen =  function () {\n",
       "            fig.send_message(\"supports_binary\", {value: fig.supports_binary});\n",
       "            fig.send_message(\"send_image_mode\", {});\n",
       "            if (mpl.ratio != 1) {\n",
       "                fig.send_message(\"set_dpi_ratio\", {'dpi_ratio': mpl.ratio});\n",
       "            }\n",
       "            fig.send_message(\"refresh\", {});\n",
       "        }\n",
       "\n",
       "    this.imageObj.onload = function() {\n",
       "            if (fig.image_mode == 'full') {\n",
       "                // Full images could contain transparency (where diff images\n",
       "                // almost always do), so we need to clear the canvas so that\n",
       "                // there is no ghosting.\n",
       "                fig.context.clearRect(0, 0, fig.canvas.width, fig.canvas.height);\n",
       "            }\n",
       "            fig.context.drawImage(fig.imageObj, 0, 0);\n",
       "        };\n",
       "\n",
       "    this.imageObj.onunload = function() {\n",
       "        fig.ws.close();\n",
       "    }\n",
       "\n",
       "    this.ws.onmessage = this._make_on_message_function(this);\n",
       "\n",
       "    this.ondownload = ondownload;\n",
       "}\n",
       "\n",
       "mpl.figure.prototype._init_header = function() {\n",
       "    var titlebar = $(\n",
       "        '<div class=\"ui-dialog-titlebar ui-widget-header ui-corner-all ' +\n",
       "        'ui-helper-clearfix\"/>');\n",
       "    var titletext = $(\n",
       "        '<div class=\"ui-dialog-title\" style=\"width: 100%; ' +\n",
       "        'text-align: center; padding: 3px;\"/>');\n",
       "    titlebar.append(titletext)\n",
       "    this.root.append(titlebar);\n",
       "    this.header = titletext[0];\n",
       "}\n",
       "\n",
       "\n",
       "\n",
       "mpl.figure.prototype._canvas_extra_style = function(canvas_div) {\n",
       "\n",
       "}\n",
       "\n",
       "\n",
       "mpl.figure.prototype._root_extra_style = function(canvas_div) {\n",
       "\n",
       "}\n",
       "\n",
       "mpl.figure.prototype._init_canvas = function() {\n",
       "    var fig = this;\n",
       "\n",
       "    var canvas_div = $('<div/>');\n",
       "\n",
       "    canvas_div.attr('style', 'position: relative; clear: both; outline: 0');\n",
       "\n",
       "    function canvas_keyboard_event(event) {\n",
       "        return fig.key_event(event, event['data']);\n",
       "    }\n",
       "\n",
       "    canvas_div.keydown('key_press', canvas_keyboard_event);\n",
       "    canvas_div.keyup('key_release', canvas_keyboard_event);\n",
       "    this.canvas_div = canvas_div\n",
       "    this._canvas_extra_style(canvas_div)\n",
       "    this.root.append(canvas_div);\n",
       "\n",
       "    var canvas = $('<canvas/>');\n",
       "    canvas.addClass('mpl-canvas');\n",
       "    canvas.attr('style', \"left: 0; top: 0; z-index: 0; outline: 0\")\n",
       "\n",
       "    this.canvas = canvas[0];\n",
       "    this.context = canvas[0].getContext(\"2d\");\n",
       "\n",
       "    var backingStore = this.context.backingStorePixelRatio ||\n",
       "\tthis.context.webkitBackingStorePixelRatio ||\n",
       "\tthis.context.mozBackingStorePixelRatio ||\n",
       "\tthis.context.msBackingStorePixelRatio ||\n",
       "\tthis.context.oBackingStorePixelRatio ||\n",
       "\tthis.context.backingStorePixelRatio || 1;\n",
       "\n",
       "    mpl.ratio = (window.devicePixelRatio || 1) / backingStore;\n",
       "\n",
       "    var rubberband = $('<canvas/>');\n",
       "    rubberband.attr('style', \"position: absolute; left: 0; top: 0; z-index: 1;\")\n",
       "\n",
       "    var pass_mouse_events = true;\n",
       "\n",
       "    canvas_div.resizable({\n",
       "        start: function(event, ui) {\n",
       "            pass_mouse_events = false;\n",
       "        },\n",
       "        resize: function(event, ui) {\n",
       "            fig.request_resize(ui.size.width, ui.size.height);\n",
       "        },\n",
       "        stop: function(event, ui) {\n",
       "            pass_mouse_events = true;\n",
       "            fig.request_resize(ui.size.width, ui.size.height);\n",
       "        },\n",
       "    });\n",
       "\n",
       "    function mouse_event_fn(event) {\n",
       "        if (pass_mouse_events)\n",
       "            return fig.mouse_event(event, event['data']);\n",
       "    }\n",
       "\n",
       "    rubberband.mousedown('button_press', mouse_event_fn);\n",
       "    rubberband.mouseup('button_release', mouse_event_fn);\n",
       "    // Throttle sequential mouse events to 1 every 20ms.\n",
       "    rubberband.mousemove('motion_notify', mouse_event_fn);\n",
       "\n",
       "    rubberband.mouseenter('figure_enter', mouse_event_fn);\n",
       "    rubberband.mouseleave('figure_leave', mouse_event_fn);\n",
       "\n",
       "    canvas_div.on(\"wheel\", function (event) {\n",
       "        event = event.originalEvent;\n",
       "        event['data'] = 'scroll'\n",
       "        if (event.deltaY < 0) {\n",
       "            event.step = 1;\n",
       "        } else {\n",
       "            event.step = -1;\n",
       "        }\n",
       "        mouse_event_fn(event);\n",
       "    });\n",
       "\n",
       "    canvas_div.append(canvas);\n",
       "    canvas_div.append(rubberband);\n",
       "\n",
       "    this.rubberband = rubberband;\n",
       "    this.rubberband_canvas = rubberband[0];\n",
       "    this.rubberband_context = rubberband[0].getContext(\"2d\");\n",
       "    this.rubberband_context.strokeStyle = \"#000000\";\n",
       "\n",
       "    this._resize_canvas = function(width, height) {\n",
       "        // Keep the size of the canvas, canvas container, and rubber band\n",
       "        // canvas in synch.\n",
       "        canvas_div.css('width', width)\n",
       "        canvas_div.css('height', height)\n",
       "\n",
       "        canvas.attr('width', width * mpl.ratio);\n",
       "        canvas.attr('height', height * mpl.ratio);\n",
       "        canvas.attr('style', 'width: ' + width + 'px; height: ' + height + 'px;');\n",
       "\n",
       "        rubberband.attr('width', width);\n",
       "        rubberband.attr('height', height);\n",
       "    }\n",
       "\n",
       "    // Set the figure to an initial 600x600px, this will subsequently be updated\n",
       "    // upon first draw.\n",
       "    this._resize_canvas(600, 600);\n",
       "\n",
       "    // Disable right mouse context menu.\n",
       "    $(this.rubberband_canvas).bind(\"contextmenu\",function(e){\n",
       "        return false;\n",
       "    });\n",
       "\n",
       "    function set_focus () {\n",
       "        canvas.focus();\n",
       "        canvas_div.focus();\n",
       "    }\n",
       "\n",
       "    window.setTimeout(set_focus, 100);\n",
       "}\n",
       "\n",
       "mpl.figure.prototype._init_toolbar = function() {\n",
       "    var fig = this;\n",
       "\n",
       "    var nav_element = $('<div/>');\n",
       "    nav_element.attr('style', 'width: 100%');\n",
       "    this.root.append(nav_element);\n",
       "\n",
       "    // Define a callback function for later on.\n",
       "    function toolbar_event(event) {\n",
       "        return fig.toolbar_button_onclick(event['data']);\n",
       "    }\n",
       "    function toolbar_mouse_event(event) {\n",
       "        return fig.toolbar_button_onmouseover(event['data']);\n",
       "    }\n",
       "\n",
       "    for(var toolbar_ind in mpl.toolbar_items) {\n",
       "        var name = mpl.toolbar_items[toolbar_ind][0];\n",
       "        var tooltip = mpl.toolbar_items[toolbar_ind][1];\n",
       "        var image = mpl.toolbar_items[toolbar_ind][2];\n",
       "        var method_name = mpl.toolbar_items[toolbar_ind][3];\n",
       "\n",
       "        if (!name) {\n",
       "            // put a spacer in here.\n",
       "            continue;\n",
       "        }\n",
       "        var button = $('<button/>');\n",
       "        button.addClass('ui-button ui-widget ui-state-default ui-corner-all ' +\n",
       "                        'ui-button-icon-only');\n",
       "        button.attr('role', 'button');\n",
       "        button.attr('aria-disabled', 'false');\n",
       "        button.click(method_name, toolbar_event);\n",
       "        button.mouseover(tooltip, toolbar_mouse_event);\n",
       "\n",
       "        var icon_img = $('<span/>');\n",
       "        icon_img.addClass('ui-button-icon-primary ui-icon');\n",
       "        icon_img.addClass(image);\n",
       "        icon_img.addClass('ui-corner-all');\n",
       "\n",
       "        var tooltip_span = $('<span/>');\n",
       "        tooltip_span.addClass('ui-button-text');\n",
       "        tooltip_span.html(tooltip);\n",
       "\n",
       "        button.append(icon_img);\n",
       "        button.append(tooltip_span);\n",
       "\n",
       "        nav_element.append(button);\n",
       "    }\n",
       "\n",
       "    var fmt_picker_span = $('<span/>');\n",
       "\n",
       "    var fmt_picker = $('<select/>');\n",
       "    fmt_picker.addClass('mpl-toolbar-option ui-widget ui-widget-content');\n",
       "    fmt_picker_span.append(fmt_picker);\n",
       "    nav_element.append(fmt_picker_span);\n",
       "    this.format_dropdown = fmt_picker[0];\n",
       "\n",
       "    for (var ind in mpl.extensions) {\n",
       "        var fmt = mpl.extensions[ind];\n",
       "        var option = $(\n",
       "            '<option/>', {selected: fmt === mpl.default_extension}).html(fmt);\n",
       "        fmt_picker.append(option);\n",
       "    }\n",
       "\n",
       "    // Add hover states to the ui-buttons\n",
       "    $( \".ui-button\" ).hover(\n",
       "        function() { $(this).addClass(\"ui-state-hover\");},\n",
       "        function() { $(this).removeClass(\"ui-state-hover\");}\n",
       "    );\n",
       "\n",
       "    var status_bar = $('<span class=\"mpl-message\"/>');\n",
       "    nav_element.append(status_bar);\n",
       "    this.message = status_bar[0];\n",
       "}\n",
       "\n",
       "mpl.figure.prototype.request_resize = function(x_pixels, y_pixels) {\n",
       "    // Request matplotlib to resize the figure. Matplotlib will then trigger a resize in the client,\n",
       "    // which will in turn request a refresh of the image.\n",
       "    this.send_message('resize', {'width': x_pixels, 'height': y_pixels});\n",
       "}\n",
       "\n",
       "mpl.figure.prototype.send_message = function(type, properties) {\n",
       "    properties['type'] = type;\n",
       "    properties['figure_id'] = this.id;\n",
       "    this.ws.send(JSON.stringify(properties));\n",
       "}\n",
       "\n",
       "mpl.figure.prototype.send_draw_message = function() {\n",
       "    if (!this.waiting) {\n",
       "        this.waiting = true;\n",
       "        this.ws.send(JSON.stringify({type: \"draw\", figure_id: this.id}));\n",
       "    }\n",
       "}\n",
       "\n",
       "\n",
       "mpl.figure.prototype.handle_save = function(fig, msg) {\n",
       "    var format_dropdown = fig.format_dropdown;\n",
       "    var format = format_dropdown.options[format_dropdown.selectedIndex].value;\n",
       "    fig.ondownload(fig, format);\n",
       "}\n",
       "\n",
       "\n",
       "mpl.figure.prototype.handle_resize = function(fig, msg) {\n",
       "    var size = msg['size'];\n",
       "    if (size[0] != fig.canvas.width || size[1] != fig.canvas.height) {\n",
       "        fig._resize_canvas(size[0], size[1]);\n",
       "        fig.send_message(\"refresh\", {});\n",
       "    };\n",
       "}\n",
       "\n",
       "mpl.figure.prototype.handle_rubberband = function(fig, msg) {\n",
       "    var x0 = msg['x0'] / mpl.ratio;\n",
       "    var y0 = (fig.canvas.height - msg['y0']) / mpl.ratio;\n",
       "    var x1 = msg['x1'] / mpl.ratio;\n",
       "    var y1 = (fig.canvas.height - msg['y1']) / mpl.ratio;\n",
       "    x0 = Math.floor(x0) + 0.5;\n",
       "    y0 = Math.floor(y0) + 0.5;\n",
       "    x1 = Math.floor(x1) + 0.5;\n",
       "    y1 = Math.floor(y1) + 0.5;\n",
       "    var min_x = Math.min(x0, x1);\n",
       "    var min_y = Math.min(y0, y1);\n",
       "    var width = Math.abs(x1 - x0);\n",
       "    var height = Math.abs(y1 - y0);\n",
       "\n",
       "    fig.rubberband_context.clearRect(\n",
       "        0, 0, fig.canvas.width / mpl.ratio, fig.canvas.height / mpl.ratio);\n",
       "\n",
       "    fig.rubberband_context.strokeRect(min_x, min_y, width, height);\n",
       "}\n",
       "\n",
       "mpl.figure.prototype.handle_figure_label = function(fig, msg) {\n",
       "    // Updates the figure title.\n",
       "    fig.header.textContent = msg['label'];\n",
       "}\n",
       "\n",
       "mpl.figure.prototype.handle_cursor = function(fig, msg) {\n",
       "    var cursor = msg['cursor'];\n",
       "    switch(cursor)\n",
       "    {\n",
       "    case 0:\n",
       "        cursor = 'pointer';\n",
       "        break;\n",
       "    case 1:\n",
       "        cursor = 'default';\n",
       "        break;\n",
       "    case 2:\n",
       "        cursor = 'crosshair';\n",
       "        break;\n",
       "    case 3:\n",
       "        cursor = 'move';\n",
       "        break;\n",
       "    }\n",
       "    fig.rubberband_canvas.style.cursor = cursor;\n",
       "}\n",
       "\n",
       "mpl.figure.prototype.handle_message = function(fig, msg) {\n",
       "    fig.message.textContent = msg['message'];\n",
       "}\n",
       "\n",
       "mpl.figure.prototype.handle_draw = function(fig, msg) {\n",
       "    // Request the server to send over a new figure.\n",
       "    fig.send_draw_message();\n",
       "}\n",
       "\n",
       "mpl.figure.prototype.handle_image_mode = function(fig, msg) {\n",
       "    fig.image_mode = msg['mode'];\n",
       "}\n",
       "\n",
       "mpl.figure.prototype.updated_canvas_event = function() {\n",
       "    // Called whenever the canvas gets updated.\n",
       "    this.send_message(\"ack\", {});\n",
       "}\n",
       "\n",
       "// A function to construct a web socket function for onmessage handling.\n",
       "// Called in the figure constructor.\n",
       "mpl.figure.prototype._make_on_message_function = function(fig) {\n",
       "    return function socket_on_message(evt) {\n",
       "        if (evt.data instanceof Blob) {\n",
       "            /* FIXME: We get \"Resource interpreted as Image but\n",
       "             * transferred with MIME type text/plain:\" errors on\n",
       "             * Chrome.  But how to set the MIME type?  It doesn't seem\n",
       "             * to be part of the websocket stream */\n",
       "            evt.data.type = \"image/png\";\n",
       "\n",
       "            /* Free the memory for the previous frames */\n",
       "            if (fig.imageObj.src) {\n",
       "                (window.URL || window.webkitURL).revokeObjectURL(\n",
       "                    fig.imageObj.src);\n",
       "            }\n",
       "\n",
       "            fig.imageObj.src = (window.URL || window.webkitURL).createObjectURL(\n",
       "                evt.data);\n",
       "            fig.updated_canvas_event();\n",
       "            fig.waiting = false;\n",
       "            return;\n",
       "        }\n",
       "        else if (typeof evt.data === 'string' && evt.data.slice(0, 21) == \"data:image/png;base64\") {\n",
       "            fig.imageObj.src = evt.data;\n",
       "            fig.updated_canvas_event();\n",
       "            fig.waiting = false;\n",
       "            return;\n",
       "        }\n",
       "\n",
       "        var msg = JSON.parse(evt.data);\n",
       "        var msg_type = msg['type'];\n",
       "\n",
       "        // Call the  \"handle_{type}\" callback, which takes\n",
       "        // the figure and JSON message as its only arguments.\n",
       "        try {\n",
       "            var callback = fig[\"handle_\" + msg_type];\n",
       "        } catch (e) {\n",
       "            console.log(\"No handler for the '\" + msg_type + \"' message type: \", msg);\n",
       "            return;\n",
       "        }\n",
       "\n",
       "        if (callback) {\n",
       "            try {\n",
       "                // console.log(\"Handling '\" + msg_type + \"' message: \", msg);\n",
       "                callback(fig, msg);\n",
       "            } catch (e) {\n",
       "                console.log(\"Exception inside the 'handler_\" + msg_type + \"' callback:\", e, e.stack, msg);\n",
       "            }\n",
       "        }\n",
       "    };\n",
       "}\n",
       "\n",
       "// from http://stackoverflow.com/questions/1114465/getting-mouse-location-in-canvas\n",
       "mpl.findpos = function(e) {\n",
       "    //this section is from http://www.quirksmode.org/js/events_properties.html\n",
       "    var targ;\n",
       "    if (!e)\n",
       "        e = window.event;\n",
       "    if (e.target)\n",
       "        targ = e.target;\n",
       "    else if (e.srcElement)\n",
       "        targ = e.srcElement;\n",
       "    if (targ.nodeType == 3) // defeat Safari bug\n",
       "        targ = targ.parentNode;\n",
       "\n",
       "    // jQuery normalizes the pageX and pageY\n",
       "    // pageX,Y are the mouse positions relative to the document\n",
       "    // offset() returns the position of the element relative to the document\n",
       "    var x = e.pageX - $(targ).offset().left;\n",
       "    var y = e.pageY - $(targ).offset().top;\n",
       "\n",
       "    return {\"x\": x, \"y\": y};\n",
       "};\n",
       "\n",
       "/*\n",
       " * return a copy of an object with only non-object keys\n",
       " * we need this to avoid circular references\n",
       " * http://stackoverflow.com/a/24161582/3208463\n",
       " */\n",
       "function simpleKeys (original) {\n",
       "  return Object.keys(original).reduce(function (obj, key) {\n",
       "    if (typeof original[key] !== 'object')\n",
       "        obj[key] = original[key]\n",
       "    return obj;\n",
       "  }, {});\n",
       "}\n",
       "\n",
       "mpl.figure.prototype.mouse_event = function(event, name) {\n",
       "    var canvas_pos = mpl.findpos(event)\n",
       "\n",
       "    if (name === 'button_press')\n",
       "    {\n",
       "        this.canvas.focus();\n",
       "        this.canvas_div.focus();\n",
       "    }\n",
       "\n",
       "    var x = canvas_pos.x * mpl.ratio;\n",
       "    var y = canvas_pos.y * mpl.ratio;\n",
       "\n",
       "    this.send_message(name, {x: x, y: y, button: event.button,\n",
       "                             step: event.step,\n",
       "                             guiEvent: simpleKeys(event)});\n",
       "\n",
       "    /* This prevents the web browser from automatically changing to\n",
       "     * the text insertion cursor when the button is pressed.  We want\n",
       "     * to control all of the cursor setting manually through the\n",
       "     * 'cursor' event from matplotlib */\n",
       "    event.preventDefault();\n",
       "    return false;\n",
       "}\n",
       "\n",
       "mpl.figure.prototype._key_event_extra = function(event, name) {\n",
       "    // Handle any extra behaviour associated with a key event\n",
       "}\n",
       "\n",
       "mpl.figure.prototype.key_event = function(event, name) {\n",
       "\n",
       "    // Prevent repeat events\n",
       "    if (name == 'key_press')\n",
       "    {\n",
       "        if (event.which === this._key)\n",
       "            return;\n",
       "        else\n",
       "            this._key = event.which;\n",
       "    }\n",
       "    if (name == 'key_release')\n",
       "        this._key = null;\n",
       "\n",
       "    var value = '';\n",
       "    if (event.ctrlKey && event.which != 17)\n",
       "        value += \"ctrl+\";\n",
       "    if (event.altKey && event.which != 18)\n",
       "        value += \"alt+\";\n",
       "    if (event.shiftKey && event.which != 16)\n",
       "        value += \"shift+\";\n",
       "\n",
       "    value += 'k';\n",
       "    value += event.which.toString();\n",
       "\n",
       "    this._key_event_extra(event, name);\n",
       "\n",
       "    this.send_message(name, {key: value,\n",
       "                             guiEvent: simpleKeys(event)});\n",
       "    return false;\n",
       "}\n",
       "\n",
       "mpl.figure.prototype.toolbar_button_onclick = function(name) {\n",
       "    if (name == 'download') {\n",
       "        this.handle_save(this, null);\n",
       "    } else {\n",
       "        this.send_message(\"toolbar_button\", {name: name});\n",
       "    }\n",
       "};\n",
       "\n",
       "mpl.figure.prototype.toolbar_button_onmouseover = function(tooltip) {\n",
       "    this.message.textContent = tooltip;\n",
       "};\n",
       "mpl.toolbar_items = [[\"Home\", \"Reset original view\", \"fa fa-home icon-home\", \"home\"], [\"Back\", \"Back to previous view\", \"fa fa-arrow-left icon-arrow-left\", \"back\"], [\"Forward\", \"Forward to next view\", \"fa fa-arrow-right icon-arrow-right\", \"forward\"], [\"\", \"\", \"\", \"\"], [\"Pan\", \"Pan axes with left mouse, zoom with right\", \"fa fa-arrows icon-move\", \"pan\"], [\"Zoom\", \"Zoom to rectangle\", \"fa fa-square-o icon-check-empty\", \"zoom\"], [\"\", \"\", \"\", \"\"], [\"Download\", \"Download plot\", \"fa fa-floppy-o icon-save\", \"download\"]];\n",
       "\n",
       "mpl.extensions = [\"eps\", \"jpeg\", \"pdf\", \"png\", \"ps\", \"raw\", \"svg\", \"tif\"];\n",
       "\n",
       "mpl.default_extension = \"png\";var comm_websocket_adapter = function(comm) {\n",
       "    // Create a \"websocket\"-like object which calls the given IPython comm\n",
       "    // object with the appropriate methods. Currently this is a non binary\n",
       "    // socket, so there is still some room for performance tuning.\n",
       "    var ws = {};\n",
       "\n",
       "    ws.close = function() {\n",
       "        comm.close()\n",
       "    };\n",
       "    ws.send = function(m) {\n",
       "        //console.log('sending', m);\n",
       "        comm.send(m);\n",
       "    };\n",
       "    // Register the callback with on_msg.\n",
       "    comm.on_msg(function(msg) {\n",
       "        //console.log('receiving', msg['content']['data'], msg);\n",
       "        // Pass the mpl event to the overridden (by mpl) onmessage function.\n",
       "        ws.onmessage(msg['content']['data'])\n",
       "    });\n",
       "    return ws;\n",
       "}\n",
       "\n",
       "mpl.mpl_figure_comm = function(comm, msg) {\n",
       "    // This is the function which gets called when the mpl process\n",
       "    // starts-up an IPython Comm through the \"matplotlib\" channel.\n",
       "\n",
       "    var id = msg.content.data.id;\n",
       "    // Get hold of the div created by the display call when the Comm\n",
       "    // socket was opened in Python.\n",
       "    var element = $(\"#\" + id);\n",
       "    var ws_proxy = comm_websocket_adapter(comm)\n",
       "\n",
       "    function ondownload(figure, format) {\n",
       "        window.open(figure.imageObj.src);\n",
       "    }\n",
       "\n",
       "    var fig = new mpl.figure(id, ws_proxy,\n",
       "                           ondownload,\n",
       "                           element.get(0));\n",
       "\n",
       "    // Call onopen now - mpl needs it, as it is assuming we've passed it a real\n",
       "    // web socket which is closed, not our websocket->open comm proxy.\n",
       "    ws_proxy.onopen();\n",
       "\n",
       "    fig.parent_element = element.get(0);\n",
       "    fig.cell_info = mpl.find_output_cell(\"<div id='\" + id + \"'></div>\");\n",
       "    if (!fig.cell_info) {\n",
       "        console.error(\"Failed to find cell for figure\", id, fig);\n",
       "        return;\n",
       "    }\n",
       "\n",
       "    var output_index = fig.cell_info[2]\n",
       "    var cell = fig.cell_info[0];\n",
       "\n",
       "};\n",
       "\n",
       "mpl.figure.prototype.handle_close = function(fig, msg) {\n",
       "    var width = fig.canvas.width/mpl.ratio\n",
       "    fig.root.unbind('remove')\n",
       "\n",
       "    // Update the output cell to use the data from the current canvas.\n",
       "    fig.push_to_output();\n",
       "    var dataURL = fig.canvas.toDataURL();\n",
       "    // Re-enable the keyboard manager in IPython - without this line, in FF,\n",
       "    // the notebook keyboard shortcuts fail.\n",
       "    IPython.keyboard_manager.enable()\n",
       "    $(fig.parent_element).html('<img src=\"' + dataURL + '\" width=\"' + width + '\">');\n",
       "    fig.close_ws(fig, msg);\n",
       "}\n",
       "\n",
       "mpl.figure.prototype.close_ws = function(fig, msg){\n",
       "    fig.send_message('closing', msg);\n",
       "    // fig.ws.close()\n",
       "}\n",
       "\n",
       "mpl.figure.prototype.push_to_output = function(remove_interactive) {\n",
       "    // Turn the data on the canvas into data in the output cell.\n",
       "    var width = this.canvas.width/mpl.ratio\n",
       "    var dataURL = this.canvas.toDataURL();\n",
       "    this.cell_info[1]['text/html'] = '<img src=\"' + dataURL + '\" width=\"' + width + '\">';\n",
       "}\n",
       "\n",
       "mpl.figure.prototype.updated_canvas_event = function() {\n",
       "    // Tell IPython that the notebook contents must change.\n",
       "    IPython.notebook.set_dirty(true);\n",
       "    this.send_message(\"ack\", {});\n",
       "    var fig = this;\n",
       "    // Wait a second, then push the new image to the DOM so\n",
       "    // that it is saved nicely (might be nice to debounce this).\n",
       "    setTimeout(function () { fig.push_to_output() }, 1000);\n",
       "}\n",
       "\n",
       "mpl.figure.prototype._init_toolbar = function() {\n",
       "    var fig = this;\n",
       "\n",
       "    var nav_element = $('<div/>');\n",
       "    nav_element.attr('style', 'width: 100%');\n",
       "    this.root.append(nav_element);\n",
       "\n",
       "    // Define a callback function for later on.\n",
       "    function toolbar_event(event) {\n",
       "        return fig.toolbar_button_onclick(event['data']);\n",
       "    }\n",
       "    function toolbar_mouse_event(event) {\n",
       "        return fig.toolbar_button_onmouseover(event['data']);\n",
       "    }\n",
       "\n",
       "    for(var toolbar_ind in mpl.toolbar_items){\n",
       "        var name = mpl.toolbar_items[toolbar_ind][0];\n",
       "        var tooltip = mpl.toolbar_items[toolbar_ind][1];\n",
       "        var image = mpl.toolbar_items[toolbar_ind][2];\n",
       "        var method_name = mpl.toolbar_items[toolbar_ind][3];\n",
       "\n",
       "        if (!name) { continue; };\n",
       "\n",
       "        var button = $('<button class=\"btn btn-default\" href=\"#\" title=\"' + name + '\"><i class=\"fa ' + image + ' fa-lg\"></i></button>');\n",
       "        button.click(method_name, toolbar_event);\n",
       "        button.mouseover(tooltip, toolbar_mouse_event);\n",
       "        nav_element.append(button);\n",
       "    }\n",
       "\n",
       "    // Add the status bar.\n",
       "    var status_bar = $('<span class=\"mpl-message\" style=\"text-align:right; float: right;\"/>');\n",
       "    nav_element.append(status_bar);\n",
       "    this.message = status_bar[0];\n",
       "\n",
       "    // Add the close button to the window.\n",
       "    var buttongrp = $('<div class=\"btn-group inline pull-right\"></div>');\n",
       "    var button = $('<button class=\"btn btn-mini btn-primary\" href=\"#\" title=\"Stop Interaction\"><i class=\"fa fa-power-off icon-remove icon-large\"></i></button>');\n",
       "    button.click(function (evt) { fig.handle_close(fig, {}); } );\n",
       "    button.mouseover('Stop Interaction', toolbar_mouse_event);\n",
       "    buttongrp.append(button);\n",
       "    var titlebar = this.root.find($('.ui-dialog-titlebar'));\n",
       "    titlebar.prepend(buttongrp);\n",
       "}\n",
       "\n",
       "mpl.figure.prototype._root_extra_style = function(el){\n",
       "    var fig = this\n",
       "    el.on(\"remove\", function(){\n",
       "\tfig.close_ws(fig, {});\n",
       "    });\n",
       "}\n",
       "\n",
       "mpl.figure.prototype._canvas_extra_style = function(el){\n",
       "    // this is important to make the div 'focusable\n",
       "    el.attr('tabindex', 0)\n",
       "    // reach out to IPython and tell the keyboard manager to turn it's self\n",
       "    // off when our div gets focus\n",
       "\n",
       "    // location in version 3\n",
       "    if (IPython.notebook.keyboard_manager) {\n",
       "        IPython.notebook.keyboard_manager.register_events(el);\n",
       "    }\n",
       "    else {\n",
       "        // location in version 2\n",
       "        IPython.keyboard_manager.register_events(el);\n",
       "    }\n",
       "\n",
       "}\n",
       "\n",
       "mpl.figure.prototype._key_event_extra = function(event, name) {\n",
       "    var manager = IPython.notebook.keyboard_manager;\n",
       "    if (!manager)\n",
       "        manager = IPython.keyboard_manager;\n",
       "\n",
       "    // Check for shift+enter\n",
       "    if (event.shiftKey && event.which == 13) {\n",
       "        this.canvas_div.blur();\n",
       "        event.shiftKey = false;\n",
       "        // Send a \"J\" for go to next cell\n",
       "        event.which = 74;\n",
       "        event.keyCode = 74;\n",
       "        manager.command_mode();\n",
       "        manager.handle_keydown(event);\n",
       "    }\n",
       "}\n",
       "\n",
       "mpl.figure.prototype.handle_save = function(fig, msg) {\n",
       "    fig.ondownload(fig, null);\n",
       "}\n",
       "\n",
       "\n",
       "mpl.find_output_cell = function(html_output) {\n",
       "    // Return the cell and output element which can be found *uniquely* in the notebook.\n",
       "    // Note - this is a bit hacky, but it is done because the \"notebook_saving.Notebook\"\n",
       "    // IPython event is triggered only after the cells have been serialised, which for\n",
       "    // our purposes (turning an active figure into a static one), is too late.\n",
       "    var cells = IPython.notebook.get_cells();\n",
       "    var ncells = cells.length;\n",
       "    for (var i=0; i<ncells; i++) {\n",
       "        var cell = cells[i];\n",
       "        if (cell.cell_type === 'code'){\n",
       "            for (var j=0; j<cell.output_area.outputs.length; j++) {\n",
       "                var data = cell.output_area.outputs[j];\n",
       "                if (data.data) {\n",
       "                    // IPython >= 3 moved mimebundle to data attribute of output\n",
       "                    data = data.data;\n",
       "                }\n",
       "                if (data['text/html'] == html_output) {\n",
       "                    return [cell, data, j];\n",
       "                }\n",
       "            }\n",
       "        }\n",
       "    }\n",
       "}\n",
       "\n",
       "// Register the function which deals with the matplotlib target/channel.\n",
       "// The kernel may be null if the page has been refreshed.\n",
       "if (IPython.notebook.kernel != null) {\n",
       "    IPython.notebook.kernel.comm_manager.register_target('matplotlib', mpl.mpl_figure_comm);\n",
       "}\n"
      ],
      "text/plain": [
       "<IPython.core.display.Javascript object>"
      ]
     },
     "metadata": {},
     "output_type": "display_data"
    },
    {
     "data": {
      "text/html": [
       "<img src=\"data:image/png;base64,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\" width=\"640\">"
      ],
      "text/plain": [
       "<IPython.core.display.HTML object>"
      ]
     },
     "metadata": {},
     "output_type": "display_data"
    },
    {
     "data": {
      "application/vnd.jupyter.widget-view+json": {
       "model_id": "dbccd48fa7d44d7bab56f90d2664b7a8",
       "version_major": 2,
       "version_minor": 0
      },
      "text/plain": [
       "interactive(children=(FloatSlider(value=0.3, description='lam', max=1.0), FloatSlider(value=0.95, description=…"
      ]
     },
     "metadata": {},
     "output_type": "display_data"
    }
   ],
   "source": [
    "#%xmode Verbose\n",
    "import ipywidgets as ipw \n",
    "x = np.linspace(.2,1,15,endpoint=False)\n",
    "\n",
    "fig = plt.figure()\n",
    "\n",
    "ax = fig.add_subplot(1,1,1)\n",
    "line, = ax.plot(ModelSolver(x, 0.3, 0.95, 0.01,0),ModelSolver(x, 0.3, 0.95, 0.01,1))\n",
    "\n",
    "def update(lam=0.3, r = .95, c = .01):\n",
    "    line.set_ydata(ModelSolver(x, lam, r, c,1))\n",
    "    line.set_xdata(ModelSolver(x, lam, c, c,0))\n",
    "    fig.canvas.draw()\n",
    "    \n",
    "ipw.interact(update, lam=(0.0,1.0), r=(0.9,1.0,.01), c=(0.0,0.1,.01));"
   ]
  }
 ],
 "metadata": {
  "kernelspec": {
   "display_name": "Python 3",
   "language": "python",
   "name": "python3"
  },
  "language_info": {
   "codemirror_mode": {
    "name": "ipython",
    "version": 3
   },
   "file_extension": ".py",
   "mimetype": "text/x-python",
   "name": "python",
   "nbconvert_exporter": "python",
   "pygments_lexer": "ipython3",
   "version": "3.7.4"
  }
 },
 "nbformat": 4,
 "nbformat_minor": 2
}

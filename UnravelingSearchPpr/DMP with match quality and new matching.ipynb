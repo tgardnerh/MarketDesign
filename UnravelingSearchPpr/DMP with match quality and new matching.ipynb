{
 "cells": [
  {
   "cell_type": "code",
   "execution_count": 1,
   "metadata": {},
   "outputs": [],
   "source": [
    "import sympy as sym\n",
    "import numpy as np\n",
    "sym.init_printing()\n",
    "\n",
    "import matplotlib\n",
    "import matplotlib.pyplot as plt\n",
    "\n",
    "from IPython.core.display import display, HTML\n",
    "#display(HTML(\"<style>.container { width:100% !important; }</style>\"))"
   ]
  },
  {
   "cell_type": "code",
   "execution_count": 2,
   "metadata": {},
   "outputs": [],
   "source": [
    "alpha, r, lam, R, v, u, beta, c = sym.symbols('alpha, r, L, R, v, u, beta, c')"
   ]
  },
  {
   "cell_type": "code",
   "execution_count": null,
   "metadata": {},
   "outputs": [],
   "source": []
  },
  {
   "cell_type": "code",
   "execution_count": 3,
   "metadata": {},
   "outputs": [
    {
     "data": {
      "image/png": "[encoded data removed]",
      "text/latex": [
       "$\\displaystyle - R e^{R} + \\frac{\\beta v}{L + r}$"
      ],
      "text/plain": [
       "     R    β⋅v \n",
       "- R⋅ℯ  + ─────\n",
       "         L + r"
      ]
     },
     "execution_count": 3,
     "metadata": {},
     "output_type": "execute_result"
    }
   ],
   "source": [
    "workers =  beta * v / (r + lam) -R* sym.exp(R)\n",
    "workers"
   ]
  },
  {
   "cell_type": "code",
   "execution_count": 4,
   "metadata": {},
   "outputs": [
    {
     "data": {
      "image/png": "[encoded data removed]",
      "text/latex": [
       "$\\displaystyle - c v + \\frac{u \\left(1 - \\beta\\right) e^{- R}}{L + r}$"
      ],
      "text/plain": [
       "                  -R\n",
       "       u⋅(1 - β)⋅ℯ  \n",
       "-c⋅v + ─────────────\n",
       "           L + r    "
      ]
     },
     "execution_count": 4,
     "metadata": {},
     "output_type": "execute_result"
    }
   ],
   "source": [
    "firms = u*sym.exp(-R)*(1-beta)/(r+lam)-v*c\n",
    "firms"
   ]
  },
  {
   "cell_type": "code",
   "execution_count": 5,
   "metadata": {},
   "outputs": [
    {
     "data": {
      "image/png": "[encoded data removed]",
      "text/latex": [
       "$\\displaystyle - L \\left(1 - u\\right) + u v e^{- R}$"
      ],
      "text/plain": [
       "                  -R\n",
       "-L⋅(1 - u) + u⋅v⋅ℯ  "
      ]
     },
     "execution_count": 5,
     "metadata": {},
     "output_type": "execute_result"
    }
   ],
   "source": [
    "steadystate = u*v*sym.exp(-R)-lam*(1-u)\n",
    "steadystate"
   ]
  },
  {
   "cell_type": "code",
   "execution_count": 6,
   "metadata": {},
   "outputs": [
    {
     "data": {
      "image/png": "[encoded data removed]",
      "text/latex": [
       "$\\displaystyle \\left\\{\\left( - \\frac{- L c v e^{R} - c r v e^{R}}{1 - \\beta}\\right), \\left( - \\frac{L c v e^{R} + c r v e^{R}}{\\beta - 1}\\right)\\right\\}$"
      ],
      "text/plain": [
       "⎧⎛ ⎛         R          R⎞  ⎞  ⎛ ⎛       R          R⎞  ⎞⎫\n",
       "⎪⎜-⎝- L⋅c⋅v⋅ℯ  - c⋅r⋅v⋅ℯ ⎠  ⎟  ⎜-⎝L⋅c⋅v⋅ℯ  + c⋅r⋅v⋅ℯ ⎠  ⎟⎪\n",
       "⎨⎜─────────────────────────,⎟, ⎜───────────────────────,⎟⎬\n",
       "⎪⎝          1 - β           ⎠  ⎝         β - 1          ⎠⎪\n",
       "⎩                                                        ⎭"
      ]
     },
     "execution_count": 6,
     "metadata": {},
     "output_type": "execute_result"
    }
   ],
   "source": [
    "sym.nonlinsolve([workers,firms],[u])"
   ]
  },
  {
   "cell_type": "code",
   "execution_count": 7,
   "metadata": {},
   "outputs": [
    {
     "data": {
      "image/png": "[encoded data removed]",
      "text/latex": [
       "$\\displaystyle \\left\\{\\left( \\emptyset\\right)\\right\\}$"
      ],
      "text/plain": [
       "{(∅,)}"
      ]
     },
     "execution_count": 7,
     "metadata": {},
     "output_type": "execute_result"
    }
   ],
   "source": [
    "st_frm = sym.nonlinsolve([v/(lam*(1-u))-(1-beta)/(c*(r+lam))],[R])\n",
    "st_frm"
   ]
  },
  {
   "cell_type": "code",
   "execution_count": 8,
   "metadata": {},
   "outputs": [
    {
     "data": {
      "image/png": "[encoded data removed]",
      "text/latex": [
       "$\\displaystyle \\left\\{\\left( \\left\\{R\\right\\} \\setminus \\left\\{- \\frac{L \\beta}{L + r}\\right\\}, \\  \\frac{L \\beta}{L R + L \\beta + R r}, \\  \\frac{R \\left(L + r\\right) e^{R}}{\\beta}\\right)\\right\\}$"
      ],
      "text/plain": [
       "⎧⎛                                           R⎞⎫\n",
       "⎪⎜      ⎧-L⋅β ⎫        L⋅β        R⋅(L + r)⋅ℯ ⎟⎪\n",
       "⎨⎜{R} \\ ⎨─────⎬, ───────────────, ────────────⎟⎬\n",
       "⎪⎝      ⎩L + r⎭  L⋅R + L⋅β + R⋅r       β      ⎠⎪\n",
       "⎩                                              ⎭"
      ]
     },
     "execution_count": 8,
     "metadata": {},
     "output_type": "execute_result"
    }
   ],
   "source": [
    "solution = sym.nonlinsolve([firms, workers, steadystate], [R, u, v])\n",
    "\n",
    "solution"
   ]
  },
  {
   "cell_type": "code",
   "execution_count": 9,
   "metadata": {},
   "outputs": [
    {
     "ename": "NameError",
     "evalue": "name 'R_sol' is not defined",
     "output_type": "error",
     "traceback": [
      "\u001b[0;31m---------------------------------------------------------------------------\u001b[0m",
      "\u001b[0;31mNameError\u001b[0m                                 Traceback (most recent call last)",
      "\u001b[0;32m<ipython-input-9-9b7af86ec01b>\u001b[0m in \u001b[0;36m<module>\u001b[0;34m\u001b[0m\n\u001b[0;32m----> 1\u001b[0;31m \u001b[0mR_sol\u001b[0m\u001b[0;34m\u001b[0m\u001b[0;34m\u001b[0m\u001b[0m\n\u001b[0m",
      "\u001b[0;31mNameError\u001b[0m: name 'R_sol' is not defined"
     ]
    }
   ],
   "source": [
    "R_sol"
   ]
  },
  {
   "cell_type": "code",
   "execution_count": null,
   "metadata": {},
   "outputs": [],
   "source": [
    "v_sol"
   ]
  },
  {
   "cell_type": "code",
   "execution_count": null,
   "metadata": {},
   "outputs": [],
   "source": [
    "welfare = (1-u)*(R_sol+beta)\n",
    "welfare"
   ]
  },
  {
   "cell_type": "code",
   "execution_count": null,
   "metadata": {},
   "outputs": [],
   "source": [
    "foc_welfare_u = sym.diff(welfare, u)\n",
    "sym.solveset(foc_welfare_u, u, domain = sym.S.Reals)"
   ]
  },
  {
   "cell_type": "code",
   "execution_count": null,
   "metadata": {},
   "outputs": [],
   "source": [
    "foc_welfare_beta = sym.diff(welfare, beta)\n",
    "sym.solveset(foc_welfare_beta, beta, domain = sym.S.Reals)\n",
    "#foc_welfare_beta"
   ]
  },
  {
   "cell_type": "code",
   "execution_count": null,
   "metadata": {},
   "outputs": [],
   "source": [
    "sym.nonlinsolve([beta * lam /(r+lam)*(1-u)/u+sym.log(c*(1-u)/(u*(1-beta)))-sym.log(u)],[u])"
   ]
  },
  {
   "cell_type": "code",
   "execution_count": null,
   "metadata": {},
   "outputs": [],
   "source": []
  },
  {
   "cell_type": "code",
   "execution_count": 10,
   "metadata": {},
   "outputs": [
    {
     "data": {
      "image/png": "[encoded data removed]",
      "text/latex": [
       "$\\displaystyle R e^{2 R} - \\frac{\\beta u \\left(1 - \\beta\\right)}{c \\left(L + r\\right)^{2}}$"
      ],
      "text/plain": [
       "   2⋅R   β⋅u⋅(1 - β)\n",
       "R⋅ℯ    - ───────────\n",
       "                   2\n",
       "          c⋅(L + r) "
      ]
     },
     "execution_count": 10,
     "metadata": {},
     "output_type": "execute_result"
    }
   ],
   "source": [
    "f_w = R*sym.exp(2*R)-u*(1-beta)*beta/(c*(r+lam)**2)\n",
    "f_w"
   ]
  },
  {
   "cell_type": "code",
   "execution_count": 11,
   "metadata": {},
   "outputs": [
    {
     "data": {
      "image/png": "[encoded data removed]",
      "text/latex": [
       "$\\displaystyle \\frac{L \\beta \\left(1 - u\\right)}{u \\left(L + r\\right)} - R$"
      ],
      "text/plain": [
       "L⋅β⋅(1 - u)    \n",
       "─────────── - R\n",
       " u⋅(L + r)     "
      ]
     },
     "execution_count": 11,
     "metadata": {},
     "output_type": "execute_result"
    }
   ],
   "source": [
    "s_w = (1-u)/u*lam*beta/(r+lam)-R\n",
    "s_w"
   ]
  },
  {
   "cell_type": "markdown",
   "metadata": {},
   "source": [
    "## try a numerical solution"
   ]
  },
  {
   "cell_type": "code",
   "execution_count": 301,
   "metadata": {},
   "outputs": [
    {
     "data": {
      "image/png": "[encoded data removed]",
      "text/latex": [
       "$\\displaystyle \\left[ 0.266877679477616, \\  0.33378462947053, \\  0.387568099747623, \\  0.431318622032399, \\  0.467022057940079, \\  0.496013759126611, \\  0.519213633633501, \\  0.537256364257123, \\  0.55056592889463, \\  0.55939726785398, \\  0.563855810909713, \\  0.563898922136295, \\  0.559318369251108, \\  0.549697158502, \\  0.534324083743896, \\  0.512027245967275, \\  0.480829999243416, \\  0.43715264522415, \\  0.373568953457259, \\  0.269867202392716\\right]$"
      ],
      "text/plain": [
       "[0.266877679477616, 0.33378462947053, 0.387568099747623, 0.431318622032399, 0.\n",
       "467022057940079, 0.496013759126611, 0.519213633633501, 0.537256364257123, 0.55\n",
       "056592889463, 0.55939726785398, 0.563855810909713, 0.563898922136295, 0.559318\n",
       "369251108, 0.549697158502, 0.534324083743896, 0.512027245967275, 0.48082999924\n",
       "3416, 0.43715264522415, 0.373568953457259, 0.269867202392716]"
      ]
     },
     "execution_count": 301,
     "metadata": {},
     "output_type": "execute_result"
    }
   ],
   "source": [
    "u_vals = [solver(i)[0] for i in np.linspace(.11,1,20,endpoint=False)]\n",
    "R_vals = [solver(i)[1] for i in np.linspace(.11,1,20,endpoint=False)]\n",
    "welf = [solver(i)[1]*(1-solver(i)[0]) for i in np.linspace(.11,1,20,endpoint=False)]\n",
    "welf"
   ]
  },
  {
   "cell_type": "code",
   "execution_count": 302,
   "metadata": {},
   "outputs": [
    {
     "data": {
      "text/plain": [
       "[<matplotlib.lines.Line2D at 0x7fd881fae650>,\n",
       " <matplotlib.lines.Line2D at 0x7fd881fae710>]"
      ]
     },
     "execution_count": 302,
     "metadata": {},
     "output_type": "execute_result"
    }
   ],
   "source": [
    "plt.plot(u_vals,R_vals,u_vals,welf, 'o')\n"
   ]
  },
  {
   "cell_type": "markdown",
   "metadata": {},
   "source": [
    "### find the social optimum"
   ]
  },
  {
   "cell_type": "code",
   "execution_count": 191,
   "metadata": {},
   "outputs": [
    {
     "data": {
      "image/png": "[encoded data removed]",
      "text/latex": [
       "$\\displaystyle \\frac{u}{2} + \\left(1 - u\\right) \\left(0.5 \\log{\\left(\\frac{u^{2}}{L^{2} c \\left(1 - u\\right)} \\right)} + 1\\right) - \\frac{1}{2}$"
      ],
      "text/plain": [
       "            ⎛       ⎛      2     ⎞    ⎞    \n",
       "u           ⎜       ⎜     u      ⎟    ⎟   1\n",
       "─ + (1 - u)⋅⎜0.5⋅log⎜────────────⎟ + 1⎟ - ─\n",
       "2           ⎜       ⎜ 2          ⎟    ⎟   2\n",
       "            ⎝       ⎝L ⋅c⋅(1 - u)⎠    ⎠    "
      ]
     },
     "execution_count": 191,
     "metadata": {},
     "output_type": "execute_result"
    }
   ],
   "source": [
    "welf_u = (1/2*sym.log(u**2/(lam**2*(1-u)*c))+1)*(1-u)-(1-u)/2\n",
    "welf_u"
   ]
  },
  {
   "cell_type": "code",
   "execution_count": 192,
   "metadata": {},
   "outputs": [
    {
     "data": {
      "image/png": "[encoded data removed]",
      "text/latex": [
       "$\\displaystyle \\frac{0.5 L^{2} c \\left(1 - u\\right)^{2} \\left(\\frac{u^{2}}{L^{2} c \\left(1 - u\\right)^{2}} + \\frac{2 u}{L^{2} c \\left(1 - u\\right)}\\right)}{u^{2}} - 0.5 \\log{\\left(\\frac{u^{2}}{L^{2} c \\left(1 - u\\right)} \\right)} - \\frac{1}{2}$"
      ],
      "text/plain": [
       "                  ⎛       2                    ⎞                            \n",
       "     2          2 ⎜      u             2⋅u     ⎟                            \n",
       "0.5⋅L ⋅c⋅(1 - u) ⋅⎜───────────── + ────────────⎟                            \n",
       "                  ⎜ 2          2    2          ⎟          ⎛      2     ⎞    \n",
       "                  ⎝L ⋅c⋅(1 - u)    L ⋅c⋅(1 - u)⎠          ⎜     u      ⎟   1\n",
       "──────────────────────────────────────────────── - 0.5⋅log⎜────────────⎟ - ─\n",
       "                        2                                 ⎜ 2          ⎟   2\n",
       "                       u                                  ⎝L ⋅c⋅(1 - u)⎠    "
      ]
     },
     "execution_count": 192,
     "metadata": {},
     "output_type": "execute_result"
    }
   ],
   "source": [
    "foc_welf_u = sym.diff(welf_u,u)\n",
    "foc_welf_u"
   ]
  },
  {
   "cell_type": "code",
   "execution_count": 197,
   "metadata": {},
   "outputs": [
    {
     "data": {
      "image/png": "[encoded data removed]",
      "text/latex": [
       "$\\displaystyle \\left[\\begin{matrix}0.290521080905845\\\\0.3\\\\0.01\\\\0.95\\end{matrix}\\right]$"
      ],
      "text/plain": [
       "⎡0.290521080905845⎤\n",
       "⎢                 ⎥\n",
       "⎢       0.3       ⎥\n",
       "⎢                 ⎥\n",
       "⎢      0.01       ⎥\n",
       "⎢                 ⎥\n",
       "⎣      0.95       ⎦"
      ]
     },
     "execution_count": 197,
     "metadata": {},
     "output_type": "execute_result"
    }
   ],
   "source": [
    "s_opt = sym.nsolve((foc_welf_u,lam-0.3,r-.95,c-.01),(u,lam,c,r),(.1,1,.1, .95))\n",
    "s_opt"
   ]
  },
  {
   "cell_type": "code",
   "execution_count": 205,
   "metadata": {},
   "outputs": [],
   "source": [
    "def optRvofU(u,lam,c):\n",
    "    return [sym.log(u**2/(lam**2*(1-u)*c))/2,lam*(1-u)/u*u**2/(lam**2*(1-u)*c)]"
   ]
  },
  {
   "cell_type": "code",
   "execution_count": 212,
   "metadata": {},
   "outputs": [],
   "source": [
    "opt_u_pt = [s_opt[0]]\n",
    "opt_R_pt = [optRvofU(s_opt[0],s_opt[1],s_opt[2])[0]]\n",
    "opt_welf_pt = [(optRvofU(s_opt[0],s_opt[1],s_opt[2])[0]+1)*(1-s_opt[0])-\n",
    "               optRvofU(s_opt[0],s_opt[1],s_opt[2])[1]*s_opt[2]]\n"
   ]
  },
  {
   "cell_type": "code",
   "execution_count": 64,
   "metadata": {},
   "outputs": [
    {
     "ename": "NameError",
     "evalue": "name 'u_vals' is not defined",
     "output_type": "error",
     "traceback": [
      "\u001b[0;31m---------------------------------------------------------------------------\u001b[0m",
      "\u001b[0;31mNameError\u001b[0m                                 Traceback (most recent call last)",
      "\u001b[0;32m<ipython-input-64-f4649a1ca6e2>\u001b[0m in \u001b[0;36m<module>\u001b[0;34m\u001b[0m\n\u001b[0;32m----> 1\u001b[0;31m \u001b[0mplt\u001b[0m\u001b[0;34m.\u001b[0m\u001b[0mplot\u001b[0m\u001b[0;34m(\u001b[0m\u001b[0mu_vals\u001b[0m\u001b[0;34m,\u001b[0m\u001b[0mR_vals\u001b[0m\u001b[0;34m,\u001b[0m\u001b[0mu_vals\u001b[0m\u001b[0;34m,\u001b[0m\u001b[0mwelf\u001b[0m\u001b[0;34m,\u001b[0m \u001b[0;34m'o'\u001b[0m\u001b[0;34m,\u001b[0m\u001b[0mopt_u_pt\u001b[0m\u001b[0;34m,\u001b[0m \u001b[0mopt_R_pt\u001b[0m\u001b[0;34m,\u001b[0m\u001b[0;34m'rx'\u001b[0m\u001b[0;34m,\u001b[0m\u001b[0mopt_u_pt\u001b[0m\u001b[0;34m,\u001b[0m\u001b[0mopt_welf_pt\u001b[0m\u001b[0;34m,\u001b[0m\u001b[0;34m'ro'\u001b[0m\u001b[0;34m)\u001b[0m\u001b[0;34m\u001b[0m\u001b[0;34m\u001b[0m\u001b[0m\n\u001b[0m",
      "\u001b[0;31mNameError\u001b[0m: name 'u_vals' is not defined"
     ]
    }
   ],
   "source": [
    "plt.plot(u_vals,R_vals,u_vals,welf, 'o',opt_u_pt, opt_R_pt,'rx',opt_u_pt,opt_welf_pt,'ro')\n"
   ]
  },
  {
   "cell_type": "code",
   "execution_count": 247,
   "metadata": {},
   "outputs": [
    {
     "data": {
      "image/png": "[encoded data removed]",
      "text/latex": [
       "$\\displaystyle \\left[ 1.0, \\  1.4142135623731\\right]$"
      ],
      "text/plain": [
       "[1.0, 1.4142135623731]"
      ]
     },
     "execution_count": 247,
     "metadata": {},
     "output_type": "execute_result"
    }
   ],
   "source": [
    "def bob(x):\n",
    "    return [sym.nsolve((u**2-i),(u),(1)) for i in x]\n",
    "bob([1,2])"
   ]
  },
  {
   "cell_type": "code",
   "execution_count": 247,
   "metadata": {},
   "outputs": [
    {
     "data": {
      "image/png": "[encoded data removed]",
      "text/latex": [
       "$\\displaystyle \\left[ 1.0, \\  1.4142135623731\\right]$"
      ],
      "text/plain": [
       "[1.0, 1.4142135623731]"
      ]
     },
     "execution_count": 247,
     "metadata": {},
     "output_type": "execute_result"
    }
   ],
   "source": [
    "def bob(x):\n",
    "    return [sym.nsolve((u**2-i),(u),(1)) for i in x]\n",
    "bob([1,2])"
   ]
  },
  {
   "cell_type": "code",
   "execution_count": 65,
   "metadata": {},
   "outputs": [
    {
     "data": {
      "image/png": "[encoded data removed]",
      "text/latex": [
       "$\\displaystyle \\left[ 0.290521080905845, \\  2.44209100724119, \\  2.08735154769411\\right]$"
      ],
      "text/plain": [
       "[0.290521080905845, 2.44209100724119, 2.08735154769411]"
      ]
     },
     "execution_count": 65,
     "metadata": {},
     "output_type": "execute_result"
    }
   ],
   "source": [
    "def ModelSolver(B,L,r_val,c_val):\n",
    "    try: \n",
    "        out = sym.nsolve(((1-u)/u*lam*beta/(r+lam)-R,\n",
    "                       R*sym.exp(2*R)-u*(1-beta)*beta/(c*(r+lam)**2),\n",
    "                       lam-L,r-r_val,c-c_val,beta-B),\n",
    "                      (u,R,lam,c,beta,r),(.1,1,L,c_val,B,r_val))\n",
    "    except: \n",
    "        out = sym.Matrix([float(\"NaN\")]*6)\n",
    "    return out\n",
    "def SocialOpt(L,r_val,c_val):\n",
    "    welf_u = (1/2*sym.log(u**2/(lam**2*(1-u)*c))+1)*(1-u)-(1-u)/2\n",
    "    foc_welf_u = sym.diff(welf_u,u)\n",
    "    \n",
    "    s_opt = sym.nsolve((foc_welf_u, lam-L,r-r_val,c-c_val),(u,lam,c,r),(.1,L,c_val,r_val))\n",
    "    opt_u = s_opt[0]\n",
    "    opt_R = sym.log(s_opt[0]**2/(L**2*(1-s_opt[0])*c_val))/2 \n",
    "    \n",
    "    opt_welf = welf_u.subs([(u,opt_u),(lam,L),(c,c_val)])\n",
    "    \n",
    "    return [opt_u, opt_R, opt_welf]\n",
    "\n",
    "SocialOpt(.3,.95,.01)"
   ]
  },
  {
   "cell_type": "code",
   "execution_count": 78,
   "metadata": {
    "scrolled": false
   },
   "outputs": [
    {
     "data": {
      "application/javascript": [
       "/* Put everything inside the global mpl namespace */\n",
       "window.mpl = {};\n",
       "\n",
       "\n",
       "mpl.get_websocket_type = function() {\n",
       "    if (typeof(WebSocket) !== 'undefined') {\n",
       "        return WebSocket;\n",
       "    } else if (typeof(MozWebSocket) !== 'undefined') {\n",
       "        return MozWebSocket;\n",
       "    } else {\n",
       "        alert('Your browser does not have WebSocket support. ' +\n",
       "              'Please try Chrome, Safari or Firefox ≥ 6. ' +\n",
       "              'Firefox 4 and 5 are also supported but you ' +\n",
       "              'have to enable WebSockets in about:config.');\n",
       "    };\n",
       "}\n",
       "\n",
       "mpl.figure = function(figure_id, websocket, ondownload, parent_element) {\n",
       "    this.id = figure_id;\n",
       "\n",
       "    this.ws = websocket;\n",
       "\n",
       "    this.supports_binary = (this.ws.binaryType != undefined);\n",
       "\n",
       "    if (!this.supports_binary) {\n",
       "        var warnings = document.getElementById(\"mpl-warnings\");\n",
       "        if (warnings) {\n",
       "            warnings.style.display = 'block';\n",
       "            warnings.textContent = (\n",
       "                \"This browser does not support binary websocket messages. \" +\n",
       "                    \"Performance may be slow.\");\n",
       "        }\n",
       "    }\n",
       "\n",
       "    this.imageObj = new Image();\n",
       "\n",
       "    this.context = undefined;\n",
       "    this.message = undefined;\n",
       "    this.canvas = undefined;\n",
       "    this.rubberband_canvas = undefined;\n",
       "    this.rubberband_context = undefined;\n",
       "    this.format_dropdown = undefined;\n",
       "\n",
       "    this.image_mode = 'full';\n",
       "\n",
       "    this.root = $('<div/>');\n",
       "    this._root_extra_style(this.root)\n",
       "    this.root.attr('style', 'display: inline-block');\n",
       "\n",
       "    $(parent_element).append(this.root);\n",
       "\n",
       "    this._init_header(this);\n",
       "    this._init_canvas(this);\n",
       "    this._init_toolbar(this);\n",
       "\n",
       "    var fig = this;\n",
       "\n",
       "    this.waiting = false;\n",
       "\n",
       "    this.ws.onopen =  function () {\n",
       "            fig.send_message(\"supports_binary\", {value: fig.supports_binary});\n",
       "            fig.send_message(\"send_image_mode\", {});\n",
       "            if (mpl.ratio != 1) {\n",
       "                fig.send_message(\"set_dpi_ratio\", {'dpi_ratio': mpl.ratio});\n",
       "            }\n",
       "            fig.send_message(\"refresh\", {});\n",
       "        }\n",
       "\n",
       "    this.imageObj.onload = function() {\n",
       "            if (fig.image_mode == 'full') {\n",
       "                // Full images could contain transparency (where diff images\n",
       "                // almost always do), so we need to clear the canvas so that\n",
       "                // there is no ghosting.\n",
       "                fig.context.clearRect(0, 0, fig.canvas.width, fig.canvas.height);\n",
       "            }\n",
       "            fig.context.drawImage(fig.imageObj, 0, 0);\n",
       "        };\n",
       "\n",
       "    this.imageObj.onunload = function() {\n",
       "        fig.ws.close();\n",
       "    }\n",
       "\n",
       "    this.ws.onmessage = this._make_on_message_function(this);\n",
       "\n",
       "    this.ondownload = ondownload;\n",
       "}\n",
       "\n",
       "mpl.figure.prototype._init_header = function() {\n",
       "    var titlebar = $(\n",
       "        '<div class=\"ui-dialog-titlebar ui-widget-header ui-corner-all ' +\n",
       "        'ui-helper-clearfix\"/>');\n",
       "    var titletext = $(\n",
       "        '<div class=\"ui-dialog-title\" style=\"width: 100%; ' +\n",
       "        'text-align: center; padding: 3px;\"/>');\n",
       "    titlebar.append(titletext)\n",
       "    this.root.append(titlebar);\n",
       "    this.header = titletext[0];\n",
       "}\n",
       "\n",
       "\n",
       "\n",
       "mpl.figure.prototype._canvas_extra_style = function(canvas_div) {\n",
       "\n",
       "}\n",
       "\n",
       "\n",
       "mpl.figure.prototype._root_extra_style = function(canvas_div) {\n",
       "\n",
       "}\n",
       "\n",
       "mpl.figure.prototype._init_canvas = function() {\n",
       "    var fig = this;\n",
       "\n",
       "    var canvas_div = $('<div/>');\n",
       "\n",
       "    canvas_div.attr('style', 'position: relative; clear: both; outline: 0');\n",
       "\n",
       "    function canvas_keyboard_event(event) {\n",
       "        return fig.key_event(event, event['data']);\n",
       "    }\n",
       "\n",
       "    canvas_div.keydown('key_press', canvas_keyboard_event);\n",
       "    canvas_div.keyup('key_release', canvas_keyboard_event);\n",
       "    this.canvas_div = canvas_div\n",
       "    this._canvas_extra_style(canvas_div)\n",
       "    this.root.append(canvas_div);\n",
       "\n",
       "    var canvas = $('<canvas/>');\n",
       "    canvas.addClass('mpl-canvas');\n",
       "    canvas.attr('style', \"left: 0; top: 0; z-index: 0; outline: 0\")\n",
       "\n",
       "    this.canvas = canvas[0];\n",
       "    this.context = canvas[0].getContext(\"2d\");\n",
       "\n",
       "    var backingStore = this.context.backingStorePixelRatio ||\n",
       "\tthis.context.webkitBackingStorePixelRatio ||\n",
       "\tthis.context.mozBackingStorePixelRatio ||\n",
       "\tthis.context.msBackingStorePixelRatio ||\n",
       "\tthis.context.oBackingStorePixelRatio ||\n",
       "\tthis.context.backingStorePixelRatio || 1;\n",
       "\n",
       "    mpl.ratio = (window.devicePixelRatio || 1) / backingStore;\n",
       "\n",
       "    var rubberband = $('<canvas/>');\n",
       "    rubberband.attr('style', \"position: absolute; left: 0; top: 0; z-index: 1;\")\n",
       "\n",
       "    var pass_mouse_events = true;\n",
       "\n",
       "    canvas_div.resizable({\n",
       "        start: function(event, ui) {\n",
       "            pass_mouse_events = false;\n",
       "        },\n",
       "        resize: function(event, ui) {\n",
       "            fig.request_resize(ui.size.width, ui.size.height);\n",
       "        },\n",
       "        stop: function(event, ui) {\n",
       "            pass_mouse_events = true;\n",
       "            fig.request_resize(ui.size.width, ui.size.height);\n",
       "        },\n",
       "    });\n",
       "\n",
       "    function mouse_event_fn(event) {\n",
       "        if (pass_mouse_events)\n",
       "            return fig.mouse_event(event, event['data']);\n",
       "    }\n",
       "\n",
       "    rubberband.mousedown('button_press', mouse_event_fn);\n",
       "    rubberband.mouseup('button_release', mouse_event_fn);\n",
       "    // Throttle sequential mouse events to 1 every 20ms.\n",
       "    rubberband.mousemove('motion_notify', mouse_event_fn);\n",
       "\n",
       "    rubberband.mouseenter('figure_enter', mouse_event_fn);\n",
       "    rubberband.mouseleave('figure_leave', mouse_event_fn);\n",
       "\n",
       "    canvas_div.on(\"wheel\", function (event) {\n",
       "        event = event.originalEvent;\n",
       "        event['data'] = 'scroll'\n",
       "        if (event.deltaY < 0) {\n",
       "            event.step = 1;\n",
       "        } else {\n",
       "            event.step = -1;\n",
       "        }\n",
       "        mouse_event_fn(event);\n",
       "    });\n",
       "\n",
       "    canvas_div.append(canvas);\n",
       "    canvas_div.append(rubberband);\n",
       "\n",
       "    this.rubberband = rubberband;\n",
       "    this.rubberband_canvas = rubberband[0];\n",
       "    this.rubberband_context = rubberband[0].getContext(\"2d\");\n",
       "    this.rubberband_context.strokeStyle = \"#000000\";\n",
       "\n",
       "    this._resize_canvas = function(width, height) {\n",
       "        // Keep the size of the canvas, canvas container, and rubber band\n",
       "        // canvas in synch.\n",
       "        canvas_div.css('width', width)\n",
       "        canvas_div.css('height', height)\n",
       "\n",
       "        canvas.attr('width', width * mpl.ratio);\n",
       "        canvas.attr('height', height * mpl.ratio);\n",
       "        canvas.attr('style', 'width: ' + width + 'px; height: ' + height + 'px;');\n",
       "\n",
       "        rubberband.attr('width', width);\n",
       "        rubberband.attr('height', height);\n",
       "    }\n",
       "\n",
       "    // Set the figure to an initial 600x600px, this will subsequently be updated\n",
       "    // upon first draw.\n",
       "    this._resize_canvas(600, 600);\n",
       "\n",
       "    // Disable right mouse context menu.\n",
       "    $(this.rubberband_canvas).bind(\"contextmenu\",function(e){\n",
       "        return false;\n",
       "    });\n",
       "\n",
       "    function set_focus () {\n",
       "        canvas.focus();\n",
       "        canvas_div.focus();\n",
       "    }\n",
       "\n",
       "    window.setTimeout(set_focus, 100);\n",
       "}\n",
       "\n",
       "mpl.figure.prototype._init_toolbar = function() {\n",
       "    var fig = this;\n",
       "\n",
       "    var nav_element = $('<div/>');\n",
       "    nav_element.attr('style', 'width: 100%');\n",
       "    this.root.append(nav_element);\n",
       "\n",
       "    // Define a callback function for later on.\n",
       "    function toolbar_event(event) {\n",
       "        return fig.toolbar_button_onclick(event['data']);\n",
       "    }\n",
       "    function toolbar_mouse_event(event) {\n",
       "        return fig.toolbar_button_onmouseover(event['data']);\n",
       "    }\n",
       "\n",
       "    for(var toolbar_ind in mpl.toolbar_items) {\n",
       "        var name = mpl.toolbar_items[toolbar_ind][0];\n",
       "        var tooltip = mpl.toolbar_items[toolbar_ind][1];\n",
       "        var image = mpl.toolbar_items[toolbar_ind][2];\n",
       "        var method_name = mpl.toolbar_items[toolbar_ind][3];\n",
       "\n",
       "        if (!name) {\n",
       "            // put a spacer in here.\n",
       "            continue;\n",
       "        }\n",
       "        var button = $('<button/>');\n",
       "        button.addClass('ui-button ui-widget ui-state-default ui-corner-all ' +\n",
       "                        'ui-button-icon-only');\n",
       "        button.attr('role', 'button');\n",
       "        button.attr('aria-disabled', 'false');\n",
       "        button.click(method_name, toolbar_event);\n",
       "        button.mouseover(tooltip, toolbar_mouse_event);\n",
       "\n",
       "        var icon_img = $('<span/>');\n",
       "        icon_img.addClass('ui-button-icon-primary ui-icon');\n",
       "        icon_img.addClass(image);\n",
       "        icon_img.addClass('ui-corner-all');\n",
       "\n",
       "        var tooltip_span = $('<span/>');\n",
       "        tooltip_span.addClass('ui-button-text');\n",
       "        tooltip_span.html(tooltip);\n",
       "\n",
       "        button.append(icon_img);\n",
       "        button.append(tooltip_span);\n",
       "\n",
       "        nav_element.append(button);\n",
       "    }\n",
       "\n",
       "    var fmt_picker_span = $('<span/>');\n",
       "\n",
       "    var fmt_picker = $('<select/>');\n",
       "    fmt_picker.addClass('mpl-toolbar-option ui-widget ui-widget-content');\n",
       "    fmt_picker_span.append(fmt_picker);\n",
       "    nav_element.append(fmt_picker_span);\n",
       "    this.format_dropdown = fmt_picker[0];\n",
       "\n",
       "    for (var ind in mpl.extensions) {\n",
       "        var fmt = mpl.extensions[ind];\n",
       "        var option = $(\n",
       "            '<option/>', {selected: fmt === mpl.default_extension}).html(fmt);\n",
       "        fmt_picker.append(option);\n",
       "    }\n",
       "\n",
       "    // Add hover states to the ui-buttons\n",
       "    $( \".ui-button\" ).hover(\n",
       "        function() { $(this).addClass(\"ui-state-hover\");},\n",
       "        function() { $(this).removeClass(\"ui-state-hover\");}\n",
       "    );\n",
       "\n",
       "    var status_bar = $('<span class=\"mpl-message\"/>');\n",
       "    nav_element.append(status_bar);\n",
       "    this.message = status_bar[0];\n",
       "}\n",
       "\n",
       "mpl.figure.prototype.request_resize = function(x_pixels, y_pixels) {\n",
       "    // Request matplotlib to resize the figure. Matplotlib will then trigger a resize in the client,\n",
       "    // which will in turn request a refresh of the image.\n",
       "    this.send_message('resize', {'width': x_pixels, 'height': y_pixels});\n",
       "}\n",
       "\n",
       "mpl.figure.prototype.send_message = function(type, properties) {\n",
       "    properties['type'] = type;\n",
       "    properties['figure_id'] = this.id;\n",
       "    this.ws.send(JSON.stringify(properties));\n",
       "}\n",
       "\n",
       "mpl.figure.prototype.send_draw_message = function() {\n",
       "    if (!this.waiting) {\n",
       "        this.waiting = true;\n",
       "        this.ws.send(JSON.stringify({type: \"draw\", figure_id: this.id}));\n",
       "    }\n",
       "}\n",
       "\n",
       "\n",
       "mpl.figure.prototype.handle_save = function(fig, msg) {\n",
       "    var format_dropdown = fig.format_dropdown;\n",
       "    var format = format_dropdown.options[format_dropdown.selectedIndex].value;\n",
       "    fig.ondownload(fig, format);\n",
       "}\n",
       "\n",
       "\n",
       "mpl.figure.prototype.handle_resize = function(fig, msg) {\n",
       "    var size = msg['size'];\n",
       "    if (size[0] != fig.canvas.width || size[1] != fig.canvas.height) {\n",
       "        fig._resize_canvas(size[0], size[1]);\n",
       "        fig.send_message(\"refresh\", {});\n",
       "    };\n",
       "}\n",
       "\n",
       "mpl.figure.prototype.handle_rubberband = function(fig, msg) {\n",
       "    var x0 = msg['x0'] / mpl.ratio;\n",
       "    var y0 = (fig.canvas.height - msg['y0']) / mpl.ratio;\n",
       "    var x1 = msg['x1'] / mpl.ratio;\n",
       "    var y1 = (fig.canvas.height - msg['y1']) / mpl.ratio;\n",
       "    x0 = Math.floor(x0) + 0.5;\n",
       "    y0 = Math.floor(y0) + 0.5;\n",
       "    x1 = Math.floor(x1) + 0.5;\n",
       "    y1 = Math.floor(y1) + 0.5;\n",
       "    var min_x = Math.min(x0, x1);\n",
       "    var min_y = Math.min(y0, y1);\n",
       "    var width = Math.abs(x1 - x0);\n",
       "    var height = Math.abs(y1 - y0);\n",
       "\n",
       "    fig.rubberband_context.clearRect(\n",
       "        0, 0, fig.canvas.width / mpl.ratio, fig.canvas.height / mpl.ratio);\n",
       "\n",
       "    fig.rubberband_context.strokeRect(min_x, min_y, width, height);\n",
       "}\n",
       "\n",
       "mpl.figure.prototype.handle_figure_label = function(fig, msg) {\n",
       "    // Updates the figure title.\n",
       "    fig.header.textContent = msg['label'];\n",
       "}\n",
       "\n",
       "mpl.figure.prototype.handle_cursor = function(fig, msg) {\n",
       "    var cursor = msg['cursor'];\n",
       "    switch(cursor)\n",
       "    {\n",
       "    case 0:\n",
       "        cursor = 'pointer';\n",
       "        break;\n",
       "    case 1:\n",
       "        cursor = 'default';\n",
       "        break;\n",
       "    case 2:\n",
       "        cursor = 'crosshair';\n",
       "        break;\n",
       "    case 3:\n",
       "        cursor = 'move';\n",
       "        break;\n",
       "    }\n",
       "    fig.rubberband_canvas.style.cursor = cursor;\n",
       "}\n",
       "\n",
       "mpl.figure.prototype.handle_message = function(fig, msg) {\n",
       "    fig.message.textContent = msg['message'];\n",
       "}\n",
       "\n",
       "mpl.figure.prototype.handle_draw = function(fig, msg) {\n",
       "    // Request the server to send over a new figure.\n",
       "    fig.send_draw_message();\n",
       "}\n",
       "\n",
       "mpl.figure.prototype.handle_image_mode = function(fig, msg) {\n",
       "    fig.image_mode = msg['mode'];\n",
       "}\n",
       "\n",
       "mpl.figure.prototype.updated_canvas_event = function() {\n",
       "    // Called whenever the canvas gets updated.\n",
       "    this.send_message(\"ack\", {});\n",
       "}\n",
       "\n",
       "// A function to construct a web socket function for onmessage handling.\n",
       "// Called in the figure constructor.\n",
       "mpl.figure.prototype._make_on_message_function = function(fig) {\n",
       "    return function socket_on_message(evt) {\n",
       "        if (evt.data instanceof Blob) {\n",
       "            /* FIXME: We get \"Resource interpreted as Image but\n",
       "             * transferred with MIME type text/plain:\" errors on\n",
       "             * Chrome.  But how to set the MIME type?  It doesn't seem\n",
       "             * to be part of the websocket stream */\n",
       "            evt.data.type = \"image/png\";\n",
       "\n",
       "            /* Free the memory for the previous frames */\n",
       "            if (fig.imageObj.src) {\n",
       "                (window.URL || window.webkitURL).revokeObjectURL(\n",
       "                    fig.imageObj.src);\n",
       "            }\n",
       "\n",
       "            fig.imageObj.src = (window.URL || window.webkitURL).createObjectURL(\n",
       "                evt.data);\n",
       "            fig.updated_canvas_event();\n",
       "            fig.waiting = false;\n",
       "            return;\n",
       "        }\n",
       "        else if (typeof evt.data === 'string' && evt.data.slice(0, 21) == \"data:image/png;base64\") {\n",
       "            fig.imageObj.src = evt.data;\n",
       "            fig.updated_canvas_event();\n",
       "            fig.waiting = false;\n",
       "            return;\n",
       "        }\n",
       "\n",
       "        var msg = JSON.parse(evt.data);\n",
       "        var msg_type = msg['type'];\n",
       "\n",
       "        // Call the  \"handle_{type}\" callback, which takes\n",
       "        // the figure and JSON message as its only arguments.\n",
       "        try {\n",
       "            var callback = fig[\"handle_\" + msg_type];\n",
       "        } catch (e) {\n",
       "            console.log(\"No handler for the '\" + msg_type + \"' message type: \", msg);\n",
       "            return;\n",
       "        }\n",
       "\n",
       "        if (callback) {\n",
       "            try {\n",
       "                // console.log(\"Handling '\" + msg_type + \"' message: \", msg);\n",
       "                callback(fig, msg);\n",
       "            } catch (e) {\n",
       "                console.log(\"Exception inside the 'handler_\" + msg_type + \"' callback:\", e, e.stack, msg);\n",
       "            }\n",
       "        }\n",
       "    };\n",
       "}\n",
       "\n",
       "// from http://stackoverflow.com/questions/1114465/getting-mouse-location-in-canvas\n",
       "mpl.findpos = function(e) {\n",
       "    //this section is from http://www.quirksmode.org/js/events_properties.html\n",
       "    var targ;\n",
       "    if (!e)\n",
       "        e = window.event;\n",
       "    if (e.target)\n",
       "        targ = e.target;\n",
       "    else if (e.srcElement)\n",
       "        targ = e.srcElement;\n",
       "    if (targ.nodeType == 3) // defeat Safari bug\n",
       "        targ = targ.parentNode;\n",
       "\n",
       "    // jQuery normalizes the pageX and pageY\n",
       "    // pageX,Y are the mouse positions relative to the document\n",
       "    // offset() returns the position of the element relative to the document\n",
       "    var x = e.pageX - $(targ).offset().left;\n",
       "    var y = e.pageY - $(targ).offset().top;\n",
       "\n",
       "    return {\"x\": x, \"y\": y};\n",
       "};\n",
       "\n",
       "/*\n",
       " * return a copy of an object with only non-object keys\n",
       " * we need this to avoid circular references\n",
       " * http://stackoverflow.com/a/24161582/3208463\n",
       " */\n",
       "function simpleKeys (original) {\n",
       "  return Object.keys(original).reduce(function (obj, key) {\n",
       "    if (typeof original[key] !== 'object')\n",
       "        obj[key] = original[key]\n",
       "    return obj;\n",
       "  }, {});\n",
       "}\n",
       "\n",
       "mpl.figure.prototype.mouse_event = function(event, name) {\n",
       "    var canvas_pos = mpl.findpos(event)\n",
       "\n",
       "    if (name === 'button_press')\n",
       "    {\n",
       "        this.canvas.focus();\n",
       "        this.canvas_div.focus();\n",
       "    }\n",
       "\n",
       "    var x = canvas_pos.x * mpl.ratio;\n",
       "    var y = canvas_pos.y * mpl.ratio;\n",
       "\n",
       "    this.send_message(name, {x: x, y: y, button: event.button,\n",
       "                             step: event.step,\n",
       "                             guiEvent: simpleKeys(event)});\n",
       "\n",
       "    /* This prevents the web browser from automatically changing to\n",
       "     * the text insertion cursor when the button is pressed.  We want\n",
       "     * to control all of the cursor setting manually through the\n",
       "     * 'cursor' event from matplotlib */\n",
       "    event.preventDefault();\n",
       "    return false;\n",
       "}\n",
       "\n",
       "mpl.figure.prototype._key_event_extra = function(event, name) {\n",
       "    // Handle any extra behaviour associated with a key event\n",
       "}\n",
       "\n",
       "mpl.figure.prototype.key_event = function(event, name) {\n",
       "\n",
       "    // Prevent repeat events\n",
       "    if (name == 'key_press')\n",
       "    {\n",
       "        if (event.which === this._key)\n",
       "            return;\n",
       "        else\n",
       "            this._key = event.which;\n",
       "    }\n",
       "    if (name == 'key_release')\n",
       "        this._key = null;\n",
       "\n",
       "    var value = '';\n",
       "    if (event.ctrlKey && event.which != 17)\n",
       "        value += \"ctrl+\";\n",
       "    if (event.altKey && event.which != 18)\n",
       "        value += \"alt+\";\n",
       "    if (event.shiftKey && event.which != 16)\n",
       "        value += \"shift+\";\n",
       "\n",
       "    value += 'k';\n",
       "    value += event.which.toString();\n",
       "\n",
       "    this._key_event_extra(event, name);\n",
       "\n",
       "    this.send_message(name, {key: value,\n",
       "                             guiEvent: simpleKeys(event)});\n",
       "    return false;\n",
       "}\n",
       "\n",
       "mpl.figure.prototype.toolbar_button_onclick = function(name) {\n",
       "    if (name == 'download') {\n",
       "        this.handle_save(this, null);\n",
       "    } else {\n",
       "        this.send_message(\"toolbar_button\", {name: name});\n",
       "    }\n",
       "};\n",
       "\n",
       "mpl.figure.prototype.toolbar_button_onmouseover = function(tooltip) {\n",
       "    this.message.textContent = tooltip;\n",
       "};\n",
       "mpl.toolbar_items = [[\"Home\", \"Reset original view\", \"fa fa-home icon-home\", \"home\"], [\"Back\", \"Back to previous view\", \"fa fa-arrow-left icon-arrow-left\", \"back\"], [\"Forward\", \"Forward to next view\", \"fa fa-arrow-right icon-arrow-right\", \"forward\"], [\"\", \"\", \"\", \"\"], [\"Pan\", \"Pan axes with left mouse, zoom with right\", \"fa fa-arrows icon-move\", \"pan\"], [\"Zoom\", \"Zoom to rectangle\", \"fa fa-square-o icon-check-empty\", \"zoom\"], [\"\", \"\", \"\", \"\"], [\"Download\", \"Download plot\", \"fa fa-floppy-o icon-save\", \"download\"]];\n",
       "\n",
       "mpl.extensions = [\"eps\", \"jpeg\", \"pdf\", \"png\", \"ps\", \"raw\", \"svg\", \"tif\"];\n",
       "\n",
       "mpl.default_extension = \"png\";var comm_websocket_adapter = function(comm) {\n",
       "    // Create a \"websocket\"-like object which calls the given IPython comm\n",
       "    // object with the appropriate methods. Currently this is a non binary\n",
       "    // socket, so there is still some room for performance tuning.\n",
       "    var ws = {};\n",
       "\n",
       "    ws.close = function() {\n",
       "        comm.close()\n",
       "    };\n",
       "    ws.send = function(m) {\n",
       "        //console.log('sending', m);\n",
       "        comm.send(m);\n",
       "    };\n",
       "    // Register the callback with on_msg.\n",
       "    comm.on_msg(function(msg) {\n",
       "        //console.log('receiving', msg['content']['data'], msg);\n",
       "        // Pass the mpl event to the overridden (by mpl) onmessage function.\n",
       "        ws.onmessage(msg['content']['data'])\n",
       "    });\n",
       "    return ws;\n",
       "}\n",
       "\n",
       "mpl.mpl_figure_comm = function(comm, msg) {\n",
       "    // This is the function which gets called when the mpl process\n",
       "    // starts-up an IPython Comm through the \"matplotlib\" channel.\n",
       "\n",
       "    var id = msg.content.data.id;\n",
       "    // Get hold of the div created by the display call when the Comm\n",
       "    // socket was opened in Python.\n",
       "    var element = $(\"#\" + id);\n",
       "    var ws_proxy = comm_websocket_adapter(comm)\n",
       "\n",
       "    function ondownload(figure, format) {\n",
       "        window.open(figure.imageObj.src);\n",
       "    }\n",
       "\n",
       "    var fig = new mpl.figure(id, ws_proxy,\n",
       "                           ondownload,\n",
       "                           element.get(0));\n",
       "\n",
       "    // Call onopen now - mpl needs it, as it is assuming we've passed it a real\n",
       "    // web socket which is closed, not our websocket->open comm proxy.\n",
       "    ws_proxy.onopen();\n",
       "\n",
       "    fig.parent_element = element.get(0);\n",
       "    fig.cell_info = mpl.find_output_cell(\"<div id='\" + id + \"'></div>\");\n",
       "    if (!fig.cell_info) {\n",
       "        console.error(\"Failed to find cell for figure\", id, fig);\n",
       "        return;\n",
       "    }\n",
       "\n",
       "    var output_index = fig.cell_info[2]\n",
       "    var cell = fig.cell_info[0];\n",
       "\n",
       "};\n",
       "\n",
       "mpl.figure.prototype.handle_close = function(fig, msg) {\n",
       "    var width = fig.canvas.width/mpl.ratio\n",
       "    fig.root.unbind('remove')\n",
       "\n",
       "    // Update the output cell to use the data from the current canvas.\n",
       "    fig.push_to_output();\n",
       "    var dataURL = fig.canvas.toDataURL();\n",
       "    // Re-enable the keyboard manager in IPython - without this line, in FF,\n",
       "    // the notebook keyboard shortcuts fail.\n",
       "    IPython.keyboard_manager.enable()\n",
       "    $(fig.parent_element).html('<img src=\"' + dataURL + '\" width=\"' + width + '\">');\n",
       "    fig.close_ws(fig, msg);\n",
       "}\n",
       "\n",
       "mpl.figure.prototype.close_ws = function(fig, msg){\n",
       "    fig.send_message('closing', msg);\n",
       "    // fig.ws.close()\n",
       "}\n",
       "\n",
       "mpl.figure.prototype.push_to_output = function(remove_interactive) {\n",
       "    // Turn the data on the canvas into data in the output cell.\n",
       "    var width = this.canvas.width/mpl.ratio\n",
       "    var dataURL = this.canvas.toDataURL();\n",
       "    this.cell_info[1]['text/html'] = '<img src=\"' + dataURL + '\" width=\"' + width + '\">';\n",
       "}\n",
       "\n",
       "mpl.figure.prototype.updated_canvas_event = function() {\n",
       "    // Tell IPython that the notebook contents must change.\n",
       "    IPython.notebook.set_dirty(true);\n",
       "    this.send_message(\"ack\", {});\n",
       "    var fig = this;\n",
       "    // Wait a second, then push the new image to the DOM so\n",
       "    // that it is saved nicely (might be nice to debounce this).\n",
       "    setTimeout(function () { fig.push_to_output() }, 1000);\n",
       "}\n",
       "\n",
       "mpl.figure.prototype._init_toolbar = function() {\n",
       "    var fig = this;\n",
       "\n",
       "    var nav_element = $('<div/>');\n",
       "    nav_element.attr('style', 'width: 100%');\n",
       "    this.root.append(nav_element);\n",
       "\n",
       "    // Define a callback function for later on.\n",
       "    function toolbar_event(event) {\n",
       "        return fig.toolbar_button_onclick(event['data']);\n",
       "    }\n",
       "    function toolbar_mouse_event(event) {\n",
       "        return fig.toolbar_button_onmouseover(event['data']);\n",
       "    }\n",
       "\n",
       "    for(var toolbar_ind in mpl.toolbar_items){\n",
       "        var name = mpl.toolbar_items[toolbar_ind][0];\n",
       "        var tooltip = mpl.toolbar_items[toolbar_ind][1];\n",
       "        var image = mpl.toolbar_items[toolbar_ind][2];\n",
       "        var method_name = mpl.toolbar_items[toolbar_ind][3];\n",
       "\n",
       "        if (!name) { continue; };\n",
       "\n",
       "        var button = $('<button class=\"btn btn-default\" href=\"#\" title=\"' + name + '\"><i class=\"fa ' + image + ' fa-lg\"></i></button>');\n",
       "        button.click(method_name, toolbar_event);\n",
       "        button.mouseover(tooltip, toolbar_mouse_event);\n",
       "        nav_element.append(button);\n",
       "    }\n",
       "\n",
       "    // Add the status bar.\n",
       "    var status_bar = $('<span class=\"mpl-message\" style=\"text-align:right; float: right;\"/>');\n",
       "    nav_element.append(status_bar);\n",
       "    this.message = status_bar[0];\n",
       "\n",
       "    // Add the close button to the window.\n",
       "    var buttongrp = $('<div class=\"btn-group inline pull-right\"></div>');\n",
       "    var button = $('<button class=\"btn btn-mini btn-primary\" href=\"#\" title=\"Stop Interaction\"><i class=\"fa fa-power-off icon-remove icon-large\"></i></button>');\n",
       "    button.click(function (evt) { fig.handle_close(fig, {}); } );\n",
       "    button.mouseover('Stop Interaction', toolbar_mouse_event);\n",
       "    buttongrp.append(button);\n",
       "    var titlebar = this.root.find($('.ui-dialog-titlebar'));\n",
       "    titlebar.prepend(buttongrp);\n",
       "}\n",
       "\n",
       "mpl.figure.prototype._root_extra_style = function(el){\n",
       "    var fig = this\n",
       "    el.on(\"remove\", function(){\n",
       "\tfig.close_ws(fig, {});\n",
       "    });\n",
       "}\n",
       "\n",
       "mpl.figure.prototype._canvas_extra_style = function(el){\n",
       "    // this is important to make the div 'focusable\n",
       "    el.attr('tabindex', 0)\n",
       "    // reach out to IPython and tell the keyboard manager to turn it's self\n",
       "    // off when our div gets focus\n",
       "\n",
       "    // location in version 3\n",
       "    if (IPython.notebook.keyboard_manager) {\n",
       "        IPython.notebook.keyboard_manager.register_events(el);\n",
       "    }\n",
       "    else {\n",
       "        // location in version 2\n",
       "        IPython.keyboard_manager.register_events(el);\n",
       "    }\n",
       "\n",
       "}\n",
       "\n",
       "mpl.figure.prototype._key_event_extra = function(event, name) {\n",
       "    var manager = IPython.notebook.keyboard_manager;\n",
       "    if (!manager)\n",
       "        manager = IPython.keyboard_manager;\n",
       "\n",
       "    // Check for shift+enter\n",
       "    if (event.shiftKey && event.which == 13) {\n",
       "        this.canvas_div.blur();\n",
       "        event.shiftKey = false;\n",
       "        // Send a \"J\" for go to next cell\n",
       "        event.which = 74;\n",
       "        event.keyCode = 74;\n",
       "        manager.command_mode();\n",
       "        manager.handle_keydown(event);\n",
       "    }\n",
       "}\n",
       "\n",
       "mpl.figure.prototype.handle_save = function(fig, msg) {\n",
       "    fig.ondownload(fig, null);\n",
       "}\n",
       "\n",
       "\n",
       "mpl.find_output_cell = function(html_output) {\n",
       "    // Return the cell and output element which can be found *uniquely* in the notebook.\n",
       "    // Note - this is a bit hacky, but it is done because the \"notebook_saving.Notebook\"\n",
       "    // IPython event is triggered only after the cells have been serialised, which for\n",
       "    // our purposes (turning an active figure into a static one), is too late.\n",
       "    var cells = IPython.notebook.get_cells();\n",
       "    var ncells = cells.length;\n",
       "    for (var i=0; i<ncells; i++) {\n",
       "        var cell = cells[i];\n",
       "        if (cell.cell_type === 'code'){\n",
       "            for (var j=0; j<cell.output_area.outputs.length; j++) {\n",
       "                var data = cell.output_area.outputs[j];\n",
       "                if (data.data) {\n",
       "                    // IPython >= 3 moved mimebundle to data attribute of output\n",
       "                    data = data.data;\n",
       "                }\n",
       "                if (data['text/html'] == html_output) {\n",
       "                    return [cell, data, j];\n",
       "                }\n",
       "            }\n",
       "        }\n",
       "    }\n",
       "}\n",
       "\n",
       "// Register the function which deals with the matplotlib target/channel.\n",
       "// The kernel may be null if the page has been refreshed.\n",
       "if (IPython.notebook.kernel != null) {\n",
       "    IPython.notebook.kernel.comm_manager.register_target('matplotlib', mpl.mpl_figure_comm);\n",
       "}\n"
      ],
      "text/plain": [
       "<IPython.core.display.Javascript object>"
      ]
     },
     "metadata": {},
     "output_type": "display_data"
    },
    {
     "data": {
      "text/html": [
       "<img src=\"data:image/png;base64,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\" width=\"640\">"
      ],
      "text/plain": [
       "<IPython.core.display.HTML object>"
      ]
     },
     "metadata": {},
     "output_type": "display_data"
    },
    {
     "data": {
      "application/vnd.jupyter.widget-view+json": {
       "model_id": "500cd77d1809472ba4345bdbb7a793be",
       "version_major": 2,
       "version_minor": 0
      },
      "text/plain": [
       "interactive(children=(FloatSlider(value=0.3, description='lam', max=1.0, step=0.05), FloatSlider(value=0.95, d…"
      ]
     },
     "metadata": {},
     "output_type": "display_data"
    }
   ],
   "source": [
    "#%xmode Verbose\n",
    "import ipywidgets as ipw \n",
    "x = np.linspace(0,1,15,endpoint=False)\n",
    "\n",
    "fig = plt.figure()\n",
    "\n",
    "ax = fig.add_subplot(1,1,1)\n",
    "lineR, = ax.plot([ModelSolver(B, 0.3, 0.95, 0.01)[0] for B in x],\n",
    "                 [ModelSolver(B, 0.3, 0.95, 0.01)[1] for B in x],\n",
    "                 'ro',label='R')\n",
    "\n",
    "lineWel, = ax.plot([ModelSolver(B, 0.3, 0.95, 0.01)[0] for B in x],\n",
    "                  [(ModelSolver(B, 0.3, 0.95, 0.01)[1]+B)*(1-ModelSolver(B, 0.3, 0.95, 0.01)[0]) for B in x],\n",
    "                  'bo',label='Welfare')\n",
    "\n",
    "optimum = SocialOpt(.3,.95,.01)\n",
    "\n",
    "dot_optR, = ax.plot([optimum[0]],[optimum[1]],\n",
    "                  'rx' ,label='Optimum R')\n",
    "dot_optWelf, = ax.plot([optimum[0]],[optimum[2]],\n",
    "                  'bx' ,label='Optimum Welfare')\n",
    "\n",
    "plt.legend()\n",
    "plt.xlim(0,1)\n",
    "plt.ylim(0,4)\n",
    "\n",
    "def update(lam=0.3, r = .95, c = .01):\n",
    "    data = [ModelSolver(B, lam, r, c) for B in x]\n",
    "    optimum = SocialOpt(lam,r,c)\n",
    "\n",
    "    lineR.set_ydata([res[1] for res in data])\n",
    "    lineR.set_xdata([res[0] for res in data])\n",
    "    lineWel.set_xdata([res[0] for res in data])\n",
    "    lineWel.set_ydata([(res[1] + res[4] )*(1-res[0]) for res in data])\n",
    "    \n",
    "    dot_optR.set_ydata([optimum[1]])\n",
    "    dot_optR.set_xdata([optimum[0]])\n",
    "    \n",
    "    dot_optWelf.set_ydata([optimum[2]])\n",
    "    dot_optWelf.set_xdata([optimum[0]])\n",
    "    \n",
    "    fig.canvas.draw()\n",
    "    \n",
    "ipw.interact(update, lam=(0.0,1.0,.05), r=(0.,1.0,.01), c=(0.0,1,.01));\n"
   ]
  },
  {
   "cell_type": "code",
   "execution_count": 59,
   "metadata": {},
   "outputs": [
    {
     "data": {
      "image/png": "[encoded data removed]",
      "text/latex": [
       "$\\displaystyle \\left[ \\text{NaN}, \\  -0.0444986628302105, \\  \\text{NaN}, \\  0.100031062735437, \\  0.111956906938305, \\  0.123723873802117, \\  0.135566892637251, \\  0.147720991919356, \\  0.160463128320544, \\  0.174166787260926, \\  0.189398378671213, \\  0.207124433024687, \\  0.229247625820687, \\  0.260391612654873, \\  0.317306481185516\\right]$"
      ],
      "text/plain": [
       "[nan, -0.0444986628302105, nan, 0.100031062735437, 0.111956906938305, 0.123723\n",
       "873802117, 0.135566892637251, 0.147720991919356, 0.160463128320544, 0.17416678\n",
       "7260926, 0.189398378671213, 0.207124433024687, 0.229247625820687, 0.2603916126\n",
       "54873, 0.317306481185516]"
      ]
     },
     "execution_count": 59,
     "metadata": {},
     "output_type": "execute_result"
    }
   ],
   "source": [
    "data = [ModelSolver(B, 0.3, 0.95, 0.01) for B in x]\n",
    "[res[0] for res in data]"
   ]
  }
 ],
 "metadata": {
  "kernelspec": {
   "display_name": "Python 3",
   "language": "python",
   "name": "python3"
  },
  "language_info": {
   "codemirror_mode": {
    "name": "ipython",
    "version": 3
   },
   "file_extension": ".py",
   "mimetype": "text/x-python",
   "name": "python",
   "nbconvert_exporter": "python",
   "pygments_lexer": "ipython3",
   "version": "3.7.4"
  }
 },
 "nbformat": 4,
 "nbformat_minor": 2
}

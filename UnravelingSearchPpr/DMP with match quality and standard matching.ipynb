{
 "cells": [
  {
   "cell_type": "code",
   "execution_count": 4,
   "metadata": {},
   "outputs": [],
   "source": [
    "import sympy as sym\n",
    "import numpy as np\n",
    "# init_printing()\n",
    "\n",
    "import matplotlib\n",
    "import matplotlib.pyplot as plt\n",
    "\n",
    "from IPython.core.display import display, HTML\n",
    "#display(HTML(\"<style>.container { width:100% !important; }</style>\"))"
   ]
  },
  {
   "cell_type": "code",
   "execution_count": 39,
   "metadata": {},
   "outputs": [],
   "source": [
    "alpha, r, lam, R, v, u, beta, c ,theta = sym.symbols('alpha, r, lambda, R, v, u, beta, c, theta' , positive = True)"
   ]
  },
  {
   "cell_type": "code",
   "execution_count": null,
   "metadata": {},
   "outputs": [],
   "source": []
  },
  {
   "cell_type": "markdown",
   "metadata": {},
   "source": [
    "workers =  (1-u)/u*lam*beta/(r+lam) -R\n",
    "workers"
   ]
  },
  {
   "cell_type": "code",
   "execution_count": 40,
   "metadata": {},
   "outputs": [
    {
     "data": {
      "text/latex": [
       "$\\displaystyle - e^{R} + \\frac{\\left(u v\\right)^{\\alpha} \\left(1 - \\beta\\right)}{c v \\left(\\lambda + r\\right)}$"
      ],
      "text/plain": [
       "-exp(R) + (u*v)**alpha*(1 - beta)/(c*v*(lambda + r))"
      ]
     },
     "execution_count": 40,
     "metadata": {},
     "output_type": "execute_result"
    }
   ],
   "source": [
    "firms = (v*u)**alpha/v*(1-beta)/(c*(r+lam))-sym.exp(R)\n",
    "firms"
   ]
  },
  {
   "cell_type": "code",
   "execution_count": 41,
   "metadata": {},
   "outputs": [
    {
     "data": {
      "text/latex": [
       "$\\displaystyle - \\lambda \\left(1 - u\\right) + \\left(u v\\right)^{\\alpha} e^{- R}$"
      ],
      "text/plain": [
       "-lambda*(1 - u) + (u*v)**alpha*exp(-R)"
      ]
     },
     "execution_count": 41,
     "metadata": {},
     "output_type": "execute_result"
    }
   ],
   "source": [
    "steadystate = (u*v)**alpha*sym.exp(-R)-lam*(1-u)\n",
    "steadystate"
   ]
  },
  {
   "cell_type": "code",
   "execution_count": 42,
   "metadata": {},
   "outputs": [
    {
     "data": {
      "text/latex": [
       "$\\displaystyle - R + \\frac{\\beta \\lambda \\left(1 - u\\right)}{u \\left(\\lambda + r\\right)}$"
      ],
      "text/plain": [
       "-R + beta*lambda*(1 - u)/(u*(lambda + r))"
      ]
     },
     "execution_count": 42,
     "metadata": {},
     "output_type": "execute_result"
    }
   ],
   "source": [
    "stst_workers = beta * lam /(r+lam)*(1-u)/u - R\n",
    "stst_workers"
   ]
  },
  {
   "cell_type": "code",
   "execution_count": 44,
   "metadata": {},
   "outputs": [
    {
     "data": {
      "text/latex": [
       "$\\displaystyle \\left\\{\\left( \\tilde{\\infty}, \\  \\left\\{0\\right\\}, \\  v\\right), \\left( i \\left(2 n \\pi + \\arg{\\left(\\frac{1}{1 - u} \\right)}\\right) + \\log{\\left(\\frac{\\left(u v\\right)^{\\alpha}}{\\lambda \\left|{u - 1}\\right|} \\right)}, \\  \\left\\{u\\right\\} \\setminus \\left\\{1\\right\\}, \\  v\\right), \\left( \\log{\\left(- \\frac{\\left(v \\left(\\frac{c v \\left(\\lambda + r\\right)}{\\lambda \\left(\\beta - 1\\right)} + 1\\right)\\right)^{\\alpha} \\left(\\beta - 1\\right)}{c v \\left(\\lambda + r\\right)} \\right)}, \\  \\left\\{\\frac{c v \\left(\\lambda + r\\right) + \\lambda \\left(\\beta - 1\\right)}{\\lambda \\left(\\beta - 1\\right)}\\right\\} \\setminus \\left\\{1\\right\\}, \\  v\\right)\\right\\}$"
      ],
      "text/plain": [
       "{(zoo, {0}, v), (I*(2*_n*pi + arg(1/(1 - u))) + log((u*v)**alpha/(lambda*Abs(u - 1))), {u} \\ {1}, v), (log(-(v*(c*v*(lambda + r)/(lambda*(beta - 1)) + 1))**alpha*(beta - 1)/(c*v*(lambda + r))), {(c*v*(lambda + r) + lambda*(beta - 1))/(lambda*(beta - 1))} \\ {1}, v)}"
      ]
     },
     "execution_count": 44,
     "metadata": {},
     "output_type": "execute_result"
    }
   ],
   "source": [
    "solution = sym.nonlinsolve([firms, workers, steadystate], [R, u, v])\n",
    "solution"
   ]
  },
  {
   "cell_type": "code",
   "execution_count": 17,
   "metadata": {},
   "outputs": [
    {
     "data": {
      "text/latex": [
       "$\\displaystyle \\log{\\left(\\frac{u \\left(1 - \\beta\\right)}{c \\left(\\lambda + r\\right)} \\right)}$"
      ],
      "text/plain": [
       "log(u*(1 - beta)/(c*(lambda + r)))"
      ]
     },
     "execution_count": 17,
     "metadata": {},
     "output_type": "execute_result"
    }
   ],
   "source": [
    "R_sol"
   ]
  },
  {
   "cell_type": "code",
   "execution_count": 18,
   "metadata": {},
   "outputs": [
    {
     "data": {
      "text/latex": [
       "$\\displaystyle - \\frac{u \\left(\\beta - 1\\right) \\log{\\left(- \\frac{u \\left(\\beta - 1\\right)}{c \\left(\\lambda + r\\right)} \\right)}}{\\beta c}$"
      ],
      "text/plain": [
       "-u*(beta - 1)*log(-u*(beta - 1)/(c*(lambda + r)))/(beta*c)"
      ]
     },
     "execution_count": 18,
     "metadata": {},
     "output_type": "execute_result"
    }
   ],
   "source": [
    "v_sol"
   ]
  },
  {
   "cell_type": "code",
   "execution_count": 19,
   "metadata": {},
   "outputs": [
    {
     "data": {
      "text/latex": [
       "$\\displaystyle \\left(1 - u\\right) \\left(\\beta + \\log{\\left(\\frac{u \\left(1 - \\beta\\right)}{c \\left(\\lambda + r\\right)} \\right)}\\right)$"
      ],
      "text/plain": [
       "(1 - u)*(beta + log(u*(1 - beta)/(c*(lambda + r))))"
      ]
     },
     "execution_count": 19,
     "metadata": {},
     "output_type": "execute_result"
    }
   ],
   "source": [
    "welfare = (1-u)*(R_sol+beta)\n",
    "welfare"
   ]
  },
  {
   "cell_type": "code",
   "execution_count": 133,
   "metadata": {},
   "outputs": [
    {
     "data": {
      "image/png": "[encoded data removed]",
      "text/latex": [
       "$\\displaystyle \\left\\{u \\mid u \\in \\mathbb{R} \\wedge - \\beta u - u \\log{\\left(\\frac{u \\left(1 - \\beta\\right)}{c \\left(\\lambda + r\\right)} \\right)} - u + 1 = 0 \\right\\} \\setminus \\left\\{0\\right\\}$"
      ],
      "text/plain": [
       "⎧                        ⎛u⋅(1 - β)⎞            ⎫      \n",
       "⎨u | u ∊ ℝ ∧ -β⋅u - u⋅log⎜─────────⎟ - u + 1 = 0⎬ \\ {0}\n",
       "⎩                        ⎝c⋅(λ + r)⎠            ⎭      "
      ]
     },
     "execution_count": 133,
     "metadata": {},
     "output_type": "execute_result"
    }
   ],
   "source": [
    "foc_welfare_u = sym.diff(welfare, u)\n",
    "sym.solveset(foc_welfare_u, u, domain = S.Reals)"
   ]
  },
  {
   "cell_type": "code",
   "execution_count": 137,
   "metadata": {},
   "outputs": [
    {
     "data": {
      "image/png": "[encoded data removed]",
      "text/latex": [
       "$\\displaystyle \\left(1 - u\\right) \\left(1 - \\frac{1}{1 - \\beta}\\right)$"
      ],
      "text/plain": [
       "        ⎛      1  ⎞\n",
       "(1 - u)⋅⎜1 - ─────⎟\n",
       "        ⎝    1 - β⎠"
      ]
     },
     "execution_count": 137,
     "metadata": {},
     "output_type": "execute_result"
    }
   ],
   "source": [
    "foc_welfare_beta = sym.diff(welfare, beta)\n",
    "sym.solveset(foc_welfare_beta, beta, domain = S.Reals)\n",
    "foc_welfare_beta"
   ]
  },
  {
   "cell_type": "code",
   "execution_count": null,
   "metadata": {},
   "outputs": [],
   "source": [
    "betarange"
   ]
  }
 ],
 "metadata": {
  "kernelspec": {
   "display_name": "Python 3",
   "language": "python",
   "name": "python3"
  },
  "language_info": {
   "codemirror_mode": {
    "name": "ipython",
    "version": 3
   },
   "file_extension": ".py",
   "mimetype": "text/x-python",
   "name": "python",
   "nbconvert_exporter": "python",
   "pygments_lexer": "ipython3",
   "version": "3.7.4"
  }
 },
 "nbformat": 4,
 "nbformat_minor": 2
}

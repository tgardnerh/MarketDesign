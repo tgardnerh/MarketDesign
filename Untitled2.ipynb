{
 "cells": [
  {
   "cell_type": "code",
   "execution_count": 37,
   "metadata": {},
   "outputs": [],
   "source": [
    "import DeferredAcceptance as da\n",
    "from operator import itemgetter"
   ]
  },
  {
   "cell_type": "code",
   "execution_count": 47,
   "metadata": {},
   "outputs": [],
   "source": [
    "men = [da.Suitor(0,[0,1,2,3]),da.Suitor(1,[0,1,2,3]),da.Suitor(2,[2,0,1,3]),da.Suitor(3,[0,1,2,3])]\n",
    "women = [da.Suited(0, [2,0,1,3]), da.Suited(1, [0,1,2,3]), da.Suited(2, [0,1,2,3]), da.Suited(3, [0,1,2,3])]"
   ]
  },
  {
   "cell_type": "code",
   "execution_count": 48,
   "metadata": {},
   "outputs": [
    {
     "data": {
      "text/plain": [
       "{0: 0, 1: 1, 2: 2, 3: 3}"
      ]
     },
     "execution_count": 48,
     "metadata": {},
     "output_type": "execute_result"
    }
   ],
   "source": [
    "da.GSDA(men, women)"
   ]
  },
  {
   "cell_type": "code",
   "execution_count": 49,
   "metadata": {},
   "outputs": [],
   "source": [
    "men = [da.Suited(0,[0,1,2,3]),da.Suited(1,[0,1,2,3]),da.Suited(2,[0,1,2,3]),da.Suited(3,[0,1,2,3])]\n",
    "women = [da.Suitor(0, [2,0,1,3]), da.Suitor(1, [0,1,2,3]), da.Suitor(2, [0,1,2,3]), da.Suitor(3, [0,1,2,3])]"
   ]
  },
  {
   "cell_type": "code",
   "execution_count": 50,
   "metadata": {},
   "outputs": [
    {
     "data": {
      "text/plain": [
       "[(2, 0), (0, 1), (1, 2), (3, 3)]"
      ]
     },
     "execution_count": 50,
     "metadata": {},
     "output_type": "execute_result"
    }
   ],
   "source": [
    "bob = [(v.id,k.id) for k, v in da.GSDA(women,men).items()]\n",
    "bob.sort(key = lambda tup : tup[1])\n",
    "bob"
   ]
  },
  {
   "cell_type": "code",
   "execution_count": null,
   "metadata": {},
   "outputs": [],
   "source": []
  }
 ],
 "metadata": {
  "kernelspec": {
   "display_name": "Python 3",
   "language": "python",
   "name": "python3"
  },
  "language_info": {
   "codemirror_mode": {
    "name": "ipython",
    "version": 3
   },
   "file_extension": ".py",
   "mimetype": "text/x-python",
   "name": "python",
   "nbconvert_exporter": "python",
   "pygments_lexer": "ipython3",
   "version": "3.7.3"
  }
 },
 "nbformat": 4,
 "nbformat_minor": 2
}

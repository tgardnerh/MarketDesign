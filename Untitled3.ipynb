{
 "cells": [
  {
   "cell_type": "code",
   "execution_count": 2,
   "metadata": {},
   "outputs": [],
   "source": [
    "#https://jeremykun.com/2014/04/02/stable-marriages-and-designing-markets/\n",
    "\n",
    "class Suitor(object):\n",
    "   def __init__(self, id, prefList):\n",
    "      self.prefList = prefList\n",
    "      self.rejections = 0 # num rejections is also the index of the next option\n",
    "      self.id = id\n",
    " \n",
    "   def preference(self):\n",
    "      return self.prefList[self.rejections]\n",
    " \n",
    "   def __repr__(self):\n",
    "      return repr(self.id)"
   ]
  },
  {
   "cell_type": "code",
   "execution_count": 3,
   "metadata": {},
   "outputs": [],
   "source": [
    "class Suited(object):\n",
    "    def __init__(self, id, prefList):\n",
    "      self.prefList = prefList\n",
    "      self.held = None\n",
    "      self.currentSuitors = set()\n",
    "      self.id = id\n",
    "\n",
    "    def __repr__(self):\n",
    "      return repr(self.id)\n",
    "\n",
    "    def reject(self):\n",
    "       if len(self.currentSuitors) == 0:\n",
    "          return set()\n",
    "\n",
    "       if self.held is not None:\n",
    "          self.currentSuitors.add(self.held)\n",
    "\n",
    "       self.held = min(self.currentSuitors, key=lambda suitor: self.prefList.index(suitor.id))\n",
    "       rejected = self.currentSuitors - set([self.held])\n",
    "       self.currentSuitors = set()\n",
    "\n",
    "       return rejected"
   ]
  },
  {
   "cell_type": "code",
   "execution_count": null,
   "metadata": {},
   "outputs": [],
   "source": []
  },
  {
   "cell_type": "code",
   "execution_count": 16,
   "metadata": {},
   "outputs": [],
   "source": [
    "# GSDA: [Suitor], [Suited] -> {Suitor -> Suited}\n",
    "# construct a stable (monogamous) marriage between suitors and suiteds\n",
    "def GSDA(suitors, suiteds):\n",
    "   unassigned = set(suitors)\n",
    " \n",
    "   while len(unassigned) > 0:\n",
    "      for suitor in unassigned:\n",
    "         suiteds[suitor.preference()].currentSuitors.add(suitor)\n",
    "      unassigned = set()\n",
    " \n",
    "      for suited in suiteds:\n",
    "         unassigned |= suited.reject()\n",
    " \n",
    "      for suitor in unassigned:\n",
    "         suitor.rejections += 1\n",
    " \n",
    "   return dict([(suited.held, suited) for suited in suiteds])"
   ]
  },
  {
   "cell_type": "code",
   "execution_count": 17,
   "metadata": {},
   "outputs": [],
   "source": [
    "# verifyStable: [Suitor], [Suited], {Suitor -> Suited} -> bool\n",
    "# check that the assignment of suitors to suited is a stable marriage\n",
    "def verifyStable(suitors, suiteds, marriage):\n",
    "   import itertools\n",
    "   suitedToSuitor = dict((v,k) for (k,v) in marriage.items())\n",
    "   precedes = lambda L, item1, item2: L.index(item1) < L.index(item2)\n",
    " \n",
    "   def suitorPrefers(suitor, suited):\n",
    "      return precedes(suitor.prefList, suited.id, marriage[suitor].id)\n",
    " \n",
    "   def suitedPrefers(suited, suitor):\n",
    "      return precedes(suited.prefList, suitor.id, suitedToSuitor[suited].id)\n",
    " \n",
    "   for (suitor, suited) in itertools.product(suitors, suiteds):\n",
    "      if suited != marriage[suitor] and suitorPrefers(suitor, suited) and suitedPrefers(suited, suitor):\n",
    "         return False, (suitor.id, suited.id)\n",
    " \n",
    "   return"
   ]
  },
  {
   "cell_type": "code",
   "execution_count": 18,
   "metadata": {},
   "outputs": [],
   "source": [
    "suitors = [Suitor(0, (3,5,4,2,1,0)), Suitor(1, (2,3,1,0,4,5)),\n",
    "           Suitor(2, (5,2,1,0,3,4)), Suitor(3, (0,1,2,3,4,5)),\n",
    "           Suitor(4, (4,5,1,2,0,3)), Suitor(5, (0,1,2,3,4,5))]"
   ]
  },
  {
   "cell_type": "code",
   "execution_count": 19,
   "metadata": {},
   "outputs": [],
   "source": [
    "suiteds = [Suited(0, (3,5,4,2,1,0)), Suited(1, (2,3,1,0,4,5)),\n",
    "           Suited(2, (5,2,1,0,3,4)), Suited(3, (0,1,2,3,4,5)),\n",
    "           Suited(4, (4,5,1,2,0,3)), Suited(5, (0,1,2,3,4,5))]"
   ]
  },
  {
   "cell_type": "code",
   "execution_count": 20,
   "metadata": {},
   "outputs": [
    {
     "data": {
      "text/plain": [
       "(3, 5, 4, 2, 1, 0)"
      ]
     },
     "execution_count": 20,
     "metadata": {},
     "output_type": "execute_result"
    }
   ],
   "source": [
    "suitors[0].prefList"
   ]
  },
  {
   "cell_type": "code",
   "execution_count": 21,
   "metadata": {},
   "outputs": [
    {
     "data": {
      "text/plain": [
       "{3: 0, 5: 1, 1: 2, 0: 3, 4: 4, 2: 5}"
      ]
     },
     "execution_count": 21,
     "metadata": {},
     "output_type": "execute_result"
    }
   ],
   "source": [
    "GSDA(suitors, suiteds)"
   ]
  },
  {
   "cell_type": "code",
   "execution_count": null,
   "metadata": {},
   "outputs": [],
   "source": []
  }
 ],
 "metadata": {
  "kernelspec": {
   "display_name": "Python 3",
   "language": "python",
   "name": "python3"
  },
  "language_info": {
   "codemirror_mode": {
    "name": "ipython",
    "version": 3
   },
   "file_extension": ".py",
   "mimetype": "text/x-python",
   "name": "python",
   "nbconvert_exporter": "python",
   "pygments_lexer": "ipython3",
   "version": "3.7.3"
  }
 },
 "nbformat": 4,
 "nbformat_minor": 2
}

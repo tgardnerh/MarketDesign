{
 "cells": [
  {
   "cell_type": "code",
   "execution_count": 1,
   "metadata": {},
   "outputs": [],
   "source": [
    "\n",
    "from matching.algorithms import galeshapley\n",
    "import operator\n",
    "import random\n",
    "from IPython.core.debugger import set_trace\n",
    "import numpy as np\n",
    "import pandas as pd\n",
    "import multiprocess as mp \n",
    "\n",
    "\n",
    "simulation_results = pd.DataFrame({\n",
    "    'n':[],\n",
    "    'sigma_fraction':[],\n",
    "    'delta_fraction':[]\n",
    "})\n"
   ]
  },
  {
   "cell_type": "code",
   "execution_count": 2,
   "metadata": {},
   "outputs": [],
   "source": [
    "n = 500\n",
    "sigma_fraction = .01\n",
    "runs = 100\n",
    "\n",
    "sigma = sigma_fraction * n"
   ]
  },
  {
   "cell_type": "code",
   "execution_count": 3,
   "metadata": {},
   "outputs": [
    {
     "name": "stdout",
     "output_type": "stream",
     "text": [
      "100\n",
      "500\n"
     ]
    }
   ],
   "source": [
    "print(runs)\n",
    "print(n)\n",
    "\n",
    "\n"
   ]
  },
  {
   "cell_type": "code",
   "execution_count": 48,
   "metadata": {},
   "outputs": [
    {
     "data": {
      "text/plain": [
       "[[(10, 0.1, 0.8), (10, 0.01, 1.0), (50, 0.1, 0.96), (50, 0.01, 0.8)],\n",
       " [(10, 0.1, 1.0), (10, 0.01, 0.5), (50, 0.1, 0.88), (50, 0.01, 0.96)],\n",
       " [(10, 0.1, 0.4), (10, 0.01, 1.0), (50, 0.1, 1.0), (50, 0.01, 0.9)],\n",
       " [(10, 0.1, 0.8), (10, 0.01, 0.6), (50, 0.1, 0.96), (50, 0.01, 1.0)],\n",
       " [(10, 0.1, 1.0), (10, 0.01, 0.5), (50, 0.1, 0.96), (50, 0.01, 0.96)],\n",
       " [(10, 0.1, 1.0), (10, 0.01, 0.8), (50, 0.1, 1.0), (50, 0.01, 1.0)],\n",
       " [(10, 0.1, 1.0), (10, 0.01, 1.0), (50, 0.1, 0.9), (50, 0.01, 0.94)],\n",
       " [(10, 0.1, 0.7), (10, 0.01, 0.7), (50, 0.1, 0.96), (50, 0.01, 1.0)],\n",
       " [(10, 0.1, 1.0), (10, 0.01, 0.5), (50, 0.1, 0.92), (50, 0.01, 0.88)],\n",
       " [(10, 0.1, 0.8), (10, 0.01, 1.0), (50, 0.1, 1.0), (50, 0.01, 0.92)],\n",
       " [(10, 0.1, 1.0), (10, 0.01, 0.7), (50, 0.1, 0.94), (50, 0.01, 0.8)],\n",
       " [(10, 0.1, 1.0), (10, 0.01, 1.0), (50, 0.1, 0.96), (50, 0.01, 1.0)],\n",
       " [(10, 0.1, 1.0), (10, 0.01, 0.6), (50, 0.1, 0.9), (50, 0.01, 0.86)],\n",
       " [(10, 0.1, 0.6), (10, 0.01, 0.6), (50, 0.1, 1.0), (50, 0.01, 0.8)],\n",
       " [(10, 0.1, 1.0), (10, 0.01, 0.3), (50, 0.1, 0.88), (50, 0.01, 0.84)],\n",
       " [(10, 0.1, 0.6), (10, 0.01, 0.6), (50, 0.1, 0.92), (50, 0.01, 0.8)],\n",
       " [(10, 0.1, 0.3), (10, 0.01, 0.8), (50, 0.1, 0.96), (50, 0.01, 0.86)],\n",
       " [(10, 0.1, 0.8), (10, 0.01, 0.6), (50, 0.1, 0.86), (50, 0.01, 0.94)],\n",
       " [(10, 0.1, 1.0), (10, 0.01, 1.0), (50, 0.1, 1.0), (50, 0.01, 1.0)],\n",
       " [(10, 0.1, 1.0), (10, 0.01, 1.0), (50, 0.1, 0.8), (50, 0.01, 0.92)],\n",
       " [(10, 0.1, 1.0), (10, 0.01, 1.0), (50, 0.1, 0.78), (50, 0.01, 1.0)],\n",
       " [(10, 0.1, 1.0), (10, 0.01, 1.0), (50, 0.1, 0.88), (50, 0.01, 1.0)],\n",
       " [(10, 0.1, 0.5), (10, 0.01, 1.0), (50, 0.1, 1.0), (50, 0.01, 0.92)],\n",
       " [(10, 0.1, 0.7), (10, 0.01, 0.6), (50, 0.1, 0.94), (50, 0.01, 0.88)],\n",
       " [(10, 0.1, 0.6), (10, 0.01, 0.8), (50, 0.1, 0.9), (50, 0.01, 0.92)],\n",
       " [(10, 0.1, 0.8), (10, 0.01, 0.8), (50, 0.1, 1.0), (50, 0.01, 0.96)],\n",
       " [(10, 0.1, 1.0), (10, 0.01, 1.0), (50, 0.1, 1.0), (50, 0.01, 0.78)],\n",
       " [(10, 0.1, 1.0), (10, 0.01, 1.0), (50, 0.1, 0.96), (50, 0.01, 0.84)],\n",
       " [(10, 0.1, 1.0), (10, 0.01, 0.8), (50, 0.1, 0.86), (50, 0.01, 0.84)],\n",
       " [(10, 0.1, 0.7), (10, 0.01, 1.0), (50, 0.1, 0.86), (50, 0.01, 0.8)],\n",
       " [(10, 0.1, 1.0), (10, 0.01, 1.0), (50, 0.1, 0.88), (50, 0.01, 0.96)],\n",
       " [(10, 0.1, 0.8), (10, 0.01, 0.7), (50, 0.1, 0.96), (50, 0.01, 0.96)],\n",
       " [(10, 0.1, 0.8), (10, 0.01, 1.0), (50, 0.1, 0.9), (50, 0.01, 0.94)],\n",
       " [(10, 0.1, 0.8), (10, 0.01, 1.0), (50, 0.1, 0.86), (50, 0.01, 0.94)],\n",
       " [(10, 0.1, 1.0), (10, 0.01, 1.0), (50, 0.1, 0.9), (50, 0.01, 0.86)],\n",
       " [(10, 0.1, 0.8), (10, 0.01, 0.6), (50, 0.1, 0.74), (50, 0.01, 0.8)],\n",
       " [(10, 0.1, 0.7), (10, 0.01, 0.8), (50, 0.1, 1.0), (50, 0.01, 0.92)],\n",
       " [(10, 0.1, 1.0), (10, 0.01, 1.0), (50, 0.1, 0.92), (50, 0.01, 1.0)],\n",
       " [(10, 0.1, 0.7), (10, 0.01, 0.7), (50, 0.1, 1.0), (50, 0.01, 0.9)],\n",
       " [(10, 0.1, 0.3), (10, 0.01, 0.5), (50, 0.1, 0.82), (50, 0.01, 0.78)],\n",
       " [(10, 0.1, 0.8), (10, 0.01, 1.0), (50, 0.1, 0.94), (50, 0.01, 0.96)],\n",
       " [(10, 0.1, 0.6), (10, 0.01, 0.8), (50, 0.1, 0.96), (50, 0.01, 0.96)],\n",
       " [(10, 0.1, 0.8), (10, 0.01, 1.0), (50, 0.1, 0.96), (50, 0.01, 0.88)],\n",
       " [(10, 0.1, 1.0), (10, 0.01, 0.8), (50, 0.1, 0.78), (50, 0.01, 0.8)],\n",
       " [(10, 0.1, 0.8), (10, 0.01, 0.8), (50, 0.1, 0.96), (50, 0.01, 0.92)],\n",
       " [(10, 0.1, 0.6), (10, 0.01, 1.0), (50, 0.1, 0.92), (50, 0.01, 0.92)],\n",
       " [(10, 0.1, 1.0), (10, 0.01, 0.5), (50, 0.1, 0.94), (50, 0.01, 1.0)],\n",
       " [(10, 0.1, 0.6), (10, 0.01, 1.0), (50, 0.1, 0.96), (50, 0.01, 0.94)],\n",
       " [(10, 0.1, 1.0), (10, 0.01, 0.6), (50, 0.1, 0.96), (50, 0.01, 0.96)],\n",
       " [(10, 0.1, 0.8), (10, 0.01, 1.0), (50, 0.1, 0.92), (50, 0.01, 0.92)]]"
      ]
     },
     "execution_count": 48,
     "metadata": {},
     "output_type": "execute_result"
    }
   ],
   "source": [
    "\n",
    "#define simulation function\n",
    "def GS_Sim(\n",
    "    n ,\n",
    "    sigma_fraction \n",
    "):\n",
    "    #make randomly assigned preferences\n",
    "    Mpref = {}\n",
    "    Wpref = {}\n",
    "    for i in range(0, n):\n",
    "        utility = []\n",
    "        for x in range(0,n):\n",
    "            id = 'W' + str(x)\n",
    "            utility = utility + [(id, random.normalvariate(x, sigma))]\n",
    "        utility.sort(key=operator.itemgetter(1))\n",
    "\n",
    "        ranklist = []\n",
    "        for x in utility:\n",
    "            name = [x[0]]\n",
    "            ranklist = ranklist + name\n",
    "        id = 'M' + str(i)\n",
    "        Mpref.update({id:ranklist})\n",
    "\n",
    "    #copypasta from above\n",
    "    for i in range(0, n):\n",
    "        utility = []\n",
    "        for x in range(0,n):\n",
    "            id = 'M' + str(x)\n",
    "            utility = utility + [(id, random.normalvariate(x, sigma))]\n",
    "        utility.sort(key=operator.itemgetter(1))\n",
    "\n",
    "        ranklist = []\n",
    "        for x in utility:\n",
    "            name = [x[0]]\n",
    "            ranklist = ranklist + name\n",
    "        id = 'W' + str(i)\n",
    "        Wpref.update({id:ranklist})\n",
    "\n",
    "    #Run matching\n",
    "    M_propose= galeshapley(Mpref, Wpref)\n",
    "    W_propose = galeshapley(Wpref, Mpref)\n",
    "\n",
    "    #transform matchings into same-format list of tuples\n",
    "    M_propose = list(M_propose.items())\n",
    "    W_propose = [(v, k) for k, v in W_propose.items()]\n",
    "\n",
    "    #sort matchings\n",
    "    M_propose.sort(key=operator.itemgetter(0))\n",
    "    W_propose.sort(key=operator.itemgetter(0))\n",
    "    M_propose\n",
    "    #Find % differences\n",
    "    differences = (np.array(M_propose) == np.array(W_propose))\n",
    "\n",
    "    percent_diff = np.average(differences, axis = 0).item(1)\n",
    "    \n",
    "    #next_result =  pd.DataFrame({\n",
    "    #    'n':[n],\n",
    "    #    'sigma_fraction':[sigma_fraction],\n",
    "    #    'delta_fraction':[percent_diff]\n",
    "    #})\n",
    "    \n",
    "    next_result = (n, sigma_fraction, percent_diff)\n",
    "    return next_result\n",
    "    \n",
    "\n",
    "def simulate(x):\n",
    "    sizes = [10, 50]\n",
    "    sigmas = [.1, .01]\n",
    "    result = []\n",
    "    for n in sizes:\n",
    "        for sigma_fraction in sigmas:\n",
    "            result =result + [GS_Sim(n, sigma_fraction)]\n",
    "    return result\n",
    "    \n",
    "\n",
    "    \n",
    "with mp.Pool(8) as p:\n",
    "    results = p.map(simulate, range(50))\n",
    "list(results)\n",
    "\n",
    "\n",
    "#with mp.Pool(8) as p:\n",
    "#    results = p.map(GS_Sim, [50,50],[.01,.01])\n",
    "\n"
   ]
  },
  {
   "cell_type": "code",
   "execution_count": 10,
   "metadata": {},
   "outputs": [
    {
     "name": "stdout",
     "output_type": "stream",
     "text": [
      "[(1, 1), (2, 4), (3, 9)]\n"
     ]
    },
    {
     "data": {
      "text/plain": [
       "[(1, 1), (2, 4), (3, 9)]"
      ]
     },
     "execution_count": 10,
     "metadata": {},
     "output_type": "execute_result"
    }
   ],
   "source": [
    "def xsquare(x):\n",
    "    return(x, x*x)\n",
    "with mp.Pool(8) as p:\n",
    "    results = p.map(xsquare, [1, 2, 3])\n",
    "\n",
    "#results = map(GS_Sim, [1,2])\n",
    "print(results)\n",
    "list(results)"
   ]
  },
  {
   "cell_type": "code",
   "execution_count": null,
   "metadata": {},
   "outputs": [],
   "source": [
    "\n",
    "results = map(multiply2, [1, 2, 3, 4]) \n",
    "print(results)\n",
    "results"
   ]
  },
  {
   "cell_type": "markdown",
   "metadata": {},
   "source": [
    "def f(real):\n",
    "    return('bob')\n",
    "\n",
    "\n",
    "mp.Pool(8)\n",
    "results = mp.Pool.map(multiply2,[1, 2, 3, 4]) \n",
    "mp.Pool(close)\n",
    "print(results)"
   ]
  },
  {
   "cell_type": "code",
   "execution_count": 6,
   "metadata": {},
   "outputs": [
    {
     "name": "stdout",
     "output_type": "stream",
     "text": [
      "[(1, 2), (2, 4), (3, 6)]\n"
     ]
    }
   ],
   "source": [
    "def f(x):\n",
    "    return x*x\n",
    "def multiply2(x):\n",
    "    res = ( x, x*2)\n",
    "    return res\n",
    "    \n",
    "with mp.Pool(5) as p:\n",
    "    print(p.map(multiply2, [1, 2, 3]))\n",
    "    \n"
   ]
  },
  {
   "cell_type": "code",
   "execution_count": null,
   "metadata": {},
   "outputs": [],
   "source": []
  }
 ],
 "metadata": {
  "kernelspec": {
   "display_name": "Python 3",
   "language": "python",
   "name": "python3"
  },
  "language_info": {
   "codemirror_mode": {
    "name": "ipython",
    "version": 3
   },
   "file_extension": ".py",
   "mimetype": "text/x-python",
   "name": "python",
   "nbconvert_exporter": "python",
   "pygments_lexer": "ipython3",
   "version": "3.6.5"
  }
 },
 "nbformat": 4,
 "nbformat_minor": 2
}

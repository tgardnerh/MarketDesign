{
 "cells": [
  {
   "cell_type": "markdown",
   "metadata": {},
   "source": [
    "# Correlated Preferences Simluation\n",
    "### Tyler Hoppenfeld\n",
    "\n",
    "This notebook is intended to explore the of idiosynchratic preferences on market behavior.\n",
    "\n",
    "There are several research questions that seem to be derrivitave of this, in varying degrees of being well-formed:\n",
    "\n",
    "1. How do we define \"idiosynchratic preferences?\"\n",
    "2. How does our definition of idiosynchratic prefernces scale with market size?\n",
    "3. What do idiosynchratic preferences mean for stable latice size?\n",
    "4. What are the welfare implications of idiosynchratic preferences?\n",
    "5. What is the result of a case where both sides have idiosynchratic preferences, but the preferences are correlated between sides (ie, if $M_i$ ranks $W_j$ unusually highly, then $W_j$ also ranks $M_i$ unusually highly)?\n",
    "6. How do these market structures interact with limited-length rank lists?\n",
    "\n",
    "This notebook proposes an ad-hoc answer to 1 and 2, and uses a simulation to hint at the answer to 3. \n",
    "\n",
    "To answer 1, I construct a standard marriage market with $N$ participants on each side, indexed ${M_1, M_2, ..., M_N, W_1, W_2,..., W_N}$\n",
    "\n",
    "I next construct preferences in which all particpents are mutually acceptable.  I begin by assigning a utility to each matching based on the participant's index number, so each man gets $1$ unit of utility from being matched to $W_1$, $ 2$ units from being matched to $W_2$, and so on up to $N$ units of utility from being matched to $W_N$.  This process gives $2 \\times N \\times N$ utility values.\n",
    "\n",
    "I then add a perturbation to each utility value.  The perturbation is drawn from  $N(0, \\sigma \\bar{U})$ where $\\bar{U}$ is the average utility for that economy and $\\sigma$ is the parameter that controlls the degree to which preferences are idiosynchratic.\n",
    "\n",
    "To produce the final complete preference, I sort by these utilities.\n",
    "\n",
    "\n",
    "Note two things:\n",
    "* this structure assumes an answer the question of what it means to hold idiosynchracy constant while scaling the market.  \n",
    "* expanding the economy in this model is equivilent to adding new entrants to the market without expanding the difference in utility from being matched to one's favorite or least-prefered partner\n",
    "\n",
    "After constructing these preferences I use a 3rd-party python package to implement the Gale-Shaply algorythm twice, once with men proposing and once with women proposing.  \n",
    "\n",
    "As a proxy for latice size, and following Al Roth's heuristic used in class, I calculate the fraction of agents who have a different partner in the man-optimal matching than in the woman-optimal matchng.\n",
    "\n",
    "\n",
    "This procedure constitutes a simulation of the economy.  I simulate each $N/\\sigma$ pair 100 times, averaging the results, and tabulate them below.\n",
    "\n",
    "### Scroll to \"Main Results\" to bypass the code:"
   ]
  },
  {
   "cell_type": "code",
   "execution_count": 1,
   "metadata": {},
   "outputs": [],
   "source": [
    "#Import packages used below\n",
    "\n",
    "from matching.algorithms import galeshapley\n",
    "import operator\n",
    "import random\n",
    "from IPython.core.debugger import set_trace\n",
    "import numpy as np\n",
    "import pandas as pd\n",
    "import multiprocess as mp \n",
    "import matplotlib.pyplot as plt\n",
    "\n"
   ]
  },
  {
   "cell_type": "code",
   "execution_count": 54,
   "metadata": {},
   "outputs": [],
   "source": [
    "#Set parameters \n",
    "#note that the parameters for N and sigma are set below within a program.\n",
    "#This is bad form, but I don't know how to do it correctly, so i'm documenting the bad practice here.\n",
    "\n",
    "runs = 300"
   ]
  },
  {
   "cell_type": "code",
   "execution_count": 55,
   "metadata": {
    "hide_input": true
   },
   "outputs": [],
   "source": [
    "\n",
    "#define simulation function that implements the process outlined in the text above\n",
    "def GS_Sim(\n",
    "    n ,\n",
    "    sigma_fraction \n",
    "):\n",
    "    #make randomly assigned preferences\n",
    "    Mpref = {}\n",
    "    Wpref = {}\n",
    "    \n",
    "    #scale sigma\n",
    "    sigma = sigma_fraction * n /2\n",
    "    for i in range(0, n):\n",
    "        utility = []\n",
    "        for x in range(0,n):\n",
    "            id = 'W' + str(x)\n",
    "            utility = utility + [(id, random.normalvariate(x, sigma))]\n",
    "        utility.sort(key=operator.itemgetter(1))\n",
    "\n",
    "        ranklist = []\n",
    "        for x in utility:\n",
    "            name = [x[0]]\n",
    "            ranklist = ranklist + name\n",
    "        id = 'M' + str(i)\n",
    "        Mpref.update({id:ranklist})\n",
    "\n",
    "    #copypasta from above\n",
    "    for i in range(0, n):\n",
    "        utility = []\n",
    "        for x in range(0,n):\n",
    "            id = 'M' + str(x)\n",
    "            utility = utility + [(id, random.normalvariate(x, sigma))]\n",
    "        utility.sort(key=operator.itemgetter(1))\n",
    "\n",
    "        ranklist = []\n",
    "        for x in utility:\n",
    "            name = [x[0]]\n",
    "            ranklist = ranklist + name\n",
    "        id = 'W' + str(i)\n",
    "        Wpref.update({id:ranklist})\n",
    "\n",
    "    #Run matching\n",
    "    M_propose= galeshapley(Mpref, Wpref)\n",
    "    W_propose = galeshapley(Wpref, Mpref)\n",
    "\n",
    "    #transform matchings into same-format list of tuples\n",
    "    M_propose = list(M_propose.items())\n",
    "    W_propose = [(v, k) for k, v in W_propose.items()]\n",
    "\n",
    "    #sort matchings\n",
    "    M_propose.sort(key=operator.itemgetter(0))\n",
    "    W_propose.sort(key=operator.itemgetter(0))\n",
    "    M_propose\n",
    "    #Find % differences\n",
    "    differences = (np.array(M_propose) == np.array(W_propose))\n",
    "\n",
    "    percent_diff = np.average(differences, axis = 0).item(1)\n",
    "    \n",
    "    next_result = (n, sigma_fraction, percent_diff)\n",
    "    return next_result\n",
    "    \n",
    "\n",
    "\n"
   ]
  },
  {
   "cell_type": "code",
   "execution_count": 56,
   "metadata": {
    "hide_input": true
   },
   "outputs": [],
   "source": [
    "# an intermediate simulation program to allow me to parallelize the calculations\n",
    "def simulate(x):\n",
    "    #Note that, as noted above, I define the parameters here, within a program. This is bad.\n",
    "    #Also note that the code in this block changes a bit as I add to the \"results\" object without \n",
    "    #re-running the entire simulation\n",
    "    sizes = [10, 50, 500]\n",
    "    sigmas = [.001]\n",
    "    #Slopyness ends here\n",
    "    \n",
    "    result = []\n",
    "    for n in sizes:\n",
    "        for sigma_fraction in sigmas:\n",
    "            result =result + [GS_Sim(n, sigma_fraction)]\n",
    "    return result\n",
    "\n",
    "\n",
    "\n",
    "#Call the simulation 'runs' times and combine the results into a big list\n",
    "with mp.Pool(8) as p:\n",
    "    results4 = p.map(simulate, range(runs))\n",
    "\n",
    "results = results1 + results2 +results3+results4"
   ]
  },
  {
   "cell_type": "code",
   "execution_count": 57,
   "metadata": {
    "hide_input": true
   },
   "outputs": [],
   "source": [
    "\n",
    "#flatten the list:\n",
    "\n",
    "def flatten(l):\n",
    "  out = []\n",
    "  for item in l:\n",
    "    if isinstance(item, (list)):\n",
    "      out.extend(flatten(item))\n",
    "    else:\n",
    "      out.append(item)\n",
    "  return out\n",
    "\n",
    "flat_results = flatten(results) \n",
    "\n",
    "#Take group averages within the simulation\n",
    "simulation_results = pd.DataFrame(flat_results,columns=['Market Size', 'Sigma','% Commonality' ])\n",
    "\n",
    "gb = simulation_results.groupby(['Market Size','Sigma'])['% Commonality' ]\n",
    "\n",
    "simulation_results['Commonality SD'] = gb.transform('std')\n",
    "simulation_results['Simulation Count'] = gb.transform('count')\n",
    "deliverable = simulation_results.groupby(['Market Size','Sigma'])['% Commonality' , 'Commonality SD', 'Simulation Count'].mean().reset_index()\n",
    "\n"
   ]
  },
  {
   "cell_type": "markdown",
   "metadata": {},
   "source": [
    "## Main Results:\n",
    "The averaged results from the runs of this simulation for each parameter pair are plotted below. This suggests that there is not an obviously simple relationship between preference structure, market size, and the size of the core."
   ]
  },
  {
   "cell_type": "code",
   "execution_count": 72,
   "metadata": {
    "hide_input": true
   },
   "outputs": [
    {
     "data": {
      "image/png": "[encoded data removed]",
      "text/plain": [
       "<Figure size 432x288 with 1 Axes>"
      ]
     },
     "metadata": {},
     "output_type": "display_data"
    }
   ],
   "source": [
    "deliverable_10 = deliverable[deliverable['Market Size'] == 10]\n",
    "deliverable_50 = deliverable[deliverable['Market Size'] == 50]\n",
    "deliverable_500 = deliverable[deliverable['Market Size'] == 500]\n",
    "\n",
    "plt.plot('Sigma', '% Commonality', data = deliverable_10, label = \"Market Size 10\")\n",
    "plt.plot('Sigma', '% Commonality', data = deliverable_50, label = \"Market Size 50\")\n",
    "plt.plot('Sigma', '% Commonality', data = deliverable_500, label = \"Market Size 500\")\n",
    "\n",
    "plt.title(\"Commonality Between Man and Woman Optimal Matchings\")\n",
    "plt.xlabel('Sigma')\n",
    "plt.ylabel('Commonality')\n",
    "plt.legend()\n",
    "plt.show()"
   ]
  },
  {
   "cell_type": "markdown",
   "metadata": {},
   "source": [
    "\n",
    "### Data Structure Plot\n",
    "To examine the structure of the data for the most interesting datapoints (size = 500, $\\sigma$ = .01, .1), I form a histogram at those datapoints.  The averages do not appear to be driven by outliers, and they appear to have a similar data structure."
   ]
  },
  {
   "cell_type": "code",
   "execution_count": 73,
   "metadata": {},
   "outputs": [
    {
     "data": {
      "text/plain": [
       "Text(0.5,1,'Distribution of Comonalities for Size = 500, Sigma = .01')"
      ]
     },
     "execution_count": 73,
     "metadata": {},
     "output_type": "execute_result"
    },
    {
     "data": {
      "image/png": "[encoded data removed]",
      "text/plain": [
       "<Figure size 432x288 with 1 Axes>"
      ]
     },
     "metadata": {},
     "output_type": "display_data"
    }
   ],
   "source": [
    "plt.hist(simulation_results[(simulation_results['Market Size']== 500 ) &(simulation_results['Sigma']== .01 )]['% Commonality'])\n",
    "plt.title(\"Distribution of Comonalities for Size = 500, Sigma = .01\")\n",
    "\n"
   ]
  },
  {
   "cell_type": "code",
   "execution_count": 74,
   "metadata": {},
   "outputs": [
    {
     "data": {
      "text/plain": [
       "Text(0.5,1,'Distribution of Comonalities for Size = 500, Sigma = .1')"
      ]
     },
     "execution_count": 74,
     "metadata": {},
     "output_type": "execute_result"
    },
    {
     "data": {
      "image/png": "[encoded data removed]",
      "text/plain": [
       "<Figure size 432x288 with 1 Axes>"
      ]
     },
     "metadata": {},
     "output_type": "display_data"
    }
   ],
   "source": [
    "plt.hist(simulation_results[(simulation_results['Market Size']== 500 ) &(simulation_results['Sigma']== .1 )]['% Commonality'])\n",
    "plt.title(\"Distribution of Comonalities for Size = 500, Sigma = .1\")"
   ]
  },
  {
   "cell_type": "markdown",
   "metadata": {},
   "source": [
    "## Granular results:\n",
    "Finally, I show the basic summary statistics underlying the first plot:"
   ]
  },
  {
   "cell_type": "code",
   "execution_count": 71,
   "metadata": {},
   "outputs": [
    {
     "data": {
      "text/html": [
       "<div>\n",
       "<style scoped>\n",
       "    .dataframe tbody tr th:only-of-type {\n",
       "        vertical-align: middle;\n",
       "    }\n",
       "\n",
       "    .dataframe tbody tr th {\n",
       "        vertical-align: top;\n",
       "    }\n",
       "\n",
       "    .dataframe thead th {\n",
       "        text-align: right;\n",
       "    }\n",
       "</style>\n",
       "<table border=\"1\" class=\"dataframe\">\n",
       "  <thead>\n",
       "    <tr style=\"text-align: right;\">\n",
       "      <th></th>\n",
       "      <th>Market Size</th>\n",
       "      <th>Sigma</th>\n",
       "      <th>% Commonality</th>\n",
       "      <th>Commonality SD</th>\n",
       "      <th>Simulation Count</th>\n",
       "    </tr>\n",
       "  </thead>\n",
       "  <tbody>\n",
       "    <tr>\n",
       "      <th>0</th>\n",
       "      <td>10</td>\n",
       "      <td>0.001</td>\n",
       "      <td>1.000000</td>\n",
       "      <td>0.000000</td>\n",
       "      <td>500</td>\n",
       "    </tr>\n",
       "    <tr>\n",
       "      <th>1</th>\n",
       "      <td>10</td>\n",
       "      <td>0.010</td>\n",
       "      <td>1.000000</td>\n",
       "      <td>0.000000</td>\n",
       "      <td>500</td>\n",
       "    </tr>\n",
       "    <tr>\n",
       "      <th>2</th>\n",
       "      <td>10</td>\n",
       "      <td>0.100</td>\n",
       "      <td>0.987200</td>\n",
       "      <td>0.049000</td>\n",
       "      <td>500</td>\n",
       "    </tr>\n",
       "    <tr>\n",
       "      <th>3</th>\n",
       "      <td>10</td>\n",
       "      <td>0.300</td>\n",
       "      <td>0.919800</td>\n",
       "      <td>0.126728</td>\n",
       "      <td>500</td>\n",
       "    </tr>\n",
       "    <tr>\n",
       "      <th>4</th>\n",
       "      <td>50</td>\n",
       "      <td>0.001</td>\n",
       "      <td>1.000000</td>\n",
       "      <td>0.000000</td>\n",
       "      <td>500</td>\n",
       "    </tr>\n",
       "    <tr>\n",
       "      <th>5</th>\n",
       "      <td>50</td>\n",
       "      <td>0.010</td>\n",
       "      <td>1.000000</td>\n",
       "      <td>0.000000</td>\n",
       "      <td>500</td>\n",
       "    </tr>\n",
       "    <tr>\n",
       "      <th>6</th>\n",
       "      <td>50</td>\n",
       "      <td>0.100</td>\n",
       "      <td>0.932320</td>\n",
       "      <td>0.054741</td>\n",
       "      <td>500</td>\n",
       "    </tr>\n",
       "    <tr>\n",
       "      <th>7</th>\n",
       "      <td>50</td>\n",
       "      <td>0.300</td>\n",
       "      <td>0.900760</td>\n",
       "      <td>0.079388</td>\n",
       "      <td>500</td>\n",
       "    </tr>\n",
       "    <tr>\n",
       "      <th>8</th>\n",
       "      <td>500</td>\n",
       "      <td>0.001</td>\n",
       "      <td>0.999992</td>\n",
       "      <td>0.000179</td>\n",
       "      <td>500</td>\n",
       "    </tr>\n",
       "    <tr>\n",
       "      <th>9</th>\n",
       "      <td>500</td>\n",
       "      <td>0.010</td>\n",
       "      <td>0.938716</td>\n",
       "      <td>0.017182</td>\n",
       "      <td>500</td>\n",
       "    </tr>\n",
       "    <tr>\n",
       "      <th>10</th>\n",
       "      <td>500</td>\n",
       "      <td>0.100</td>\n",
       "      <td>0.950356</td>\n",
       "      <td>0.021799</td>\n",
       "      <td>500</td>\n",
       "    </tr>\n",
       "    <tr>\n",
       "      <th>11</th>\n",
       "      <td>500</td>\n",
       "      <td>0.300</td>\n",
       "      <td>0.877276</td>\n",
       "      <td>0.050852</td>\n",
       "      <td>500</td>\n",
       "    </tr>\n",
       "  </tbody>\n",
       "</table>\n",
       "</div>"
      ],
      "text/plain": [
       "    Market Size  Sigma  % Commonality  Commonality SD  Simulation Count\n",
       "0            10  0.001       1.000000        0.000000               500\n",
       "1            10  0.010       1.000000        0.000000               500\n",
       "2            10  0.100       0.987200        0.049000               500\n",
       "3            10  0.300       0.919800        0.126728               500\n",
       "4            50  0.001       1.000000        0.000000               500\n",
       "5            50  0.010       1.000000        0.000000               500\n",
       "6            50  0.100       0.932320        0.054741               500\n",
       "7            50  0.300       0.900760        0.079388               500\n",
       "8           500  0.001       0.999992        0.000179               500\n",
       "9           500  0.010       0.938716        0.017182               500\n",
       "10          500  0.100       0.950356        0.021799               500\n",
       "11          500  0.300       0.877276        0.050852               500"
      ]
     },
     "execution_count": 71,
     "metadata": {},
     "output_type": "execute_result"
    }
   ],
   "source": [
    "deliverable"
   ]
  },
  {
   "cell_type": "code",
   "execution_count": null,
   "metadata": {},
   "outputs": [],
   "source": []
  }
 ],
 "metadata": {
  "kernelspec": {
   "display_name": "Python 3",
   "language": "python",
   "name": "python3"
  },
  "language_info": {
   "codemirror_mode": {
    "name": "ipython",
    "version": 3
   },
   "file_extension": ".py",
   "mimetype": "text/x-python",
   "name": "python",
   "nbconvert_exporter": "python",
   "pygments_lexer": "ipython3",
   "version": "3.6.5"
  }
 },
 "nbformat": 4,
 "nbformat_minor": 2
}

{
 "cells": [
  {
   "cell_type": "markdown",
   "metadata": {},
   "source": [
    "# Correlated Preferences Simluation\n",
    "### Tyler Hoppenfeld\n",
    "\n",
    "This notebook is intended to explore the question of whether markets behave differently depending on whether agents have common or idiosynchratic preferences. The most ambitious version of my working hypothesis might be phrased as\n",
    ">\"Getting markets right is both more important and more difficult when preferences are highly idiosynchratic.\"\n",
    "\n",
    "There are several research questions that seem to be derrivitave of this, in varying degrees of being well-formed:\n",
    "\n",
    "1. How do we define \"idiosynchratic preferences?\"\n",
    "2. How does our definition of idiosynchratic prefernces scale with market size?\n",
    "3. What do idiosynchratic preferences mean for stable latice size?\n",
    "4. What are the welfare implications of idiosynchratic preferences\n",
    "\n",
    "As of yet, this notebook proposes an ad-hoc answer to 1 and 2, and uses a simulation to hint at the answer to 3.\n",
    "\n",
    "To answer 1, I construct a standard marriage market with $N$ participants on each side, indexed ${M_1, M_2, ..., M_N, W_1, W_2,..., W_N}$\n",
    "\n",
    "I next construct preferences in which all particpents are mutually acceptable.  I begin by assigning a utility to each matching based on the participant's index number, so each man gets $1$ unit of utility from being matched to $W_1$, $ 2$ units from being matched to $W_2$, and so on up to $N$ units of utility from being matched to $W_N$.  This process gives $2 \\times N \\times N$ utility values.\n",
    "\n",
    "I then add a perturbation to each utility value.  The perturbation is drawn from  $N(0, \\sigma \\bar{U})$ where $\\bar{U}$ is the average utility for that economy and $\\sigma$ is the parameter that controlls the degree to which preferences are idiosynchratic.\n",
    "\n",
    "To produce the final complete preference, I sort by these utilities.\n",
    "\n",
    "\n",
    "Note two things:\n",
    "* this structure assumes an answer the question of what it means to hold idiosynchracy constant while scaling the market.  \n",
    "* expanding the economy in this model is equivilent to adding new entrants to the market without expanding the difference in utility from being matched to one's favorite or least-prefered partner\n",
    "\n",
    "After constructing these preferences I use a 3rd-party python package to implement the Gale-Shaply algorythm twice, once with men proposing and once with women proposing.  \n",
    "\n",
    "As a proxy for latice size, and following Al Roth's heuristic used in class, I calculate the fraction of agents who have a different partner in the man-optimal matching than in the woman-optimal matchng.\n",
    "\n",
    "\n",
    "This procedure constitutes a simulation of the economy.  I simulate each $N/\\sigma$ pair 100 times, averaging the results, and tabulate them below."
   ]
  },
  {
   "cell_type": "code",
   "execution_count": 1,
   "metadata": {},
   "outputs": [],
   "source": [
    "#Import packages used below\n",
    "from matching.algorithms import galeshapley\n",
    "import operator\n",
    "import random\n",
    "from IPython.core.debugger import set_trace\n",
    "import numpy as np\n",
    "import pandas as pd\n",
    "import multiprocess as mp \n"
   ]
  },
  {
   "cell_type": "code",
   "execution_count": 2,
   "metadata": {},
   "outputs": [],
   "source": [
    "#Set parameters \n",
    "#note that the parameters for N and sigma are set below within a program.\n",
    "#This is bad form, but I don't know how to do it correctly, so i'm documenting the bad practice here.\n",
    "\n",
    "runs = 2"
   ]
  },
  {
   "cell_type": "code",
   "execution_count": 3,
   "metadata": {},
   "outputs": [],
   "source": [
    "\n",
    "#define simulation function that implements the process outlined in the text above\n",
    "def GS_Sim(\n",
    "    n ,\n",
    "    sigma_fraction \n",
    "):\n",
    "    #make randomly assigned preferences\n",
    "    Mpref = {}\n",
    "    Wpref = {}\n",
    "    \n",
    "    #scale sigma\n",
    "    sigma = sigma_fraction * n /2\n",
    "    for i in range(0, n):\n",
    "        utility = []\n",
    "        for x in range(0,n):\n",
    "            id = 'W' + str(x)\n",
    "            utility = utility + [(id, random.normalvariate(x, sigma))]\n",
    "        utility.sort(key=operator.itemgetter(1))\n",
    "\n",
    "        ranklist = []\n",
    "        for x in utility:\n",
    "            name = [x[0]]\n",
    "            ranklist = ranklist + name\n",
    "        id = 'M' + str(i)\n",
    "        Mpref.update({id:ranklist})\n",
    "\n",
    "    #copypasta from above\n",
    "    for i in range(0, n):\n",
    "        utility = []\n",
    "        for x in range(0,n):\n",
    "            id = 'M' + str(x)\n",
    "            utility = utility + [(id, random.normalvariate(x, sigma))]\n",
    "        utility.sort(key=operator.itemgetter(1))\n",
    "\n",
    "        ranklist = []\n",
    "        for x in utility:\n",
    "            name = [x[0]]\n",
    "            ranklist = ranklist + name\n",
    "        id = 'W' + str(i)\n",
    "        Wpref.update({id:ranklist})\n",
    "\n",
    "    #Run matching\n",
    "    M_propose= galeshapley(Mpref, Wpref)\n",
    "    W_propose = galeshapley(Wpref, Mpref)\n",
    "\n",
    "    #transform matchings into same-format list of tuples\n",
    "    M_propose = list(M_propose.items())\n",
    "    W_propose = [(v, k) for k, v in W_propose.items()]\n",
    "\n",
    "    #sort matchings\n",
    "    M_propose.sort(key=operator.itemgetter(0))\n",
    "    W_propose.sort(key=operator.itemgetter(0))\n",
    "    M_propose\n",
    "    #Find % differences\n",
    "    differences = (np.array(M_propose) == np.array(W_propose))\n",
    "\n",
    "    percent_diff = np.average(differences, axis = 0).item(1)\n",
    "    \n",
    "    next_result = (n, sigma_fraction, percent_diff)\n",
    "    return next_result\n",
    "    \n",
    "\n",
    "\n"
   ]
  },
  {
   "cell_type": "code",
   "execution_count": 14,
   "metadata": {},
   "outputs": [],
   "source": [
    "# an intermediate simulation program to allow me to parallelize the calculations\n",
    "def simulate(x):\n",
    "    #Note that, as noted above, I define the parameters here, within a program. This is bad, but c'est la vie.\n",
    "    sizes = [10, 50, 500]\n",
    "    sigmas = [.3, .1, .01]\n",
    "    #Slopyness ends here\n",
    "    \n",
    "    result = []\n",
    "    for n in sizes:\n",
    "        for sigma_fraction in sigmas:\n",
    "            result =result + [GS_Sim(n, sigma_fraction)]\n",
    "    return result\n",
    "\n",
    "\n",
    "\n",
    "#Call the simulation 100 times and combine the results into a big list\n",
    "with mp.Pool(8) as p:\n",
    "    results = p.map(simulate, range(runs))\n",
    "    "
   ]
  },
  {
   "cell_type": "code",
   "execution_count": 23,
   "metadata": {},
   "outputs": [
    {
     "data": {
      "text/plain": [
       "[(10, 0.3, 0.6),\n",
       " (10, 0.1, 1.0),\n",
       " (10, 0.01, 1.0),\n",
       " (50, 0.3, 1.0),\n",
       " (50, 0.1, 1.0),\n",
       " (50, 0.01, 1.0),\n",
       " (500, 0.3, 0.956),\n",
       " (500, 0.1, 0.984),\n",
       " (500, 0.01, 0.926),\n",
       " (10, 0.3, 0.8),\n",
       " (10, 0.1, 1.0),\n",
       " (10, 0.01, 1.0),\n",
       " (50, 0.3, 0.84),\n",
       " (50, 0.1, 1.0),\n",
       " (50, 0.01, 1.0),\n",
       " (500, 0.3, 0.934),\n",
       " (500, 0.1, 0.94),\n",
       " (500, 0.01, 0.936)]"
      ]
     },
     "execution_count": 23,
     "metadata": {},
     "output_type": "execute_result"
    }
   ],
   "source": [
    "results"
   ]
  },
  {
   "cell_type": "code",
   "execution_count": 37,
   "metadata": {},
   "outputs": [],
   "source": [
    "\n",
    "#flatten the list:\n",
    "\n",
    "def flatten(l):\n",
    "  out = []\n",
    "  for item in l:\n",
    "    if isinstance(item, (list)):\n",
    "      out.extend(flatten(item))\n",
    "    else:\n",
    "      out.append(item)\n",
    "  return out\n",
    "\n",
    "flat_results = flatten(results) \n",
    "\n",
    "#Take group averages within the simulation\n",
    "simulation_results = pd.DataFrame(flat_results,columns=['n', 'sigma_fraction','delta_fraction' ])\n",
    "deliverable = simulation_results.groupby(['n','sigma_fraction'])['delta_fraction'].mean().reset_index()\n",
    "\n"
   ]
  },
  {
   "cell_type": "code",
   "execution_count": 21,
   "metadata": {},
   "outputs": [
    {
     "data": {
      "text/plain": [
       "[(10, 0.3, 0.6),\n",
       " (10, 0.1, 1.0),\n",
       " (10, 0.01, 1.0),\n",
       " (50, 0.3, 1.0),\n",
       " (50, 0.1, 1.0),\n",
       " (50, 0.01, 1.0),\n",
       " (500, 0.3, 0.956),\n",
       " (500, 0.1, 0.984),\n",
       " (500, 0.01, 0.926),\n",
       " (10, 0.3, 0.8),\n",
       " (10, 0.1, 1.0),\n",
       " (10, 0.01, 1.0),\n",
       " (50, 0.3, 0.84),\n",
       " (50, 0.1, 1.0),\n",
       " (50, 0.01, 1.0),\n",
       " (500, 0.3, 0.934),\n",
       " (500, 0.1, 0.94),\n",
       " (500, 0.01, 0.936)]"
      ]
     },
     "execution_count": 21,
     "metadata": {},
     "output_type": "execute_result"
    }
   ],
   "source": []
  },
  {
   "cell_type": "code",
   "execution_count": 18,
   "metadata": {},
   "outputs": [
    {
     "data": {
      "text/plain": [
       "[[(10, 0.3, 0.6),\n",
       "  (10, 0.1, 1.0),\n",
       "  (10, 0.01, 1.0),\n",
       "  (50, 0.3, 1.0),\n",
       "  (50, 0.1, 1.0),\n",
       "  (50, 0.01, 1.0),\n",
       "  (500, 0.3, 0.956),\n",
       "  (500, 0.1, 0.984),\n",
       "  (500, 0.01, 0.926)],\n",
       " [(10, 0.3, 0.8),\n",
       "  (10, 0.1, 1.0),\n",
       "  (10, 0.01, 1.0),\n",
       "  (50, 0.3, 0.84),\n",
       "  (50, 0.1, 1.0),\n",
       "  (50, 0.01, 1.0),\n",
       "  (500, 0.3, 0.934),\n",
       "  (500, 0.1, 0.94),\n",
       "  (500, 0.01, 0.936)]]"
      ]
     },
     "execution_count": 18,
     "metadata": {},
     "output_type": "execute_result"
    }
   ],
   "source": [
    "out"
   ]
  },
  {
   "cell_type": "code",
   "execution_count": 6,
   "metadata": {},
   "outputs": [
    {
     "ename": "NameError",
     "evalue": "name 'multiply2' is not defined",
     "output_type": "error",
     "traceback": [
      "\u001b[0;31m---------------------------------------------------------------------------\u001b[0m",
      "\u001b[0;31mNameError\u001b[0m                                 Traceback (most recent call last)",
      "\u001b[0;32m<ipython-input-6-9d66a7a099d5>\u001b[0m in \u001b[0;36m<module>\u001b[0;34m()\u001b[0m\n\u001b[1;32m      1\u001b[0m \u001b[0;34m\u001b[0m\u001b[0m\n\u001b[0;32m----> 2\u001b[0;31m \u001b[0mresults\u001b[0m \u001b[0;34m=\u001b[0m \u001b[0mmap\u001b[0m\u001b[0;34m(\u001b[0m\u001b[0mmultiply2\u001b[0m\u001b[0;34m,\u001b[0m \u001b[0;34m[\u001b[0m\u001b[0;36m1\u001b[0m\u001b[0;34m,\u001b[0m \u001b[0;36m2\u001b[0m\u001b[0;34m,\u001b[0m \u001b[0;36m3\u001b[0m\u001b[0;34m,\u001b[0m \u001b[0;36m4\u001b[0m\u001b[0;34m]\u001b[0m\u001b[0;34m)\u001b[0m\u001b[0;34m\u001b[0m\u001b[0m\n\u001b[0m\u001b[1;32m      3\u001b[0m \u001b[0mprint\u001b[0m\u001b[0;34m(\u001b[0m\u001b[0mresults\u001b[0m\u001b[0;34m)\u001b[0m\u001b[0;34m\u001b[0m\u001b[0m\n\u001b[1;32m      4\u001b[0m \u001b[0mresults\u001b[0m\u001b[0;34m\u001b[0m\u001b[0m\n",
      "\u001b[0;31mNameError\u001b[0m: name 'multiply2' is not defined"
     ]
    }
   ],
   "source": [
    "\n"
   ]
  },
  {
   "cell_type": "markdown",
   "metadata": {},
   "source": [
    "def f(real):\n",
    "    return('bob')\n",
    "\n",
    "\n",
    "mp.Pool(8)\n",
    "results = mp.Pool.map(multiply2,[1, 2, 3, 4]) \n",
    "mp.Pool(close)\n",
    "print(results)"
   ]
  },
  {
   "cell_type": "code",
   "execution_count": null,
   "metadata": {},
   "outputs": [],
   "source": [
    "def f(x):\n",
    "    return x*x\n",
    "def multiply2(x):\n",
    "    res = ( x, x*2)\n",
    "    return res\n",
    "    \n",
    "with mp.Pool(5) as p:\n",
    "    print(p.map(multiply2, [1, 2, 3]))\n",
    "    \n"
   ]
  },
  {
   "cell_type": "code",
   "execution_count": null,
   "metadata": {},
   "outputs": [],
   "source": []
  }
 ],
 "metadata": {
  "kernelspec": {
   "display_name": "Python 3",
   "language": "python",
   "name": "python3"
  },
  "language_info": {
   "codemirror_mode": {
    "name": "ipython",
    "version": 3
   },
   "file_extension": ".py",
   "mimetype": "text/x-python",
   "name": "python",
   "nbconvert_exporter": "python",
   "pygments_lexer": "ipython3",
   "version": "3.6.5"
  }
 },
 "nbformat": 4,
 "nbformat_minor": 2
}
